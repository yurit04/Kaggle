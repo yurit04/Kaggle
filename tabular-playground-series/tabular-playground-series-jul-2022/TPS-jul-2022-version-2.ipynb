{
 "cells": [
  {
   "cell_type": "code",
   "execution_count": null,
   "id": "fc7ba8d7-8ebb-4d58-8175-fe1b466b0e6a",
   "metadata": {},
   "outputs": [],
   "source": [
    "import gc, random, os\n",
    "import numpy as np\n",
    "import pandas as pd\n",
    "import matplotlib.pyplot as plt\n",
    "import matplotlib as mpl\n",
    "import seaborn as sns\n",
    "sns.set_theme()\n",
    "\n",
    "from matplotlib.ticker import FixedLocator, FixedFormatter\n",
    "\n",
    "from sklearn.cluster import DBSCAN, KMeans, MiniBatchKMeans\n",
    "from sklearn.metrics import silhouette_score, silhouette_samples\n",
    "from sklearn.model_selection import train_test_split, cross_val_score, KFold, StratifiedKFold\n",
    "from sklearn.preprocessing import MinMaxScaler, StandardScaler, PowerTransformer, QuantileTransformer\n",
    "from sklearn.mixture import BayesianGaussianMixture, GaussianMixture\n",
    "from sklearn.decomposition import PCA\n",
    "from sklearn import metrics\n",
    "\n",
    "from scipy import stats\n",
    "from scipy.stats import norm\n",
    "\n",
    "import lightgbm as lgb\n",
    "import xgboost as xgb\n",
    "import catboost as cb\n",
    "\n",
    "import tensorflow as tf\n",
    "from tensorflow.keras import models\n",
    "from tensorflow.keras import layers\n",
    "from tensorflow.keras import optimizers\n",
    "from tensorflow.keras import callbacks\n",
    "\n",
    "import optuna"
   ]
  },
  {
   "cell_type": "markdown",
   "id": "ad860f58-32ef-407d-8ec9-2d3f9d0bcda5",
   "metadata": {},
   "source": [
    "## Seed everything"
   ]
  },
  {
   "cell_type": "code",
   "execution_count": null,
   "id": "ee54b00b-2ba0-446c-bdd8-88967c8e6853",
   "metadata": {},
   "outputs": [],
   "source": [
    "seed = 42\n",
    "\n",
    "os.environ['PYTHONHASHSEED'] = str(seed)\n",
    "np.random.seed(seed)"
   ]
  },
  {
   "cell_type": "markdown",
   "id": "b527ad1a-c8e6-4784-af21-6c066266fd1b",
   "metadata": {},
   "source": [
    "## Load Data"
   ]
  },
  {
   "cell_type": "code",
   "execution_count": null,
   "id": "a06cdc49-0690-4c11-b062-02a03c1a6b29",
   "metadata": {},
   "outputs": [],
   "source": [
    "df = pd.read_csv('../../../Data/Tabular Playground Series/tabular-playground-series-jul-2022/data.csv')\n",
    "df.shape"
   ]
  },
  {
   "cell_type": "code",
   "execution_count": null,
   "id": "a9f90fa4-61f8-4a72-9f9d-d6a973c46e65",
   "metadata": {},
   "outputs": [],
   "source": [
    "df.head(2)"
   ]
  },
  {
   "cell_type": "code",
   "execution_count": null,
   "id": "f0f14d36-a3bf-4b7d-99c3-7454881a4632",
   "metadata": {},
   "outputs": [],
   "source": [
    "X_train = df.drop('id', axis=1)"
   ]
  },
  {
   "cell_type": "code",
   "execution_count": null,
   "id": "81da036b-763c-48c5-aa4e-8f0129afbb99",
   "metadata": {},
   "outputs": [],
   "source": [
    "X_train.head(2)"
   ]
  },
  {
   "cell_type": "code",
   "execution_count": null,
   "id": "4fc0775e-969f-4863-8ebf-11f5c377308f",
   "metadata": {},
   "outputs": [],
   "source": [
    "X_train.describe().T"
   ]
  },
  {
   "cell_type": "code",
   "execution_count": null,
   "id": "bcd2314d-1f68-4a5b-b4fd-dcffa902b074",
   "metadata": {},
   "outputs": [],
   "source": [
    "X_train.info()"
   ]
  },
  {
   "cell_type": "code",
   "execution_count": null,
   "id": "a92da8cb-a8c2-4a19-b021-14dad9354fe4",
   "metadata": {},
   "outputs": [],
   "source": [
    "X_train.boxplot(figsize=(24,4))"
   ]
  },
  {
   "cell_type": "markdown",
   "id": "e62502a2-d2e1-441f-984b-9f0584dd41b4",
   "metadata": {},
   "source": [
    "## Probably a good idea to scale the data"
   ]
  },
  {
   "cell_type": "code",
   "execution_count": null,
   "id": "53b7ea2b-12a8-44b2-878b-5596b745cbea",
   "metadata": {},
   "outputs": [],
   "source": [
    "# standard_scaler = StandardScaler()\n",
    "# X_train = pd.DataFrame(standard_scaler.fit_transform(X_train), columns=X_train.columns)\n",
    "\n",
    "power_transformer = PowerTransformer()\n",
    "X_train = pd.DataFrame(power_transformer.fit_transform(X_train), columns=X_train.columns)\n",
    "\n",
    "X_train.head(2)"
   ]
  },
  {
   "cell_type": "code",
   "execution_count": null,
   "id": "44258095-5a79-4b9b-bc6a-d846648f1c4c",
   "metadata": {},
   "outputs": [],
   "source": [
    "X_train.boxplot(figsize=(24,4))"
   ]
  },
  {
   "cell_type": "code",
   "execution_count": null,
   "id": "02e6d97e-9258-42f7-8485-fb402ba1e394",
   "metadata": {},
   "outputs": [],
   "source": [
    "# for col in X_train.columns:    \n",
    "#     plt.figure(figsize=(5,5))\n",
    "#     res = stats.probplot(X_train[col], plot=plt)"
   ]
  },
  {
   "cell_type": "markdown",
   "id": "91d5f726-ea9e-4bb9-9370-a07a44c3456d",
   "metadata": {},
   "source": [
    "## Let's remove outliers from all columns "
   ]
  },
  {
   "cell_type": "code",
   "execution_count": null,
   "id": "5024c5a7-d116-492e-b4ff-480dd9830270",
   "metadata": {},
   "outputs": [],
   "source": [
    "X_train_orig = X_train.copy(deep=True)\n",
    "\n",
    "print(f'X_train.shape={X_train.shape}')\n",
    "\n",
    "for col in X_train.columns:\n",
    "    mean = X_train[col].mean()\n",
    "    std  = X_train[col].std()\n",
    "    \n",
    "    upper_bound = mean + 3*std\n",
    "    lower_bound = mean - 3*std\n",
    "    \n",
    "    X_train = X_train[(X_train[col] > lower_bound) & (X_train[col] < upper_bound)]\n",
    "    \n",
    "print(f'X_train.shape={X_train.shape}')"
   ]
  },
  {
   "cell_type": "markdown",
   "id": "71da7032-ce0b-4cf9-96b3-5ce90f0d6212",
   "metadata": {},
   "source": [
    "## Let's look at quantiles plots again"
   ]
  },
  {
   "cell_type": "code",
   "execution_count": null,
   "id": "0726243e-7986-4b6d-8166-ecacea268c9b",
   "metadata": {},
   "outputs": [],
   "source": [
    "# for col in X_train.columns:    \n",
    "#     plt.figure(figsize=(5,5))\n",
    "#     res = stats.probplot(X_train[col], plot=plt)"
   ]
  },
  {
   "cell_type": "code",
   "execution_count": null,
   "id": "68100213-bb60-4e91-b326-bb1df54c30d9",
   "metadata": {},
   "outputs": [],
   "source": [
    "# X_train.boxplot(figsize=(16,4))"
   ]
  },
  {
   "cell_type": "markdown",
   "id": "37ac4a6f-db92-444b-981f-e638e4af78b2",
   "metadata": {},
   "source": [
    "# How much of the variance each number of components explain?\n",
    "\n",
    "* We see that on average each new component adds about 4% of explained variance (with an exception of the first 2 components, where contribution is 6.21% and 4.93%."
   ]
  },
  {
   "cell_type": "code",
   "execution_count": null,
   "id": "b18fcf99-6634-4f54-bfde-76e30bf81a71",
   "metadata": {},
   "outputs": [],
   "source": [
    "for n in range(1,30):\n",
    "    pca = PCA(n_components=n, random_state=seed)\n",
    "\n",
    "    p = pca.fit_transform(X_train)\n",
    "\n",
    "    inv_transform = pca.inverse_transform(p)\n",
    "\n",
    "    plt.figure(figsize=(12,2))\n",
    "    pd.DataFrame(inv_transform, columns=X_train.columns).std().plot.bar(title=f'n_components={n} | variance explained={np.round(np.sum(pca.explained_variance_ratio_)*100,2)}')"
   ]
  },
  {
   "cell_type": "markdown",
   "id": "029b2cd7-674e-4554-8089-6e0582432d27",
   "metadata": {},
   "source": [
    "## Let's use BGM on 7 clusters to build a supervised learning problem"
   ]
  },
  {
   "cell_type": "code",
   "execution_count": null,
   "id": "e455cc2c-e2e8-4801-9968-0ae9d8a639e9",
   "metadata": {},
   "outputs": [],
   "source": [
    "bgm = BayesianGaussianMixture(\n",
    "    n_components=7, \n",
    "    covariance_type='full', \n",
    "    max_iter=300, \n",
    "    random_state=seed, \n",
    "    n_init=15\n",
    ")\n",
    "\n",
    "bgm.fit(X_train)"
   ]
  },
  {
   "cell_type": "code",
   "execution_count": null,
   "id": "455ed2e1-7852-4894-b163-a8f56dee0eb7",
   "metadata": {},
   "outputs": [],
   "source": [
    "bgm.converged_"
   ]
  },
  {
   "cell_type": "code",
   "execution_count": null,
   "id": "49484765-8a4f-4e3a-a463-b13266aff7c2",
   "metadata": {},
   "outputs": [],
   "source": [
    "plt.plot(bgm.weights_)"
   ]
  },
  {
   "cell_type": "code",
   "execution_count": null,
   "id": "bd7e463e-0c02-45cf-8e3d-d5419c1744d5",
   "metadata": {},
   "outputs": [],
   "source": [
    "y_train = bgm.predict(X_train)\n",
    "proba = bgm.predict_proba(X_train)"
   ]
  },
  {
   "cell_type": "code",
   "execution_count": null,
   "id": "dfd7d9f3-7696-46cc-b51d-58425575af56",
   "metadata": {},
   "outputs": [],
   "source": [
    "y_train[:5]"
   ]
  },
  {
   "cell_type": "code",
   "execution_count": null,
   "id": "86f8ad9c-e0bb-4626-93d7-561579c581e1",
   "metadata": {},
   "outputs": [],
   "source": [
    "np.round(proba[:10],2)"
   ]
  },
  {
   "cell_type": "code",
   "execution_count": null,
   "id": "010d6e5c-ae23-49a5-a3f8-5ed771fd47be",
   "metadata": {},
   "outputs": [],
   "source": [
    "max_proba = np.max(proba,axis=1)"
   ]
  },
  {
   "cell_type": "code",
   "execution_count": null,
   "id": "4e2e2fc6-71d5-46d1-95dd-0aa7f14db1c0",
   "metadata": {},
   "outputs": [],
   "source": [
    "max_proba[:10]"
   ]
  },
  {
   "cell_type": "code",
   "execution_count": null,
   "id": "8b2bb8ff-6aa8-4e2e-abbb-3b01fd0ef5ee",
   "metadata": {},
   "outputs": [],
   "source": [
    "_ = plt.hist(max_proba, bins=50)"
   ]
  },
  {
   "cell_type": "code",
   "execution_count": null,
   "id": "c28fc779-3c2d-4593-8a32-a84b965b3428",
   "metadata": {},
   "outputs": [],
   "source": [
    "sns.boxplot(data=max_proba)"
   ]
  },
  {
   "cell_type": "code",
   "execution_count": null,
   "id": "d3fe5e8f-8e82-4648-90c3-ff0a81db7174",
   "metadata": {},
   "outputs": [],
   "source": [
    "sure_idx = max_proba >= 0.7"
   ]
  },
  {
   "cell_type": "code",
   "execution_count": null,
   "id": "c49e150e-3e6a-44e4-bfdf-2c06cab9884f",
   "metadata": {},
   "outputs": [],
   "source": [
    "sure_samples = X_train[sure_idx]\n",
    "sure_y = y_train[sure_idx]\n",
    "print(f'sure_samples.shape={sure_samples.shape}')\n",
    "print(f'sure_y.shape={sure_y.shape}')"
   ]
  },
  {
   "cell_type": "code",
   "execution_count": null,
   "id": "8d96e2f4-dc8d-4f3f-8d8e-2e0257f12806",
   "metadata": {},
   "outputs": [],
   "source": [
    "sure_samples.head(2)"
   ]
  },
  {
   "cell_type": "code",
   "execution_count": null,
   "id": "ff5ed1e7-90d3-4307-8b94-5ec375d4be36",
   "metadata": {},
   "outputs": [],
   "source": [
    "def objective(trial, n_splits=10, shuffle=True, get_info=False):\n",
    "    \n",
    "    param = {        \n",
    "        'verbose': 0,\n",
    "        'random_state': seed,\n",
    "        'loss_function': 'MultiClass',\n",
    "        'task_type': 'GPU',\n",
    "        'iterations': trial.suggest_int('iterations', 10, 1000, 10),\n",
    "        'depth': trial.suggest_int('depth', 1, 8),\n",
    "        'learning_rate': trial.suggest_loguniform('learning_rate', 0.01, 1),\n",
    "        'random_strength': trial.suggest_uniform('random_strength', 1e-9, 10),\n",
    "        'bagging_temperature': trial.suggest_uniform('bagging_temperature', 0, 1),\n",
    "        'border_count': trial.suggest_int('border_count', 1, 255),\n",
    "        'l2_leaf_reg': trial.suggest_loguniform('l2_leaf_reg', 1e-3, 30),\n",
    "    }\n",
    "    \n",
    "    model = cb.CatBoostClassifier(**param)\n",
    "    \n",
    "    kf = StratifiedKFold(n_splits=n_splits, shuffle=shuffle, random_state=seed)    \n",
    "    \n",
    "    scores = []\n",
    "    models = []\n",
    "\n",
    "    for train_index, test_index in kf.split(sure_samples, sure_y): \n",
    "\n",
    "        train_dataset = cb.Pool(\n",
    "            data=sure_samples.iloc[train_index,:], \n",
    "            label=sure_y[train_index],\n",
    "        )\n",
    "        \n",
    "        eval_dataset = cb.Pool(\n",
    "            data=sure_samples.iloc[test_index,:], \n",
    "            label=sure_y[test_index],\n",
    "        )\n",
    "        \n",
    "        model.fit(\n",
    "            train_dataset,            \n",
    "            early_stopping_rounds=200,\n",
    "            verbose=0,            \n",
    "        )\n",
    "\n",
    "        y_test_pred = model.predict(eval_dataset).reshape(-1)\n",
    "        \n",
    "        score = metrics.adjusted_rand_score(\n",
    "            labels_true=sure_y[test_index],\n",
    "            labels_pred=y_test_pred\n",
    "        )\n",
    "        \n",
    "        scores.append(score)\n",
    "        models.append(model)\n",
    "\n",
    "    scores = np.array(scores)\n",
    "    \n",
    "    if get_info:\n",
    "        \n",
    "        info = {\n",
    "            'mean_score': np.mean(scores), \n",
    "            'score_std' : np.std(scores), \n",
    "            'scores': scores, \n",
    "            'models': models,\n",
    "        }\n",
    "        \n",
    "        return info\n",
    "    else:\n",
    "        return np.mean(scores)"
   ]
  },
  {
   "cell_type": "code",
   "execution_count": null,
   "id": "bac709c3-7b35-4002-a435-e6cad073536d",
   "metadata": {},
   "outputs": [],
   "source": [
    "study = optuna.create_study(direction='maximize', study_name='tps_clustering')\n",
    "study.optimize(objective, n_trials=10, show_progress_bar=True)"
   ]
  },
  {
   "cell_type": "code",
   "execution_count": null,
   "id": "a6797aff-b823-4566-ad48-94294a6591cf",
   "metadata": {},
   "outputs": [],
   "source": [
    "study.best_value"
   ]
  },
  {
   "cell_type": "code",
   "execution_count": null,
   "id": "5722075a-4a28-4882-b49f-e9a7cbb333eb",
   "metadata": {},
   "outputs": [],
   "source": [
    "study.best_params"
   ]
  },
  {
   "cell_type": "code",
   "execution_count": null,
   "id": "d8d0fd98-93bb-44d8-8bc2-c78d8d4ce384",
   "metadata": {},
   "outputs": [],
   "source": [
    "info = objective(optuna.trial.FixedTrial(study.best_params), get_info=True)"
   ]
  },
  {
   "cell_type": "code",
   "execution_count": null,
   "id": "d2bafedc-47e6-4f25-9d23-106e5ae55cf9",
   "metadata": {},
   "outputs": [],
   "source": [
    "best_models = info['models']"
   ]
  },
  {
   "cell_type": "markdown",
   "id": "d6d64dc9-d282-494a-9345-87242ae02ee9",
   "metadata": {},
   "source": [
    "## A bag of CatBoost models for predictions"
   ]
  },
  {
   "cell_type": "code",
   "execution_count": null,
   "id": "dd62b618-6dee-4243-8c2d-a7ffe9854b98",
   "metadata": {},
   "outputs": [],
   "source": [
    "predict_proba = 0\n",
    "\n",
    "for model in best_models:\n",
    "    predict_proba += model.predict_proba(X_train_orig)"
   ]
  },
  {
   "cell_type": "code",
   "execution_count": null,
   "id": "1e7c8c8d-1496-4608-ad63-ed4c09fdf4a0",
   "metadata": {},
   "outputs": [],
   "source": [
    "predictions = np.argmax(predict_proba, axis=1)\n",
    "predictions[:5]"
   ]
  },
  {
   "cell_type": "code",
   "execution_count": null,
   "id": "2aec194b-5c23-40d4-94b2-68b29bdae676",
   "metadata": {},
   "outputs": [],
   "source": [
    "submission = pd.read_csv('../../../Data/Tabular Playground Series/tabular-playground-series-jul-2022/sample_submission.csv')\n",
    "submission['Predicted'] = predictions\n",
    "submission.to_csv(\"submission.csv\", index=False)"
   ]
  },
  {
   "cell_type": "markdown",
   "id": "3841e198-fcae-45d2-8c17-23211f88ec59",
   "metadata": {},
   "source": [
    "## ___"
   ]
  },
  {
   "cell_type": "markdown",
   "id": "b9cdb351-f335-451b-81f4-d0a4e7b153a3",
   "metadata": {},
   "source": [
    "### Leaderboard Score\n",
    "\n",
    "<img src=\"\">"
   ]
  },
  {
   "cell_type": "markdown",
   "id": "3ac35262-4553-44b7-8778-12527da1d4cc",
   "metadata": {},
   "source": [
    "# Ideas to try\n",
    "\n",
    "* blending and stacking models together\n",
    "* different threshold for sure_samples\n",
    "* sklearn.metrics.balanced_accuracy_score for metrics instead of adjusted_rand_index\n",
    "* roc_auc_score(labels, probas, average=\"weighted\", multi_class=\"ovo\") for metrics\n",
    "* ExtraTreesClassifier\n",
    "* KNN\n",
    "* Quadratic Discriminant Analysis\n",
    "* SVC\n",
    "* XGBoost\n",
    "* LightGBM"
   ]
  },
  {
   "cell_type": "code",
   "execution_count": null,
   "id": "dccbc25b-4c56-4f1a-9ff8-0b8da79f1fe4",
   "metadata": {},
   "outputs": [],
   "source": []
  }
 ],
 "metadata": {
  "kernelspec": {
   "display_name": "ml",
   "language": "python",
   "name": "ml"
  },
  "language_info": {
   "codemirror_mode": {
    "name": "ipython",
    "version": 3
   },
   "file_extension": ".py",
   "mimetype": "text/x-python",
   "name": "python",
   "nbconvert_exporter": "python",
   "pygments_lexer": "ipython3",
   "version": "3.8.8"
  }
 },
 "nbformat": 4,
 "nbformat_minor": 5
}
