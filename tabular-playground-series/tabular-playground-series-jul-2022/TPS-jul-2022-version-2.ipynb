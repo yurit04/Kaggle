{
 "cells": [
  {
   "cell_type": "code",
   "execution_count": 1,
   "id": "fc7ba8d7-8ebb-4d58-8175-fe1b466b0e6a",
   "metadata": {},
   "outputs": [],
   "source": [
    "import gc, random, os\n",
    "import numpy as np\n",
    "import pandas as pd\n",
    "import matplotlib.pyplot as plt\n",
    "import matplotlib as mpl\n",
    "import seaborn as sns\n",
    "sns.set_theme()\n",
    "\n",
    "from matplotlib.ticker import FixedLocator, FixedFormatter\n",
    "\n",
    "from sklearn.cluster import DBSCAN, KMeans, MiniBatchKMeans\n",
    "from sklearn.metrics import silhouette_score, silhouette_samples\n",
    "from sklearn.model_selection import train_test_split, cross_val_score, KFold, StratifiedKFold\n",
    "from sklearn.preprocessing import MinMaxScaler, StandardScaler, PowerTransformer, QuantileTransformer\n",
    "from sklearn.mixture import BayesianGaussianMixture, GaussianMixture\n",
    "from sklearn.decomposition import PCA\n",
    "from sklearn import metrics\n",
    "\n",
    "from scipy import stats\n",
    "from scipy.stats import norm\n",
    "\n",
    "import lightgbm as lgb\n",
    "import xgboost as xgb\n",
    "import catboost as cb\n",
    "\n",
    "import tensorflow as tf\n",
    "from tensorflow.keras import models\n",
    "from tensorflow.keras import layers\n",
    "from tensorflow.keras import optimizers\n",
    "from tensorflow.keras import callbacks\n",
    "\n",
    "import optuna"
   ]
  },
  {
   "cell_type": "markdown",
   "id": "ad860f58-32ef-407d-8ec9-2d3f9d0bcda5",
   "metadata": {},
   "source": [
    "## Seed everything"
   ]
  },
  {
   "cell_type": "code",
   "execution_count": 2,
   "id": "ee54b00b-2ba0-446c-bdd8-88967c8e6853",
   "metadata": {},
   "outputs": [],
   "source": [
    "seed = 42\n",
    "\n",
    "os.environ['PYTHONHASHSEED'] = str(seed)\n",
    "np.random.seed(seed)"
   ]
  },
  {
   "cell_type": "markdown",
   "id": "b527ad1a-c8e6-4784-af21-6c066266fd1b",
   "metadata": {},
   "source": [
    "## Load Data"
   ]
  },
  {
   "cell_type": "code",
   "execution_count": 3,
   "id": "a06cdc49-0690-4c11-b062-02a03c1a6b29",
   "metadata": {},
   "outputs": [
    {
     "data": {
      "text/plain": [
       "(98000, 30)"
      ]
     },
     "execution_count": 3,
     "metadata": {},
     "output_type": "execute_result"
    }
   ],
   "source": [
    "df = pd.read_csv('../../../Data/Tabular Playground Series/tabular-playground-series-jul-2022/data.csv')\n",
    "df.shape"
   ]
  },
  {
   "cell_type": "code",
   "execution_count": 4,
   "id": "a9f90fa4-61f8-4a72-9f9d-d6a973c46e65",
   "metadata": {},
   "outputs": [
    {
     "data": {
      "text/html": [
       "<div>\n",
       "<style scoped>\n",
       "    .dataframe tbody tr th:only-of-type {\n",
       "        vertical-align: middle;\n",
       "    }\n",
       "\n",
       "    .dataframe tbody tr th {\n",
       "        vertical-align: top;\n",
       "    }\n",
       "\n",
       "    .dataframe thead th {\n",
       "        text-align: right;\n",
       "    }\n",
       "</style>\n",
       "<table border=\"1\" class=\"dataframe\">\n",
       "  <thead>\n",
       "    <tr style=\"text-align: right;\">\n",
       "      <th></th>\n",
       "      <th>id</th>\n",
       "      <th>f_00</th>\n",
       "      <th>f_01</th>\n",
       "      <th>f_02</th>\n",
       "      <th>f_03</th>\n",
       "      <th>f_04</th>\n",
       "      <th>f_05</th>\n",
       "      <th>f_06</th>\n",
       "      <th>f_07</th>\n",
       "      <th>f_08</th>\n",
       "      <th>...</th>\n",
       "      <th>f_19</th>\n",
       "      <th>f_20</th>\n",
       "      <th>f_21</th>\n",
       "      <th>f_22</th>\n",
       "      <th>f_23</th>\n",
       "      <th>f_24</th>\n",
       "      <th>f_25</th>\n",
       "      <th>f_26</th>\n",
       "      <th>f_27</th>\n",
       "      <th>f_28</th>\n",
       "    </tr>\n",
       "  </thead>\n",
       "  <tbody>\n",
       "    <tr>\n",
       "      <th>0</th>\n",
       "      <td>0</td>\n",
       "      <td>-0.389420</td>\n",
       "      <td>-0.912791</td>\n",
       "      <td>0.648951</td>\n",
       "      <td>0.589045</td>\n",
       "      <td>-0.830817</td>\n",
       "      <td>0.733624</td>\n",
       "      <td>2.258560</td>\n",
       "      <td>2</td>\n",
       "      <td>13</td>\n",
       "      <td>...</td>\n",
       "      <td>-0.478412</td>\n",
       "      <td>-0.757002</td>\n",
       "      <td>-0.763635</td>\n",
       "      <td>-1.090369</td>\n",
       "      <td>1.142641</td>\n",
       "      <td>-0.884274</td>\n",
       "      <td>1.137896</td>\n",
       "      <td>1.309073</td>\n",
       "      <td>1.463002</td>\n",
       "      <td>0.813527</td>\n",
       "    </tr>\n",
       "    <tr>\n",
       "      <th>1</th>\n",
       "      <td>1</td>\n",
       "      <td>-0.689249</td>\n",
       "      <td>-0.453954</td>\n",
       "      <td>0.654175</td>\n",
       "      <td>0.995248</td>\n",
       "      <td>-1.653020</td>\n",
       "      <td>0.863810</td>\n",
       "      <td>-0.090651</td>\n",
       "      <td>2</td>\n",
       "      <td>3</td>\n",
       "      <td>...</td>\n",
       "      <td>-0.428791</td>\n",
       "      <td>-0.089908</td>\n",
       "      <td>-1.784204</td>\n",
       "      <td>-0.839474</td>\n",
       "      <td>0.459685</td>\n",
       "      <td>1.759412</td>\n",
       "      <td>-0.275422</td>\n",
       "      <td>-0.852168</td>\n",
       "      <td>0.562457</td>\n",
       "      <td>-2.680541</td>\n",
       "    </tr>\n",
       "  </tbody>\n",
       "</table>\n",
       "<p>2 rows × 30 columns</p>\n",
       "</div>"
      ],
      "text/plain": [
       "   id      f_00      f_01      f_02      f_03      f_04      f_05      f_06  \\\n",
       "0   0 -0.389420 -0.912791  0.648951  0.589045 -0.830817  0.733624  2.258560   \n",
       "1   1 -0.689249 -0.453954  0.654175  0.995248 -1.653020  0.863810 -0.090651   \n",
       "\n",
       "   f_07  f_08  ...      f_19      f_20      f_21      f_22      f_23  \\\n",
       "0     2    13  ... -0.478412 -0.757002 -0.763635 -1.090369  1.142641   \n",
       "1     2     3  ... -0.428791 -0.089908 -1.784204 -0.839474  0.459685   \n",
       "\n",
       "       f_24      f_25      f_26      f_27      f_28  \n",
       "0 -0.884274  1.137896  1.309073  1.463002  0.813527  \n",
       "1  1.759412 -0.275422 -0.852168  0.562457 -2.680541  \n",
       "\n",
       "[2 rows x 30 columns]"
      ]
     },
     "execution_count": 4,
     "metadata": {},
     "output_type": "execute_result"
    }
   ],
   "source": [
    "df.head(2)"
   ]
  },
  {
   "cell_type": "code",
   "execution_count": 5,
   "id": "f0f14d36-a3bf-4b7d-99c3-7454881a4632",
   "metadata": {},
   "outputs": [],
   "source": [
    "X_train = df.drop('id', axis=1)"
   ]
  },
  {
   "cell_type": "code",
   "execution_count": 6,
   "id": "81da036b-763c-48c5-aa4e-8f0129afbb99",
   "metadata": {},
   "outputs": [
    {
     "data": {
      "text/html": [
       "<div>\n",
       "<style scoped>\n",
       "    .dataframe tbody tr th:only-of-type {\n",
       "        vertical-align: middle;\n",
       "    }\n",
       "\n",
       "    .dataframe tbody tr th {\n",
       "        vertical-align: top;\n",
       "    }\n",
       "\n",
       "    .dataframe thead th {\n",
       "        text-align: right;\n",
       "    }\n",
       "</style>\n",
       "<table border=\"1\" class=\"dataframe\">\n",
       "  <thead>\n",
       "    <tr style=\"text-align: right;\">\n",
       "      <th></th>\n",
       "      <th>f_00</th>\n",
       "      <th>f_01</th>\n",
       "      <th>f_02</th>\n",
       "      <th>f_03</th>\n",
       "      <th>f_04</th>\n",
       "      <th>f_05</th>\n",
       "      <th>f_06</th>\n",
       "      <th>f_07</th>\n",
       "      <th>f_08</th>\n",
       "      <th>f_09</th>\n",
       "      <th>...</th>\n",
       "      <th>f_19</th>\n",
       "      <th>f_20</th>\n",
       "      <th>f_21</th>\n",
       "      <th>f_22</th>\n",
       "      <th>f_23</th>\n",
       "      <th>f_24</th>\n",
       "      <th>f_25</th>\n",
       "      <th>f_26</th>\n",
       "      <th>f_27</th>\n",
       "      <th>f_28</th>\n",
       "    </tr>\n",
       "  </thead>\n",
       "  <tbody>\n",
       "    <tr>\n",
       "      <th>0</th>\n",
       "      <td>-0.389420</td>\n",
       "      <td>-0.912791</td>\n",
       "      <td>0.648951</td>\n",
       "      <td>0.589045</td>\n",
       "      <td>-0.830817</td>\n",
       "      <td>0.733624</td>\n",
       "      <td>2.258560</td>\n",
       "      <td>2</td>\n",
       "      <td>13</td>\n",
       "      <td>14</td>\n",
       "      <td>...</td>\n",
       "      <td>-0.478412</td>\n",
       "      <td>-0.757002</td>\n",
       "      <td>-0.763635</td>\n",
       "      <td>-1.090369</td>\n",
       "      <td>1.142641</td>\n",
       "      <td>-0.884274</td>\n",
       "      <td>1.137896</td>\n",
       "      <td>1.309073</td>\n",
       "      <td>1.463002</td>\n",
       "      <td>0.813527</td>\n",
       "    </tr>\n",
       "    <tr>\n",
       "      <th>1</th>\n",
       "      <td>-0.689249</td>\n",
       "      <td>-0.453954</td>\n",
       "      <td>0.654175</td>\n",
       "      <td>0.995248</td>\n",
       "      <td>-1.653020</td>\n",
       "      <td>0.863810</td>\n",
       "      <td>-0.090651</td>\n",
       "      <td>2</td>\n",
       "      <td>3</td>\n",
       "      <td>6</td>\n",
       "      <td>...</td>\n",
       "      <td>-0.428791</td>\n",
       "      <td>-0.089908</td>\n",
       "      <td>-1.784204</td>\n",
       "      <td>-0.839474</td>\n",
       "      <td>0.459685</td>\n",
       "      <td>1.759412</td>\n",
       "      <td>-0.275422</td>\n",
       "      <td>-0.852168</td>\n",
       "      <td>0.562457</td>\n",
       "      <td>-2.680541</td>\n",
       "    </tr>\n",
       "  </tbody>\n",
       "</table>\n",
       "<p>2 rows × 29 columns</p>\n",
       "</div>"
      ],
      "text/plain": [
       "       f_00      f_01      f_02      f_03      f_04      f_05      f_06  f_07  \\\n",
       "0 -0.389420 -0.912791  0.648951  0.589045 -0.830817  0.733624  2.258560     2   \n",
       "1 -0.689249 -0.453954  0.654175  0.995248 -1.653020  0.863810 -0.090651     2   \n",
       "\n",
       "   f_08  f_09  ...      f_19      f_20      f_21      f_22      f_23  \\\n",
       "0    13    14  ... -0.478412 -0.757002 -0.763635 -1.090369  1.142641   \n",
       "1     3     6  ... -0.428791 -0.089908 -1.784204 -0.839474  0.459685   \n",
       "\n",
       "       f_24      f_25      f_26      f_27      f_28  \n",
       "0 -0.884274  1.137896  1.309073  1.463002  0.813527  \n",
       "1  1.759412 -0.275422 -0.852168  0.562457 -2.680541  \n",
       "\n",
       "[2 rows x 29 columns]"
      ]
     },
     "execution_count": 6,
     "metadata": {},
     "output_type": "execute_result"
    }
   ],
   "source": [
    "X_train.head(2)"
   ]
  },
  {
   "cell_type": "code",
   "execution_count": 7,
   "id": "4fc0775e-969f-4863-8ebf-11f5c377308f",
   "metadata": {},
   "outputs": [
    {
     "data": {
      "text/html": [
       "<div>\n",
       "<style scoped>\n",
       "    .dataframe tbody tr th:only-of-type {\n",
       "        vertical-align: middle;\n",
       "    }\n",
       "\n",
       "    .dataframe tbody tr th {\n",
       "        vertical-align: top;\n",
       "    }\n",
       "\n",
       "    .dataframe thead th {\n",
       "        text-align: right;\n",
       "    }\n",
       "</style>\n",
       "<table border=\"1\" class=\"dataframe\">\n",
       "  <thead>\n",
       "    <tr style=\"text-align: right;\">\n",
       "      <th></th>\n",
       "      <th>count</th>\n",
       "      <th>mean</th>\n",
       "      <th>std</th>\n",
       "      <th>min</th>\n",
       "      <th>25%</th>\n",
       "      <th>50%</th>\n",
       "      <th>75%</th>\n",
       "      <th>max</th>\n",
       "    </tr>\n",
       "  </thead>\n",
       "  <tbody>\n",
       "    <tr>\n",
       "      <th>f_00</th>\n",
       "      <td>98000.0</td>\n",
       "      <td>0.001220</td>\n",
       "      <td>1.002801</td>\n",
       "      <td>-4.732235</td>\n",
       "      <td>-0.675226</td>\n",
       "      <td>0.002022</td>\n",
       "      <td>0.677271</td>\n",
       "      <td>4.490521</td>\n",
       "    </tr>\n",
       "    <tr>\n",
       "      <th>f_01</th>\n",
       "      <td>98000.0</td>\n",
       "      <td>0.005580</td>\n",
       "      <td>1.000742</td>\n",
       "      <td>-4.202795</td>\n",
       "      <td>-0.670985</td>\n",
       "      <td>0.006650</td>\n",
       "      <td>0.677746</td>\n",
       "      <td>4.324974</td>\n",
       "    </tr>\n",
       "    <tr>\n",
       "      <th>f_02</th>\n",
       "      <td>98000.0</td>\n",
       "      <td>-0.001042</td>\n",
       "      <td>1.001373</td>\n",
       "      <td>-4.377021</td>\n",
       "      <td>-0.672779</td>\n",
       "      <td>-0.000324</td>\n",
       "      <td>0.677086</td>\n",
       "      <td>4.560247</td>\n",
       "    </tr>\n",
       "    <tr>\n",
       "      <th>f_03</th>\n",
       "      <td>98000.0</td>\n",
       "      <td>-0.000700</td>\n",
       "      <td>1.000422</td>\n",
       "      <td>-4.010826</td>\n",
       "      <td>-0.672540</td>\n",
       "      <td>-0.003185</td>\n",
       "      <td>0.672097</td>\n",
       "      <td>4.399373</td>\n",
       "    </tr>\n",
       "    <tr>\n",
       "      <th>f_04</th>\n",
       "      <td>98000.0</td>\n",
       "      <td>-0.003522</td>\n",
       "      <td>1.003061</td>\n",
       "      <td>-4.535903</td>\n",
       "      <td>-0.682510</td>\n",
       "      <td>-0.003307</td>\n",
       "      <td>0.677589</td>\n",
       "      <td>4.050549</td>\n",
       "    </tr>\n",
       "    <tr>\n",
       "      <th>f_05</th>\n",
       "      <td>98000.0</td>\n",
       "      <td>-0.001612</td>\n",
       "      <td>1.000532</td>\n",
       "      <td>-4.300767</td>\n",
       "      <td>-0.675066</td>\n",
       "      <td>0.001024</td>\n",
       "      <td>0.673344</td>\n",
       "      <td>4.710316</td>\n",
       "    </tr>\n",
       "    <tr>\n",
       "      <th>f_06</th>\n",
       "      <td>98000.0</td>\n",
       "      <td>-0.003042</td>\n",
       "      <td>0.997434</td>\n",
       "      <td>-4.894525</td>\n",
       "      <td>-0.680421</td>\n",
       "      <td>-0.002053</td>\n",
       "      <td>0.668112</td>\n",
       "      <td>3.998595</td>\n",
       "    </tr>\n",
       "    <tr>\n",
       "      <th>f_07</th>\n",
       "      <td>98000.0</td>\n",
       "      <td>5.545918</td>\n",
       "      <td>3.691840</td>\n",
       "      <td>0.000000</td>\n",
       "      <td>3.000000</td>\n",
       "      <td>5.000000</td>\n",
       "      <td>8.000000</td>\n",
       "      <td>32.000000</td>\n",
       "    </tr>\n",
       "    <tr>\n",
       "      <th>f_08</th>\n",
       "      <td>98000.0</td>\n",
       "      <td>6.763061</td>\n",
       "      <td>4.152348</td>\n",
       "      <td>0.000000</td>\n",
       "      <td>4.000000</td>\n",
       "      <td>6.000000</td>\n",
       "      <td>9.000000</td>\n",
       "      <td>30.000000</td>\n",
       "    </tr>\n",
       "    <tr>\n",
       "      <th>f_09</th>\n",
       "      <td>98000.0</td>\n",
       "      <td>8.193163</td>\n",
       "      <td>5.904919</td>\n",
       "      <td>0.000000</td>\n",
       "      <td>4.000000</td>\n",
       "      <td>7.000000</td>\n",
       "      <td>11.000000</td>\n",
       "      <td>44.000000</td>\n",
       "    </tr>\n",
       "    <tr>\n",
       "      <th>f_10</th>\n",
       "      <td>98000.0</td>\n",
       "      <td>8.057878</td>\n",
       "      <td>4.700226</td>\n",
       "      <td>0.000000</td>\n",
       "      <td>5.000000</td>\n",
       "      <td>7.000000</td>\n",
       "      <td>11.000000</td>\n",
       "      <td>36.000000</td>\n",
       "    </tr>\n",
       "    <tr>\n",
       "      <th>f_11</th>\n",
       "      <td>98000.0</td>\n",
       "      <td>8.084990</td>\n",
       "      <td>4.197106</td>\n",
       "      <td>0.000000</td>\n",
       "      <td>5.000000</td>\n",
       "      <td>8.000000</td>\n",
       "      <td>11.000000</td>\n",
       "      <td>28.000000</td>\n",
       "    </tr>\n",
       "    <tr>\n",
       "      <th>f_12</th>\n",
       "      <td>98000.0</td>\n",
       "      <td>7.076388</td>\n",
       "      <td>4.433308</td>\n",
       "      <td>0.000000</td>\n",
       "      <td>4.000000</td>\n",
       "      <td>6.000000</td>\n",
       "      <td>10.000000</td>\n",
       "      <td>38.000000</td>\n",
       "    </tr>\n",
       "    <tr>\n",
       "      <th>f_13</th>\n",
       "      <td>98000.0</td>\n",
       "      <td>6.286102</td>\n",
       "      <td>4.120077</td>\n",
       "      <td>0.000000</td>\n",
       "      <td>3.000000</td>\n",
       "      <td>6.000000</td>\n",
       "      <td>9.000000</td>\n",
       "      <td>30.000000</td>\n",
       "    </tr>\n",
       "    <tr>\n",
       "      <th>f_14</th>\n",
       "      <td>98000.0</td>\n",
       "      <td>0.003413</td>\n",
       "      <td>0.998940</td>\n",
       "      <td>-4.377021</td>\n",
       "      <td>-0.671810</td>\n",
       "      <td>0.003536</td>\n",
       "      <td>0.678679</td>\n",
       "      <td>4.490521</td>\n",
       "    </tr>\n",
       "    <tr>\n",
       "      <th>f_15</th>\n",
       "      <td>98000.0</td>\n",
       "      <td>-0.002639</td>\n",
       "      <td>1.001096</td>\n",
       "      <td>-4.535903</td>\n",
       "      <td>-0.677757</td>\n",
       "      <td>-0.004299</td>\n",
       "      <td>0.673859</td>\n",
       "      <td>4.270708</td>\n",
       "    </tr>\n",
       "    <tr>\n",
       "      <th>f_16</th>\n",
       "      <td>98000.0</td>\n",
       "      <td>0.005404</td>\n",
       "      <td>1.003277</td>\n",
       "      <td>-4.182233</td>\n",
       "      <td>-0.671055</td>\n",
       "      <td>0.006535</td>\n",
       "      <td>0.680903</td>\n",
       "      <td>4.157538</td>\n",
       "    </tr>\n",
       "    <tr>\n",
       "      <th>f_17</th>\n",
       "      <td>98000.0</td>\n",
       "      <td>0.001656</td>\n",
       "      <td>1.001258</td>\n",
       "      <td>-4.468930</td>\n",
       "      <td>-0.672635</td>\n",
       "      <td>0.001663</td>\n",
       "      <td>0.673174</td>\n",
       "      <td>4.230849</td>\n",
       "    </tr>\n",
       "    <tr>\n",
       "      <th>f_18</th>\n",
       "      <td>98000.0</td>\n",
       "      <td>-0.005399</td>\n",
       "      <td>0.995965</td>\n",
       "      <td>-4.149688</td>\n",
       "      <td>-0.680243</td>\n",
       "      <td>-0.001574</td>\n",
       "      <td>0.666996</td>\n",
       "      <td>4.710316</td>\n",
       "    </tr>\n",
       "    <tr>\n",
       "      <th>f_19</th>\n",
       "      <td>98000.0</td>\n",
       "      <td>-0.004513</td>\n",
       "      <td>1.004372</td>\n",
       "      <td>-4.894525</td>\n",
       "      <td>-0.678773</td>\n",
       "      <td>-0.000587</td>\n",
       "      <td>0.672149</td>\n",
       "      <td>4.560247</td>\n",
       "    </tr>\n",
       "    <tr>\n",
       "      <th>f_20</th>\n",
       "      <td>98000.0</td>\n",
       "      <td>-0.000515</td>\n",
       "      <td>1.002962</td>\n",
       "      <td>-4.732235</td>\n",
       "      <td>-0.679777</td>\n",
       "      <td>-0.000806</td>\n",
       "      <td>0.675437</td>\n",
       "      <td>4.399373</td>\n",
       "    </tr>\n",
       "    <tr>\n",
       "      <th>f_21</th>\n",
       "      <td>98000.0</td>\n",
       "      <td>-0.001670</td>\n",
       "      <td>0.999703</td>\n",
       "      <td>-4.438130</td>\n",
       "      <td>-0.675147</td>\n",
       "      <td>0.000819</td>\n",
       "      <td>0.676881</td>\n",
       "      <td>4.135419</td>\n",
       "    </tr>\n",
       "    <tr>\n",
       "      <th>f_22</th>\n",
       "      <td>98000.0</td>\n",
       "      <td>-0.038752</td>\n",
       "      <td>1.477858</td>\n",
       "      <td>-6.873999</td>\n",
       "      <td>-1.022964</td>\n",
       "      <td>-0.056687</td>\n",
       "      <td>0.930158</td>\n",
       "      <td>6.517721</td>\n",
       "    </tr>\n",
       "    <tr>\n",
       "      <th>f_23</th>\n",
       "      <td>98000.0</td>\n",
       "      <td>-0.220002</td>\n",
       "      <td>1.494836</td>\n",
       "      <td>-8.234305</td>\n",
       "      <td>-1.203204</td>\n",
       "      <td>-0.219046</td>\n",
       "      <td>0.764690</td>\n",
       "      <td>6.054831</td>\n",
       "    </tr>\n",
       "    <tr>\n",
       "      <th>f_24</th>\n",
       "      <td>98000.0</td>\n",
       "      <td>0.166434</td>\n",
       "      <td>1.543014</td>\n",
       "      <td>-7.792363</td>\n",
       "      <td>-0.903385</td>\n",
       "      <td>0.167074</td>\n",
       "      <td>1.217432</td>\n",
       "      <td>7.527271</td>\n",
       "    </tr>\n",
       "    <tr>\n",
       "      <th>f_25</th>\n",
       "      <td>98000.0</td>\n",
       "      <td>-0.064309</td>\n",
       "      <td>1.576086</td>\n",
       "      <td>-6.593842</td>\n",
       "      <td>-1.128966</td>\n",
       "      <td>-0.099221</td>\n",
       "      <td>0.987684</td>\n",
       "      <td>7.544731</td>\n",
       "    </tr>\n",
       "    <tr>\n",
       "      <th>f_26</th>\n",
       "      <td>98000.0</td>\n",
       "      <td>-0.062540</td>\n",
       "      <td>1.428055</td>\n",
       "      <td>-7.375719</td>\n",
       "      <td>-0.975680</td>\n",
       "      <td>-0.070852</td>\n",
       "      <td>0.843212</td>\n",
       "      <td>7.005608</td>\n",
       "    </tr>\n",
       "    <tr>\n",
       "      <th>f_27</th>\n",
       "      <td>98000.0</td>\n",
       "      <td>0.098472</td>\n",
       "      <td>1.305407</td>\n",
       "      <td>-7.335556</td>\n",
       "      <td>-0.746489</td>\n",
       "      <td>0.082230</td>\n",
       "      <td>0.925306</td>\n",
       "      <td>7.205971</td>\n",
       "    </tr>\n",
       "    <tr>\n",
       "      <th>f_28</th>\n",
       "      <td>98000.0</td>\n",
       "      <td>-0.230910</td>\n",
       "      <td>1.528476</td>\n",
       "      <td>-6.954151</td>\n",
       "      <td>-1.262606</td>\n",
       "      <td>-0.271319</td>\n",
       "      <td>0.770516</td>\n",
       "      <td>6.977150</td>\n",
       "    </tr>\n",
       "  </tbody>\n",
       "</table>\n",
       "</div>"
      ],
      "text/plain": [
       "        count      mean       std       min       25%       50%        75%  \\\n",
       "f_00  98000.0  0.001220  1.002801 -4.732235 -0.675226  0.002022   0.677271   \n",
       "f_01  98000.0  0.005580  1.000742 -4.202795 -0.670985  0.006650   0.677746   \n",
       "f_02  98000.0 -0.001042  1.001373 -4.377021 -0.672779 -0.000324   0.677086   \n",
       "f_03  98000.0 -0.000700  1.000422 -4.010826 -0.672540 -0.003185   0.672097   \n",
       "f_04  98000.0 -0.003522  1.003061 -4.535903 -0.682510 -0.003307   0.677589   \n",
       "f_05  98000.0 -0.001612  1.000532 -4.300767 -0.675066  0.001024   0.673344   \n",
       "f_06  98000.0 -0.003042  0.997434 -4.894525 -0.680421 -0.002053   0.668112   \n",
       "f_07  98000.0  5.545918  3.691840  0.000000  3.000000  5.000000   8.000000   \n",
       "f_08  98000.0  6.763061  4.152348  0.000000  4.000000  6.000000   9.000000   \n",
       "f_09  98000.0  8.193163  5.904919  0.000000  4.000000  7.000000  11.000000   \n",
       "f_10  98000.0  8.057878  4.700226  0.000000  5.000000  7.000000  11.000000   \n",
       "f_11  98000.0  8.084990  4.197106  0.000000  5.000000  8.000000  11.000000   \n",
       "f_12  98000.0  7.076388  4.433308  0.000000  4.000000  6.000000  10.000000   \n",
       "f_13  98000.0  6.286102  4.120077  0.000000  3.000000  6.000000   9.000000   \n",
       "f_14  98000.0  0.003413  0.998940 -4.377021 -0.671810  0.003536   0.678679   \n",
       "f_15  98000.0 -0.002639  1.001096 -4.535903 -0.677757 -0.004299   0.673859   \n",
       "f_16  98000.0  0.005404  1.003277 -4.182233 -0.671055  0.006535   0.680903   \n",
       "f_17  98000.0  0.001656  1.001258 -4.468930 -0.672635  0.001663   0.673174   \n",
       "f_18  98000.0 -0.005399  0.995965 -4.149688 -0.680243 -0.001574   0.666996   \n",
       "f_19  98000.0 -0.004513  1.004372 -4.894525 -0.678773 -0.000587   0.672149   \n",
       "f_20  98000.0 -0.000515  1.002962 -4.732235 -0.679777 -0.000806   0.675437   \n",
       "f_21  98000.0 -0.001670  0.999703 -4.438130 -0.675147  0.000819   0.676881   \n",
       "f_22  98000.0 -0.038752  1.477858 -6.873999 -1.022964 -0.056687   0.930158   \n",
       "f_23  98000.0 -0.220002  1.494836 -8.234305 -1.203204 -0.219046   0.764690   \n",
       "f_24  98000.0  0.166434  1.543014 -7.792363 -0.903385  0.167074   1.217432   \n",
       "f_25  98000.0 -0.064309  1.576086 -6.593842 -1.128966 -0.099221   0.987684   \n",
       "f_26  98000.0 -0.062540  1.428055 -7.375719 -0.975680 -0.070852   0.843212   \n",
       "f_27  98000.0  0.098472  1.305407 -7.335556 -0.746489  0.082230   0.925306   \n",
       "f_28  98000.0 -0.230910  1.528476 -6.954151 -1.262606 -0.271319   0.770516   \n",
       "\n",
       "            max  \n",
       "f_00   4.490521  \n",
       "f_01   4.324974  \n",
       "f_02   4.560247  \n",
       "f_03   4.399373  \n",
       "f_04   4.050549  \n",
       "f_05   4.710316  \n",
       "f_06   3.998595  \n",
       "f_07  32.000000  \n",
       "f_08  30.000000  \n",
       "f_09  44.000000  \n",
       "f_10  36.000000  \n",
       "f_11  28.000000  \n",
       "f_12  38.000000  \n",
       "f_13  30.000000  \n",
       "f_14   4.490521  \n",
       "f_15   4.270708  \n",
       "f_16   4.157538  \n",
       "f_17   4.230849  \n",
       "f_18   4.710316  \n",
       "f_19   4.560247  \n",
       "f_20   4.399373  \n",
       "f_21   4.135419  \n",
       "f_22   6.517721  \n",
       "f_23   6.054831  \n",
       "f_24   7.527271  \n",
       "f_25   7.544731  \n",
       "f_26   7.005608  \n",
       "f_27   7.205971  \n",
       "f_28   6.977150  "
      ]
     },
     "execution_count": 7,
     "metadata": {},
     "output_type": "execute_result"
    }
   ],
   "source": [
    "X_train.describe().T"
   ]
  },
  {
   "cell_type": "code",
   "execution_count": 8,
   "id": "bcd2314d-1f68-4a5b-b4fd-dcffa902b074",
   "metadata": {},
   "outputs": [
    {
     "name": "stdout",
     "output_type": "stream",
     "text": [
      "<class 'pandas.core.frame.DataFrame'>\n",
      "RangeIndex: 98000 entries, 0 to 97999\n",
      "Data columns (total 29 columns):\n",
      " #   Column  Non-Null Count  Dtype  \n",
      "---  ------  --------------  -----  \n",
      " 0   f_00    98000 non-null  float64\n",
      " 1   f_01    98000 non-null  float64\n",
      " 2   f_02    98000 non-null  float64\n",
      " 3   f_03    98000 non-null  float64\n",
      " 4   f_04    98000 non-null  float64\n",
      " 5   f_05    98000 non-null  float64\n",
      " 6   f_06    98000 non-null  float64\n",
      " 7   f_07    98000 non-null  int64  \n",
      " 8   f_08    98000 non-null  int64  \n",
      " 9   f_09    98000 non-null  int64  \n",
      " 10  f_10    98000 non-null  int64  \n",
      " 11  f_11    98000 non-null  int64  \n",
      " 12  f_12    98000 non-null  int64  \n",
      " 13  f_13    98000 non-null  int64  \n",
      " 14  f_14    98000 non-null  float64\n",
      " 15  f_15    98000 non-null  float64\n",
      " 16  f_16    98000 non-null  float64\n",
      " 17  f_17    98000 non-null  float64\n",
      " 18  f_18    98000 non-null  float64\n",
      " 19  f_19    98000 non-null  float64\n",
      " 20  f_20    98000 non-null  float64\n",
      " 21  f_21    98000 non-null  float64\n",
      " 22  f_22    98000 non-null  float64\n",
      " 23  f_23    98000 non-null  float64\n",
      " 24  f_24    98000 non-null  float64\n",
      " 25  f_25    98000 non-null  float64\n",
      " 26  f_26    98000 non-null  float64\n",
      " 27  f_27    98000 non-null  float64\n",
      " 28  f_28    98000 non-null  float64\n",
      "dtypes: float64(22), int64(7)\n",
      "memory usage: 21.7 MB\n"
     ]
    }
   ],
   "source": [
    "X_train.info()"
   ]
  },
  {
   "cell_type": "code",
   "execution_count": 9,
   "id": "a92da8cb-a8c2-4a19-b021-14dad9354fe4",
   "metadata": {},
   "outputs": [
    {
     "data": {
      "text/plain": [
       "<AxesSubplot:>"
      ]
     },
     "execution_count": 9,
     "metadata": {},
     "output_type": "execute_result"
    },
    {
     "data": {
      "image/png": "[encoded data removed]",
      "text/plain": [
       "<Figure size 1728x288 with 1 Axes>"
      ]
     },
     "metadata": {},
     "output_type": "display_data"
    }
   ],
   "source": [
    "X_train.boxplot(figsize=(24,4))"
   ]
  },
  {
   "cell_type": "markdown",
   "id": "e62502a2-d2e1-441f-984b-9f0584dd41b4",
   "metadata": {},
   "source": [
    "## Probably a good idea to scale the data"
   ]
  },
  {
   "cell_type": "code",
   "execution_count": 10,
   "id": "53b7ea2b-12a8-44b2-878b-5596b745cbea",
   "metadata": {},
   "outputs": [
    {
     "data": {
      "text/html": [
       "<div>\n",
       "<style scoped>\n",
       "    .dataframe tbody tr th:only-of-type {\n",
       "        vertical-align: middle;\n",
       "    }\n",
       "\n",
       "    .dataframe tbody tr th {\n",
       "        vertical-align: top;\n",
       "    }\n",
       "\n",
       "    .dataframe thead th {\n",
       "        text-align: right;\n",
       "    }\n",
       "</style>\n",
       "<table border=\"1\" class=\"dataframe\">\n",
       "  <thead>\n",
       "    <tr style=\"text-align: right;\">\n",
       "      <th></th>\n",
       "      <th>f_00</th>\n",
       "      <th>f_01</th>\n",
       "      <th>f_02</th>\n",
       "      <th>f_03</th>\n",
       "      <th>f_04</th>\n",
       "      <th>f_05</th>\n",
       "      <th>f_06</th>\n",
       "      <th>f_07</th>\n",
       "      <th>f_08</th>\n",
       "      <th>f_09</th>\n",
       "      <th>...</th>\n",
       "      <th>f_19</th>\n",
       "      <th>f_20</th>\n",
       "      <th>f_21</th>\n",
       "      <th>f_22</th>\n",
       "      <th>f_23</th>\n",
       "      <th>f_24</th>\n",
       "      <th>f_25</th>\n",
       "      <th>f_26</th>\n",
       "      <th>f_27</th>\n",
       "      <th>f_28</th>\n",
       "    </tr>\n",
       "  </thead>\n",
       "  <tbody>\n",
       "    <tr>\n",
       "      <th>0</th>\n",
       "      <td>-0.389230</td>\n",
       "      <td>-0.917652</td>\n",
       "      <td>0.647948</td>\n",
       "      <td>0.590717</td>\n",
       "      <td>-0.824836</td>\n",
       "      <td>0.734685</td>\n",
       "      <td>2.259470</td>\n",
       "      <td>-0.977987</td>\n",
       "      <td>1.383372</td>\n",
       "      <td>1.039938</td>\n",
       "      <td>...</td>\n",
       "      <td>-0.472922</td>\n",
       "      <td>-0.753925</td>\n",
       "      <td>-0.763110</td>\n",
       "      <td>-0.707876</td>\n",
       "      <td>0.911477</td>\n",
       "      <td>-0.678852</td>\n",
       "      <td>0.768543</td>\n",
       "      <td>0.960344</td>\n",
       "      <td>1.042536</td>\n",
       "      <td>0.694234</td>\n",
       "    </tr>\n",
       "    <tr>\n",
       "      <th>1</th>\n",
       "      <td>-0.688368</td>\n",
       "      <td>-0.458647</td>\n",
       "      <td>0.653182</td>\n",
       "      <td>0.995359</td>\n",
       "      <td>-1.644030</td>\n",
       "      <td>0.864898</td>\n",
       "      <td>-0.085604</td>\n",
       "      <td>-0.977987</td>\n",
       "      <td>-0.875405</td>\n",
       "      <td>-0.179925</td>\n",
       "      <td>...</td>\n",
       "      <td>-0.423594</td>\n",
       "      <td>-0.088164</td>\n",
       "      <td>-1.777545</td>\n",
       "      <td>-0.535582</td>\n",
       "      <td>0.453824</td>\n",
       "      <td>1.031505</td>\n",
       "      <td>-0.117686</td>\n",
       "      <td>-0.550783</td>\n",
       "      <td>0.367242</td>\n",
       "      <td>-1.636652</td>\n",
       "    </tr>\n",
       "  </tbody>\n",
       "</table>\n",
       "<p>2 rows × 29 columns</p>\n",
       "</div>"
      ],
      "text/plain": [
       "       f_00      f_01      f_02      f_03      f_04      f_05      f_06  \\\n",
       "0 -0.389230 -0.917652  0.647948  0.590717 -0.824836  0.734685  2.259470   \n",
       "1 -0.688368 -0.458647  0.653182  0.995359 -1.644030  0.864898 -0.085604   \n",
       "\n",
       "       f_07      f_08      f_09  ...      f_19      f_20      f_21      f_22  \\\n",
       "0 -0.977987  1.383372  1.039938  ... -0.472922 -0.753925 -0.763110 -0.707876   \n",
       "1 -0.977987 -0.875405 -0.179925  ... -0.423594 -0.088164 -1.777545 -0.535582   \n",
       "\n",
       "       f_23      f_24      f_25      f_26      f_27      f_28  \n",
       "0  0.911477 -0.678852  0.768543  0.960344  1.042536  0.694234  \n",
       "1  0.453824  1.031505 -0.117686 -0.550783  0.367242 -1.636652  \n",
       "\n",
       "[2 rows x 29 columns]"
      ]
     },
     "execution_count": 10,
     "metadata": {},
     "output_type": "execute_result"
    }
   ],
   "source": [
    "# standard_scaler = StandardScaler()\n",
    "# X_train = pd.DataFrame(standard_scaler.fit_transform(X_train), columns=X_train.columns)\n",
    "\n",
    "power_transformer = PowerTransformer()\n",
    "X_train = pd.DataFrame(power_transformer.fit_transform(X_train), columns=X_train.columns)\n",
    "\n",
    "X_train.head(2)"
   ]
  },
  {
   "cell_type": "code",
   "execution_count": 11,
   "id": "44258095-5a79-4b9b-bc6a-d846648f1c4c",
   "metadata": {},
   "outputs": [
    {
     "data": {
      "text/plain": [
       "<AxesSubplot:>"
      ]
     },
     "execution_count": 11,
     "metadata": {},
     "output_type": "execute_result"
    },
    {
     "data": {
      "image/png": "[encoded data removed]",
      "text/plain": [
       "<Figure size 1728x288 with 1 Axes>"
      ]
     },
     "metadata": {},
     "output_type": "display_data"
    }
   ],
   "source": [
    "X_train.boxplot(figsize=(24,4))"
   ]
  },
  {
   "cell_type": "code",
   "execution_count": 12,
   "id": "02e6d97e-9258-42f7-8485-fb402ba1e394",
   "metadata": {},
   "outputs": [],
   "source": [
    "# for col in X_train.columns:    \n",
    "#     plt.figure(figsize=(5,5))\n",
    "#     res = stats.probplot(X_train[col], plot=plt)"
   ]
  },
  {
   "cell_type": "markdown",
   "id": "a2f0d24e-eb2a-4411-adf1-c7104f86c6c8",
   "metadata": {},
   "source": [
    "## Keep a copy of X_train"
   ]
  },
  {
   "cell_type": "code",
   "execution_count": 13,
   "id": "1b6c2f75-da66-4f9d-9ef4-d3206913ae73",
   "metadata": {},
   "outputs": [],
   "source": [
    "X_train_orig = X_train.copy(deep=True)"
   ]
  },
  {
   "cell_type": "markdown",
   "id": "91d5f726-ea9e-4bb9-9370-a07a44c3456d",
   "metadata": {},
   "source": [
    "## Let's remove outliers from all columns "
   ]
  },
  {
   "cell_type": "code",
   "execution_count": 14,
   "id": "5024c5a7-d116-492e-b4ff-480dd9830270",
   "metadata": {},
   "outputs": [
    {
     "name": "stdout",
     "output_type": "stream",
     "text": [
      "X_train.shape=(98000, 29)\n",
      "X_train.shape=(90939, 29)\n"
     ]
    }
   ],
   "source": [
    "print(f'X_train.shape={X_train.shape}')\n",
    "\n",
    "for col in X_train.columns:\n",
    "    mean = X_train[col].mean()\n",
    "    std  = X_train[col].std()\n",
    "    \n",
    "    upper_bound = mean + 3*std\n",
    "    lower_bound = mean - 3*std\n",
    "    \n",
    "    X_train = X_train[(X_train[col] > lower_bound) & (X_train[col] < upper_bound)]\n",
    "    \n",
    "print(f'X_train.shape={X_train.shape}')"
   ]
  },
  {
   "cell_type": "markdown",
   "id": "71da7032-ce0b-4cf9-96b3-5ce90f0d6212",
   "metadata": {},
   "source": [
    "## Let's look at quantiles plots again"
   ]
  },
  {
   "cell_type": "code",
   "execution_count": null,
   "id": "0726243e-7986-4b6d-8166-ecacea268c9b",
   "metadata": {},
   "outputs": [],
   "source": [
    "# for col in X_train.columns:    \n",
    "#     plt.figure(figsize=(5,5))\n",
    "#     res = stats.probplot(X_train[col], plot=plt)"
   ]
  },
  {
   "cell_type": "code",
   "execution_count": null,
   "id": "68100213-bb60-4e91-b326-bb1df54c30d9",
   "metadata": {},
   "outputs": [],
   "source": [
    "# X_train.boxplot(figsize=(16,4))"
   ]
  },
  {
   "cell_type": "markdown",
   "id": "37ac4a6f-db92-444b-981f-e638e4af78b2",
   "metadata": {},
   "source": [
    "# How much of the variance each number of components explain?\n",
    "\n",
    "* We see that on average each new component adds about 4% of explained variance (with an exception of the first 2 components, where contribution is 6.21% and 4.93%."
   ]
  },
  {
   "cell_type": "code",
   "execution_count": null,
   "id": "b18fcf99-6634-4f54-bfde-76e30bf81a71",
   "metadata": {},
   "outputs": [],
   "source": [
    "for n in range(1,30):\n",
    "    pca = PCA(n_components=n, random_state=seed)\n",
    "\n",
    "    p = pca.fit_transform(X_train)\n",
    "\n",
    "    inv_transform = pca.inverse_transform(p)\n",
    "\n",
    "    plt.figure(figsize=(12,2))\n",
    "    pd.DataFrame(inv_transform, columns=X_train.columns).std().plot.bar(title=f'n_components={n} | variance explained={np.round(np.sum(pca.explained_variance_ratio_)*100,2)}')"
   ]
  },
  {
   "cell_type": "markdown",
   "id": "029b2cd7-674e-4554-8089-6e0582432d27",
   "metadata": {},
   "source": [
    "## Let's use BGM on 7 clusters to build a supervised learning problem"
   ]
  },
  {
   "cell_type": "code",
   "execution_count": 16,
   "id": "e455cc2c-e2e8-4801-9968-0ae9d8a639e9",
   "metadata": {},
   "outputs": [
    {
     "data": {
      "text/plain": [
       "BayesianGaussianMixture(max_iter=300, n_components=7, n_init=15,\n",
       "                        random_state=42)"
      ]
     },
     "execution_count": 16,
     "metadata": {},
     "output_type": "execute_result"
    }
   ],
   "source": [
    "bgm = BayesianGaussianMixture(\n",
    "    n_components=7, \n",
    "    covariance_type='full', \n",
    "    max_iter=300, \n",
    "    random_state=seed, \n",
    "    n_init=15\n",
    ")\n",
    "\n",
    "bgm.fit(X_train)"
   ]
  },
  {
   "cell_type": "code",
   "execution_count": 17,
   "id": "455ed2e1-7852-4894-b163-a8f56dee0eb7",
   "metadata": {},
   "outputs": [
    {
     "data": {
      "text/plain": [
       "True"
      ]
     },
     "execution_count": 17,
     "metadata": {},
     "output_type": "execute_result"
    }
   ],
   "source": [
    "bgm.converged_"
   ]
  },
  {
   "cell_type": "code",
   "execution_count": 18,
   "id": "49484765-8a4f-4e3a-a463-b13266aff7c2",
   "metadata": {},
   "outputs": [
    {
     "data": {
      "text/plain": [
       "[<matplotlib.lines.Line2D at 0x1d6426e1b20>]"
      ]
     },
     "execution_count": 18,
     "metadata": {},
     "output_type": "execute_result"
    },
    {
     "data": {
      "image/png": "[encoded data removed]",
      "text/plain": [
       "<Figure size 432x288 with 1 Axes>"
      ]
     },
     "metadata": {},
     "output_type": "display_data"
    }
   ],
   "source": [
    "plt.plot(bgm.weights_)"
   ]
  },
  {
   "cell_type": "code",
   "execution_count": 19,
   "id": "bd7e463e-0c02-45cf-8e3d-d5419c1744d5",
   "metadata": {},
   "outputs": [],
   "source": [
    "y_train = bgm.predict(X_train)\n",
    "proba = bgm.predict_proba(X_train)"
   ]
  },
  {
   "cell_type": "code",
   "execution_count": 20,
   "id": "dfd7d9f3-7696-46cc-b51d-58425575af56",
   "metadata": {},
   "outputs": [
    {
     "data": {
      "text/plain": [
       "array([4, 6, 4, 0, 1], dtype=int64)"
      ]
     },
     "execution_count": 20,
     "metadata": {},
     "output_type": "execute_result"
    }
   ],
   "source": [
    "y_train[:5]"
   ]
  },
  {
   "cell_type": "code",
   "execution_count": 21,
   "id": "86f8ad9c-e0bb-4626-93d7-561579c581e1",
   "metadata": {},
   "outputs": [
    {
     "data": {
      "text/plain": [
       "array([[0.  , 0.  , 0.  , 0.  , 0.98, 0.  , 0.01],\n",
       "       [0.02, 0.01, 0.  , 0.05, 0.  , 0.02, 0.9 ],\n",
       "       [0.  , 0.  , 0.09, 0.  , 0.91, 0.  , 0.  ],\n",
       "       [0.88, 0.03, 0.08, 0.01, 0.  , 0.  , 0.01],\n",
       "       [0.  , 0.98, 0.  , 0.  , 0.  , 0.  , 0.02],\n",
       "       [0.  , 0.25, 0.  , 0.01, 0.  , 0.04, 0.7 ],\n",
       "       [1.  , 0.  , 0.  , 0.  , 0.  , 0.  , 0.  ],\n",
       "       [0.  , 0.  , 0.05, 0.  , 0.92, 0.  , 0.02],\n",
       "       [0.  , 0.  , 0.  , 0.01, 0.22, 0.  , 0.77],\n",
       "       [0.  , 0.  , 0.  , 0.66, 0.34, 0.  , 0.  ]])"
      ]
     },
     "execution_count": 21,
     "metadata": {},
     "output_type": "execute_result"
    }
   ],
   "source": [
    "np.round(proba[:10],2)"
   ]
  },
  {
   "cell_type": "code",
   "execution_count": 22,
   "id": "010d6e5c-ae23-49a5-a3f8-5ed771fd47be",
   "metadata": {},
   "outputs": [],
   "source": [
    "max_proba = np.max(proba,axis=1)"
   ]
  },
  {
   "cell_type": "code",
   "execution_count": 23,
   "id": "4e2e2fc6-71d5-46d1-95dd-0aa7f14db1c0",
   "metadata": {},
   "outputs": [
    {
     "data": {
      "text/plain": [
       "array([0.98235483, 0.90180895, 0.90522174, 0.87605339, 0.98168326,\n",
       "       0.69663564, 0.99638978, 0.91983673, 0.76802928, 0.65802445])"
      ]
     },
     "execution_count": 23,
     "metadata": {},
     "output_type": "execute_result"
    }
   ],
   "source": [
    "max_proba[:10]"
   ]
  },
  {
   "cell_type": "code",
   "execution_count": 24,
   "id": "8b2bb8ff-6aa8-4e2e-abbb-3b01fd0ef5ee",
   "metadata": {},
   "outputs": [
    {
     "data": {
      "image/png": "[encoded data removed]",
      "text/plain": [
       "<Figure size 432x288 with 1 Axes>"
      ]
     },
     "metadata": {},
     "output_type": "display_data"
    }
   ],
   "source": [
    "_ = plt.hist(max_proba, bins=50)"
   ]
  },
  {
   "cell_type": "code",
   "execution_count": 25,
   "id": "c28fc779-3c2d-4593-8a32-a84b965b3428",
   "metadata": {},
   "outputs": [
    {
     "data": {
      "text/plain": [
       "<AxesSubplot:>"
      ]
     },
     "execution_count": 25,
     "metadata": {},
     "output_type": "execute_result"
    },
    {
     "data": {
      "image/png": "[encoded data removed]",
      "text/plain": [
       "<Figure size 432x288 with 1 Axes>"
      ]
     },
     "metadata": {},
     "output_type": "display_data"
    }
   ],
   "source": [
    "sns.boxplot(data=max_proba)"
   ]
  },
  {
   "cell_type": "code",
   "execution_count": 26,
   "id": "d3fe5e8f-8e82-4648-90c3-ff0a81db7174",
   "metadata": {},
   "outputs": [],
   "source": [
    "sure_idx = max_proba >= 0.7"
   ]
  },
  {
   "cell_type": "code",
   "execution_count": 27,
   "id": "c49e150e-3e6a-44e4-bfdf-2c06cab9884f",
   "metadata": {},
   "outputs": [
    {
     "name": "stdout",
     "output_type": "stream",
     "text": [
      "sure_samples.shape=(67675, 29)\n",
      "sure_y.shape=(67675,)\n"
     ]
    }
   ],
   "source": [
    "sure_samples = X_train[sure_idx]\n",
    "sure_y = y_train[sure_idx]\n",
    "print(f'sure_samples.shape={sure_samples.shape}')\n",
    "print(f'sure_y.shape={sure_y.shape}')"
   ]
  },
  {
   "cell_type": "code",
   "execution_count": 28,
   "id": "8d96e2f4-dc8d-4f3f-8d8e-2e0257f12806",
   "metadata": {},
   "outputs": [
    {
     "data": {
      "text/html": [
       "<div>\n",
       "<style scoped>\n",
       "    .dataframe tbody tr th:only-of-type {\n",
       "        vertical-align: middle;\n",
       "    }\n",
       "\n",
       "    .dataframe tbody tr th {\n",
       "        vertical-align: top;\n",
       "    }\n",
       "\n",
       "    .dataframe thead th {\n",
       "        text-align: right;\n",
       "    }\n",
       "</style>\n",
       "<table border=\"1\" class=\"dataframe\">\n",
       "  <thead>\n",
       "    <tr style=\"text-align: right;\">\n",
       "      <th></th>\n",
       "      <th>f_00</th>\n",
       "      <th>f_01</th>\n",
       "      <th>f_02</th>\n",
       "      <th>f_03</th>\n",
       "      <th>f_04</th>\n",
       "      <th>f_05</th>\n",
       "      <th>f_06</th>\n",
       "      <th>f_07</th>\n",
       "      <th>f_08</th>\n",
       "      <th>f_09</th>\n",
       "      <th>...</th>\n",
       "      <th>f_19</th>\n",
       "      <th>f_20</th>\n",
       "      <th>f_21</th>\n",
       "      <th>f_22</th>\n",
       "      <th>f_23</th>\n",
       "      <th>f_24</th>\n",
       "      <th>f_25</th>\n",
       "      <th>f_26</th>\n",
       "      <th>f_27</th>\n",
       "      <th>f_28</th>\n",
       "    </tr>\n",
       "  </thead>\n",
       "  <tbody>\n",
       "    <tr>\n",
       "      <th>0</th>\n",
       "      <td>-0.389230</td>\n",
       "      <td>-0.917652</td>\n",
       "      <td>0.647948</td>\n",
       "      <td>0.590717</td>\n",
       "      <td>-0.824836</td>\n",
       "      <td>0.734685</td>\n",
       "      <td>2.259470</td>\n",
       "      <td>-0.977987</td>\n",
       "      <td>1.383372</td>\n",
       "      <td>1.039938</td>\n",
       "      <td>...</td>\n",
       "      <td>-0.472922</td>\n",
       "      <td>-0.753925</td>\n",
       "      <td>-0.763110</td>\n",
       "      <td>-0.707876</td>\n",
       "      <td>0.911477</td>\n",
       "      <td>-0.678852</td>\n",
       "      <td>0.768543</td>\n",
       "      <td>0.960344</td>\n",
       "      <td>1.042536</td>\n",
       "      <td>0.694234</td>\n",
       "    </tr>\n",
       "    <tr>\n",
       "      <th>1</th>\n",
       "      <td>-0.688368</td>\n",
       "      <td>-0.458647</td>\n",
       "      <td>0.653182</td>\n",
       "      <td>0.995359</td>\n",
       "      <td>-1.644030</td>\n",
       "      <td>0.864898</td>\n",
       "      <td>-0.085604</td>\n",
       "      <td>-0.977987</td>\n",
       "      <td>-0.875405</td>\n",
       "      <td>-0.179925</td>\n",
       "      <td>...</td>\n",
       "      <td>-0.423594</td>\n",
       "      <td>-0.088164</td>\n",
       "      <td>-1.777545</td>\n",
       "      <td>-0.535582</td>\n",
       "      <td>0.453824</td>\n",
       "      <td>1.031505</td>\n",
       "      <td>-0.117686</td>\n",
       "      <td>-0.550783</td>\n",
       "      <td>0.367242</td>\n",
       "      <td>-1.636652</td>\n",
       "    </tr>\n",
       "  </tbody>\n",
       "</table>\n",
       "<p>2 rows × 29 columns</p>\n",
       "</div>"
      ],
      "text/plain": [
       "       f_00      f_01      f_02      f_03      f_04      f_05      f_06  \\\n",
       "0 -0.389230 -0.917652  0.647948  0.590717 -0.824836  0.734685  2.259470   \n",
       "1 -0.688368 -0.458647  0.653182  0.995359 -1.644030  0.864898 -0.085604   \n",
       "\n",
       "       f_07      f_08      f_09  ...      f_19      f_20      f_21      f_22  \\\n",
       "0 -0.977987  1.383372  1.039938  ... -0.472922 -0.753925 -0.763110 -0.707876   \n",
       "1 -0.977987 -0.875405 -0.179925  ... -0.423594 -0.088164 -1.777545 -0.535582   \n",
       "\n",
       "       f_23      f_24      f_25      f_26      f_27      f_28  \n",
       "0  0.911477 -0.678852  0.768543  0.960344  1.042536  0.694234  \n",
       "1  0.453824  1.031505 -0.117686 -0.550783  0.367242 -1.636652  \n",
       "\n",
       "[2 rows x 29 columns]"
      ]
     },
     "execution_count": 28,
     "metadata": {},
     "output_type": "execute_result"
    }
   ],
   "source": [
    "sure_samples.head(2)"
   ]
  },
  {
   "cell_type": "code",
   "execution_count": 29,
   "id": "ff5ed1e7-90d3-4307-8b94-5ec375d4be36",
   "metadata": {},
   "outputs": [],
   "source": [
    "def objective(trial, n_splits=10, shuffle=True, get_info=False):\n",
    "    \n",
    "    param = {        \n",
    "        'verbose': 0,\n",
    "        'random_state': seed,\n",
    "        'loss_function': 'MultiClass',\n",
    "        'task_type': 'GPU',\n",
    "        'iterations': trial.suggest_int('iterations', 10, 1000, 10),\n",
    "        'depth': trial.suggest_int('depth', 1, 8),\n",
    "        'learning_rate': trial.suggest_loguniform('learning_rate', 0.01, 1),\n",
    "        'random_strength': trial.suggest_uniform('random_strength', 1e-9, 10),\n",
    "        'bagging_temperature': trial.suggest_uniform('bagging_temperature', 0, 1),\n",
    "        'border_count': trial.suggest_int('border_count', 1, 255),\n",
    "        'l2_leaf_reg': trial.suggest_loguniform('l2_leaf_reg', 1e-3, 30),\n",
    "    }\n",
    "    \n",
    "    model = cb.CatBoostClassifier(**param)\n",
    "    \n",
    "    kf = StratifiedKFold(n_splits=n_splits, shuffle=shuffle, random_state=seed)    \n",
    "    \n",
    "    scores = []\n",
    "    models = []\n",
    "\n",
    "    for train_index, test_index in kf.split(sure_samples, sure_y): \n",
    "\n",
    "        train_dataset = cb.Pool(\n",
    "            data=sure_samples.iloc[train_index,:], \n",
    "            label=sure_y[train_index],\n",
    "        )\n",
    "        \n",
    "        eval_dataset = cb.Pool(\n",
    "            data=sure_samples.iloc[test_index,:], \n",
    "            label=sure_y[test_index],\n",
    "        )\n",
    "        \n",
    "        model.fit(\n",
    "            train_dataset,            \n",
    "            early_stopping_rounds=200,\n",
    "            verbose=0,            \n",
    "        )\n",
    "\n",
    "        y_test_pred = model.predict(eval_dataset).reshape(-1)\n",
    "        \n",
    "        score = metrics.adjusted_rand_score(\n",
    "            labels_true=sure_y[test_index],\n",
    "            labels_pred=y_test_pred\n",
    "        )\n",
    "        \n",
    "        scores.append(score)\n",
    "        models.append(model)\n",
    "\n",
    "    scores = np.array(scores)\n",
    "    \n",
    "    if get_info:\n",
    "        \n",
    "        info = {\n",
    "            'mean_score': np.mean(scores), \n",
    "            'score_std' : np.std(scores), \n",
    "            'scores': scores, \n",
    "            'models': models,\n",
    "        }\n",
    "        \n",
    "        return info\n",
    "    else:\n",
    "        return np.mean(scores)"
   ]
  },
  {
   "cell_type": "code",
   "execution_count": 30,
   "id": "bac709c3-7b35-4002-a435-e6cad073536d",
   "metadata": {},
   "outputs": [
    {
     "name": "stderr",
     "output_type": "stream",
     "text": [
      "\u001b[32m[I 2022-07-20 10:08:47,026]\u001b[0m A new study created in memory with name: tps_clustering\u001b[0m\n",
      "C:\\Users\\yurit\\anaconda3\\envs\\ml\\lib\\site-packages\\optuna\\progress_bar.py:47: ExperimentalWarning: Progress bar is experimental (supported from v1.2.0). The interface can change in the future.\n",
      "  self._init_valid()\n"
     ]
    },
    {
     "data": {
      "application/vnd.jupyter.widget-view+json": {
       "model_id": "5391d97105fe45d392dcd5b858d2b45b",
       "version_major": 2,
       "version_minor": 0
      },
      "text/plain": [
       "  0%|          | 0/10 [00:00<?, ?it/s]"
      ]
     },
     "metadata": {},
     "output_type": "display_data"
    },
    {
     "name": "stdout",
     "output_type": "stream",
     "text": [
      "\u001b[32m[I 2022-07-20 10:08:55,351]\u001b[0m Trial 0 finished with value: 0.6042245962117164 and parameters: {'iterations': 10, 'depth': 5, 'learning_rate': 0.15235872998212857, 'random_strength': 2.5793144186501014, 'bagging_temperature': 0.5356646086355559, 'border_count': 41, 'l2_leaf_reg': 0.011665443214866523}. Best is trial 0 with value: 0.6042245962117164.\u001b[0m\n",
      "\u001b[32m[I 2022-07-20 10:09:26,296]\u001b[0m Trial 1 finished with value: 0.9785069534178513 and parameters: {'iterations': 610, 'depth': 3, 'learning_rate': 0.17149550547275155, 'random_strength': 6.513564419507847, 'bagging_temperature': 0.1846355560528905, 'border_count': 46, 'l2_leaf_reg': 0.010748667483283758}. Best is trial 1 with value: 0.9785069534178513.\u001b[0m\n",
      "\u001b[32m[I 2022-07-20 10:10:00,536]\u001b[0m Trial 2 finished with value: 0.6225015864800856 and parameters: {'iterations': 950, 'depth': 2, 'learning_rate': 0.01155714348921499, 'random_strength': 7.509249807251758, 'bagging_temperature': 0.3796143742293916, 'border_count': 2, 'l2_leaf_reg': 0.011682922881012634}. Best is trial 1 with value: 0.9785069534178513.\u001b[0m\n",
      "\u001b[32m[I 2022-07-20 10:10:16,303]\u001b[0m Trial 3 finished with value: 0.8415388098323457 and parameters: {'iterations': 360, 'depth': 1, 'learning_rate': 0.8822875012112141, 'random_strength': 9.721601961847844, 'bagging_temperature': 0.14192326765992802, 'border_count': 235, 'l2_leaf_reg': 7.07790266822791}. Best is trial 1 with value: 0.9785069534178513.\u001b[0m\n",
      "\u001b[32m[I 2022-07-20 10:11:17,731]\u001b[0m Trial 4 finished with value: 0.9863536517445606 and parameters: {'iterations': 550, 'depth': 7, 'learning_rate': 0.20394788196846692, 'random_strength': 3.0327547370376413, 'bagging_temperature': 0.2291844400965919, 'border_count': 96, 'l2_leaf_reg': 0.03669916885800213}. Best is trial 4 with value: 0.9863536517445606.\u001b[0m\n",
      "\u001b[32m[I 2022-07-20 10:11:57,237]\u001b[0m Trial 5 finished with value: 0.9824787473240806 and parameters: {'iterations': 550, 'depth': 5, 'learning_rate': 0.11057590036594446, 'random_strength': 3.077477340612615, 'bagging_temperature': 0.19105465046153758, 'border_count': 195, 'l2_leaf_reg': 0.48929859807833825}. Best is trial 4 with value: 0.9863536517445606.\u001b[0m\n",
      "\u001b[32m[I 2022-07-20 10:12:55,237]\u001b[0m Trial 6 finished with value: 0.9584221411145973 and parameters: {'iterations': 500, 'depth': 7, 'learning_rate': 0.030993582637964413, 'random_strength': 3.462532131508387, 'bagging_temperature': 0.01576679016626592, 'border_count': 192, 'l2_leaf_reg': 0.12779063219519637}. Best is trial 4 with value: 0.9863536517445606.\u001b[0m\n",
      "\u001b[32m[I 2022-07-20 10:13:12,189]\u001b[0m Trial 7 finished with value: 0.8327317407921713 and parameters: {'iterations': 420, 'depth': 1, 'learning_rate': 0.229635103621994, 'random_strength': 7.5978532038807876, 'bagging_temperature': 0.2160279470652331, 'border_count': 128, 'l2_leaf_reg': 4.311296294144596}. Best is trial 4 with value: 0.9863536517445606.\u001b[0m\n",
      "\u001b[32m[I 2022-07-20 10:14:47,892]\u001b[0m Trial 8 finished with value: 0.9856743265820616 and parameters: {'iterations': 620, 'depth': 8, 'learning_rate': 0.24969970772557132, 'random_strength': 6.148357265218672, 'bagging_temperature': 0.09401877954059068, 'border_count': 211, 'l2_leaf_reg': 0.07750271182564109}. Best is trial 4 with value: 0.9863536517445606.\u001b[0m\n",
      "\u001b[32m[I 2022-07-20 10:15:20,194]\u001b[0m Trial 9 finished with value: 0.9811040143122645 and parameters: {'iterations': 530, 'depth': 4, 'learning_rate': 0.373317408467677, 'random_strength': 1.3498452226695632, 'bagging_temperature': 0.9199814778000439, 'border_count': 67, 'l2_leaf_reg': 7.960533236706758}. Best is trial 4 with value: 0.9863536517445606.\u001b[0m\n"
     ]
    }
   ],
   "source": [
    "study = optuna.create_study(direction='maximize', study_name='tps_clustering')\n",
    "study.optimize(objective, n_trials=10, show_progress_bar=True)"
   ]
  },
  {
   "cell_type": "code",
   "execution_count": 31,
   "id": "a6797aff-b823-4566-ad48-94294a6591cf",
   "metadata": {},
   "outputs": [
    {
     "data": {
      "text/plain": [
       "0.9863536517445606"
      ]
     },
     "execution_count": 31,
     "metadata": {},
     "output_type": "execute_result"
    }
   ],
   "source": [
    "study.best_value"
   ]
  },
  {
   "cell_type": "code",
   "execution_count": 32,
   "id": "5722075a-4a28-4882-b49f-e9a7cbb333eb",
   "metadata": {},
   "outputs": [
    {
     "data": {
      "text/plain": [
       "{'iterations': 550,\n",
       " 'depth': 7,\n",
       " 'learning_rate': 0.20394788196846692,\n",
       " 'random_strength': 3.0327547370376413,\n",
       " 'bagging_temperature': 0.2291844400965919,\n",
       " 'border_count': 96,\n",
       " 'l2_leaf_reg': 0.03669916885800213}"
      ]
     },
     "execution_count": 32,
     "metadata": {},
     "output_type": "execute_result"
    }
   ],
   "source": [
    "study.best_params"
   ]
  },
  {
   "cell_type": "code",
   "execution_count": 33,
   "id": "d8d0fd98-93bb-44d8-8bc2-c78d8d4ce384",
   "metadata": {},
   "outputs": [],
   "source": [
    "info = objective(optuna.trial.FixedTrial(study.best_params), get_info=True)"
   ]
  },
  {
   "cell_type": "code",
   "execution_count": 34,
   "id": "d2bafedc-47e6-4f25-9d23-106e5ae55cf9",
   "metadata": {},
   "outputs": [],
   "source": [
    "best_models = info['models']"
   ]
  },
  {
   "cell_type": "markdown",
   "id": "d6d64dc9-d282-494a-9345-87242ae02ee9",
   "metadata": {},
   "source": [
    "## A bag of CatBoost models for predictions"
   ]
  },
  {
   "cell_type": "code",
   "execution_count": 35,
   "id": "dd62b618-6dee-4243-8c2d-a7ffe9854b98",
   "metadata": {},
   "outputs": [],
   "source": [
    "predict_proba = 0\n",
    "\n",
    "for model in best_models:\n",
    "    predict_proba += model.predict_proba(X_train_orig)"
   ]
  },
  {
   "cell_type": "code",
   "execution_count": 36,
   "id": "1e7c8c8d-1496-4608-ad63-ed4c09fdf4a0",
   "metadata": {},
   "outputs": [
    {
     "data": {
      "text/plain": [
       "array([4, 6, 4, 0, 1], dtype=int64)"
      ]
     },
     "execution_count": 36,
     "metadata": {},
     "output_type": "execute_result"
    }
   ],
   "source": [
    "predictions = np.argmax(predict_proba, axis=1)\n",
    "predictions[:5]"
   ]
  },
  {
   "cell_type": "code",
   "execution_count": 37,
   "id": "2aec194b-5c23-40d4-94b2-68b29bdae676",
   "metadata": {},
   "outputs": [],
   "source": [
    "submission = pd.read_csv('../../../Data/Tabular Playground Series/tabular-playground-series-jul-2022/sample_submission.csv')\n",
    "submission['Predicted'] = predictions\n",
    "submission.to_csv(\"submission.csv\", index=False)"
   ]
  },
  {
   "cell_type": "markdown",
   "id": "3841e198-fcae-45d2-8c17-23211f88ec59",
   "metadata": {},
   "source": [
    "## Lowering threshold to 0.7 has increased the score from 0.61443 to 0.61662\n",
    "\n",
    "* I also tried removing outliers (points with features >3 standard deviations away from the mean), but it didn't help the score. I got 0.61230, which is lower than 0.61662"
   ]
  },
  {
   "cell_type": "markdown",
   "id": "b9cdb351-f335-451b-81f4-d0a4e7b153a3",
   "metadata": {},
   "source": [
    "### Leaderboard Score\n",
    "\n",
    "<img src=\"bag_of_catboost_all_scaled_0.7.png\">"
   ]
  },
  {
   "cell_type": "markdown",
   "id": "3ac35262-4553-44b7-8778-12527da1d4cc",
   "metadata": {},
   "source": [
    "# Ideas to try\n",
    "\n",
    "* blending and stacking models together\n",
    "* different threshold for sure_samples\n",
    "* sklearn.metrics.balanced_accuracy_score for metrics instead of adjusted_rand_index\n",
    "* roc_auc_score(labels, probas, average=\"weighted\", multi_class=\"ovo\") for metrics\n",
    "* ExtraTreesClassifier\n",
    "* KNN\n",
    "* Quadratic Discriminant Analysis\n",
    "* SVC\n",
    "* XGBoost\n",
    "* LightGBM"
   ]
  },
  {
   "cell_type": "code",
   "execution_count": null,
   "id": "dccbc25b-4c56-4f1a-9ff8-0b8da79f1fe4",
   "metadata": {},
   "outputs": [],
   "source": []
  }
 ],
 "metadata": {
  "kernelspec": {
   "display_name": "ml",
   "language": "python",
   "name": "ml"
  },
  "language_info": {
   "codemirror_mode": {
    "name": "ipython",
    "version": 3
   },
   "file_extension": ".py",
   "mimetype": "text/x-python",
   "name": "python",
   "nbconvert_exporter": "python",
   "pygments_lexer": "ipython3",
   "version": "3.8.8"
  }
 },
 "nbformat": 4,
 "nbformat_minor": 5
}
