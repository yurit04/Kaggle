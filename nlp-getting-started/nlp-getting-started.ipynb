{
 "cells": [
  {
   "cell_type": "code",
   "execution_count": 1,
   "id": "cd7156d7-5715-49fe-acd2-204b6249cde9",
   "metadata": {},
   "outputs": [],
   "source": [
    "import os\n",
    "\n",
    "import numpy as np\n",
    "import pandas as pd\n",
    "import seaborn as sns\n",
    "sns.set_theme()\n",
    "\n",
    "import sklearn\n",
    "from sklearn import metrics\n",
    "from sklearn.preprocessing import StandardScaler, MinMaxScaler\n",
    "from sklearn.model_selection import train_test_split, GridSearchCV\n",
    "from sklearn import preprocessing, decomposition, model_selection, metrics, pipeline\n",
    "from sklearn.feature_extraction.text import TfidfVectorizer, CountVectorizer\n",
    "from sklearn.decomposition import TruncatedSVD\n",
    "from sklearn.linear_model import LogisticRegression\n",
    "from sklearn.naive_bayes import MultinomialNB\n",
    "\n",
    "import tensorflow as tf\n",
    "from tensorflow import keras\n",
    "from keras import callbacks, models, layers, optimizers, losses, preprocessing\n",
    "import tensorflow_hub as hub\n",
    "import tensorflow_text\n",
    "\n",
    "import xgboost as xgb\n",
    "import catboost as cb"
   ]
  },
  {
   "cell_type": "markdown",
   "id": "bff7d826-2307-42a0-9a35-f3438cebf1fe",
   "metadata": {},
   "source": [
    "# Check if GPU is available"
   ]
  },
  {
   "cell_type": "code",
   "execution_count": 2,
   "id": "8c16307b-d847-4de7-9a53-0b8ce894152c",
   "metadata": {},
   "outputs": [
    {
     "data": {
      "text/plain": [
       "[PhysicalDevice(name='/physical_device:GPU:0', device_type='GPU')]"
      ]
     },
     "execution_count": 2,
     "metadata": {},
     "output_type": "execute_result"
    }
   ],
   "source": [
    "tf.config.list_physical_devices(device_type='GPU')"
   ]
  },
  {
   "cell_type": "markdown",
   "id": "652d3023-aabe-46a3-a07c-d068053ac48d",
   "metadata": {},
   "source": [
    "# Load Data"
   ]
  },
  {
   "cell_type": "code",
   "execution_count": 3,
   "id": "114d39cf-47c7-42ab-a1ec-7dd5120a9aaf",
   "metadata": {},
   "outputs": [
    {
     "name": "stdout",
     "output_type": "stream",
     "text": [
      "df_train.shape = (7613, 5)\n",
      "df_test.shape  = (3263, 4)\n",
      "df_all.shape   = (10876, 5)\n"
     ]
    }
   ],
   "source": [
    "df_train = pd.read_csv('../../Data/nlp-getting-started/train.csv')\n",
    "df_test  = pd.read_csv('../../Data/nlp-getting-started/test.csv')\n",
    "\n",
    "df_all = pd.concat([df_train, df_test])\n",
    "\n",
    "print(f'df_train.shape = {df_train.shape}')\n",
    "print(f'df_test.shape  = {df_test.shape}')\n",
    "print(f'df_all.shape   = {df_all.shape}')"
   ]
  },
  {
   "cell_type": "code",
   "execution_count": 4,
   "id": "fa8ead9d-daad-4376-b81f-aac1ff770980",
   "metadata": {},
   "outputs": [
    {
     "data": {
      "text/html": [
       "<div>\n",
       "<style scoped>\n",
       "    .dataframe tbody tr th:only-of-type {\n",
       "        vertical-align: middle;\n",
       "    }\n",
       "\n",
       "    .dataframe tbody tr th {\n",
       "        vertical-align: top;\n",
       "    }\n",
       "\n",
       "    .dataframe thead th {\n",
       "        text-align: right;\n",
       "    }\n",
       "</style>\n",
       "<table border=\"1\" class=\"dataframe\">\n",
       "  <thead>\n",
       "    <tr style=\"text-align: right;\">\n",
       "      <th></th>\n",
       "      <th>id</th>\n",
       "      <th>keyword</th>\n",
       "      <th>location</th>\n",
       "      <th>text</th>\n",
       "      <th>target</th>\n",
       "    </tr>\n",
       "  </thead>\n",
       "  <tbody>\n",
       "    <tr>\n",
       "      <th>0</th>\n",
       "      <td>1</td>\n",
       "      <td>NaN</td>\n",
       "      <td>NaN</td>\n",
       "      <td>Our Deeds are the Reason of this #earthquake M...</td>\n",
       "      <td>1</td>\n",
       "    </tr>\n",
       "    <tr>\n",
       "      <th>1</th>\n",
       "      <td>4</td>\n",
       "      <td>NaN</td>\n",
       "      <td>NaN</td>\n",
       "      <td>Forest fire near La Ronge Sask. Canada</td>\n",
       "      <td>1</td>\n",
       "    </tr>\n",
       "  </tbody>\n",
       "</table>\n",
       "</div>"
      ],
      "text/plain": [
       "   id keyword location                                               text  \\\n",
       "0   1     NaN      NaN  Our Deeds are the Reason of this #earthquake M...   \n",
       "1   4     NaN      NaN             Forest fire near La Ronge Sask. Canada   \n",
       "\n",
       "   target  \n",
       "0       1  \n",
       "1       1  "
      ]
     },
     "execution_count": 4,
     "metadata": {},
     "output_type": "execute_result"
    }
   ],
   "source": [
    "df_train.head(2)"
   ]
  },
  {
   "cell_type": "code",
   "execution_count": 5,
   "id": "03f25743-002c-45ea-b2e8-bfc2deef9c87",
   "metadata": {},
   "outputs": [
    {
     "data": {
      "image/png": "[encoded data removed]",
      "text/plain": [
       "<Figure size 576x144 with 1 Axes>"
      ]
     },
     "metadata": {},
     "output_type": "display_data"
    }
   ],
   "source": [
    "_ = df_train['target'].value_counts().sort_index().plot.bar(figsize=(8,2), title='Disaser vs. Non-Disaster Tweets Count')"
   ]
  },
  {
   "cell_type": "code",
   "execution_count": 6,
   "id": "c9a03c13-c623-421f-a96e-212237642def",
   "metadata": {},
   "outputs": [
    {
     "name": "stdout",
     "output_type": "stream",
     "text": [
      "<class 'pandas.core.frame.DataFrame'>\n",
      "RangeIndex: 7613 entries, 0 to 7612\n",
      "Data columns (total 5 columns):\n",
      " #   Column    Non-Null Count  Dtype \n",
      "---  ------    --------------  ----- \n",
      " 0   id        7613 non-null   int64 \n",
      " 1   keyword   7552 non-null   object\n",
      " 2   location  5080 non-null   object\n",
      " 3   text      7613 non-null   object\n",
      " 4   target    7613 non-null   int64 \n",
      "dtypes: int64(2), object(3)\n",
      "memory usage: 297.5+ KB\n"
     ]
    }
   ],
   "source": [
    "df_train.info()"
   ]
  },
  {
   "cell_type": "code",
   "execution_count": 7,
   "id": "63e9b3d9-80d1-43fa-975d-2d567bbac3ba",
   "metadata": {},
   "outputs": [
    {
     "data": {
      "text/plain": [
       "31    ablaze\n",
       "32    ablaze\n",
       "33    ablaze\n",
       "34    ablaze\n",
       "35    ablaze\n",
       "Name: keyword, dtype: object"
      ]
     },
     "execution_count": 7,
     "metadata": {},
     "output_type": "execute_result"
    }
   ],
   "source": [
    "df_train['keyword'].dropna().head()"
   ]
  },
  {
   "cell_type": "code",
   "execution_count": 8,
   "id": "f9869eeb-5d73-4137-abc4-5ea360eb0969",
   "metadata": {},
   "outputs": [
    {
     "data": {
      "text/plain": [
       "fatalities               45\n",
       "deluge                   42\n",
       "armageddon               42\n",
       "body%20bags              41\n",
       "sinking                  41\n",
       "                         ..\n",
       "forest%20fire            19\n",
       "epicentre                12\n",
       "threat                   11\n",
       "inundation               10\n",
       "radiation%20emergency     9\n",
       "Name: keyword, Length: 221, dtype: int64"
      ]
     },
     "execution_count": 8,
     "metadata": {},
     "output_type": "execute_result"
    }
   ],
   "source": [
    "df_train['keyword'].value_counts()"
   ]
  },
  {
   "cell_type": "code",
   "execution_count": 9,
   "id": "90d88304-b88d-4a8c-9b13-7fe331f9c993",
   "metadata": {},
   "outputs": [
    {
     "data": {
      "text/plain": [
       "31                       Birmingham\n",
       "32    Est. September 2012 - Bristol\n",
       "33                           AFRICA\n",
       "34                 Philadelphia, PA\n",
       "35                       London, UK\n",
       "Name: location, dtype: object"
      ]
     },
     "execution_count": 9,
     "metadata": {},
     "output_type": "execute_result"
    }
   ],
   "source": [
    "df_train['location'].dropna().head()"
   ]
  },
  {
   "cell_type": "code",
   "execution_count": 10,
   "id": "f45a2d1c-5fa9-44ae-90b2-38acf3965bb4",
   "metadata": {},
   "outputs": [
    {
     "data": {
      "text/plain": [
       "USA                   104\n",
       "New York               71\n",
       "United States          50\n",
       "London                 45\n",
       "Canada                 29\n",
       "                     ... \n",
       "Anna Maria, FL          1\n",
       "Sioux Falls, S.D.       1\n",
       "Ebola                   1\n",
       "Srinagar,Kashmir        1\n",
       "MÌ©xico D.F.            1\n",
       "Name: location, Length: 3341, dtype: int64"
      ]
     },
     "execution_count": 10,
     "metadata": {},
     "output_type": "execute_result"
    }
   ],
   "source": [
    "df_train['location'].value_counts()"
   ]
  },
  {
   "cell_type": "markdown",
   "id": "8db4fa11-fec2-4acb-86a2-cdf7b1b14151",
   "metadata": {},
   "source": [
    "# Train-Test Split"
   ]
  },
  {
   "cell_type": "code",
   "execution_count": 11,
   "id": "f9ca46c8-7b3d-4284-9921-7a8695461e36",
   "metadata": {},
   "outputs": [
    {
     "name": "stdout",
     "output_type": "stream",
     "text": [
      "X_train.shape = (6851,) | y_train.shape = (6851,)\n",
      "X_val.shape   = (762,)  | y_val.shape   = (762,)\n"
     ]
    }
   ],
   "source": [
    "X_train, X_val, y_train, y_val = train_test_split(\n",
    "    df_train.text.values, df_train.target.values,\n",
    "    stratify=df_train.target.values,\n",
    "    random_state=42,\n",
    "    test_size=0.1,\n",
    "    shuffle=True\n",
    ")\n",
    "\n",
    "print(f'X_train.shape = {X_train.shape} | y_train.shape = {y_train.shape}')\n",
    "print(f'X_val.shape   = {X_val.shape}  | y_val.shape   = {y_val.shape}')"
   ]
  },
  {
   "cell_type": "markdown",
   "id": "7364a190-4865-4740-803e-a0d1c4af99be",
   "metadata": {},
   "source": [
    "# Building Basic Models"
   ]
  },
  {
   "cell_type": "markdown",
   "id": "e717ea20-9387-4fa8-847e-0fca9e7669d3",
   "metadata": {},
   "source": [
    "### Logistic Regression on TF-IDF"
   ]
  },
  {
   "cell_type": "code",
   "execution_count": 12,
   "id": "04ccd372-6c25-41df-9ea2-960eda1c25e9",
   "metadata": {},
   "outputs": [
    {
     "name": "stdout",
     "output_type": "stream",
     "text": [
      "X_train_tfv.shape = (6851, 9229) | y_train.shape = (6851,)\n",
      "X_val_tfv.shape   = (762, 9229)  | y_val.shape   = (762,)\n"
     ]
    }
   ],
   "source": [
    "tfv = TfidfVectorizer(\n",
    "    min_df=3,\n",
    "    max_features=None,\n",
    "    strip_accents='unicode',\n",
    "    analyzer='word',\n",
    "    token_pattern=r'\\w{1,}',\n",
    "    ngram_range=(1,3),\n",
    "    use_idf=1,\n",
    "    smooth_idf=1,\n",
    "    sublinear_tf=1,\n",
    "    stop_words='english'\n",
    ")\n",
    "\n",
    "tfv.fit(list(X_train) + list(X_val))\n",
    "\n",
    "X_train_tfv = tfv.transform(X_train)\n",
    "X_val_tfv   = tfv.transform(X_val)\n",
    "\n",
    "print(f'X_train_tfv.shape = {X_train_tfv.shape} | y_train.shape = {y_train.shape}')\n",
    "print(f'X_val_tfv.shape   = {X_val_tfv.shape}  | y_val.shape   = {y_val.shape}')"
   ]
  },
  {
   "cell_type": "code",
   "execution_count": 13,
   "id": "6b1061da-7998-4b59-829b-a987253a10e1",
   "metadata": {},
   "outputs": [
    {
     "name": "stdout",
     "output_type": "stream",
     "text": [
      "F1 Score  = 0.75712\n",
      "Precision = 0.83704\n",
      "Recall    = 0.69113\n"
     ]
    }
   ],
   "source": [
    "clf = LogisticRegression(C=1.0)\n",
    "clf.fit(X_train_tfv, y_train)\n",
    "\n",
    "predictions = clf.predict(X_val_tfv)\n",
    "\n",
    "print(f'F1 Score  = {np.round(metrics.f1_score(y_true=y_val, y_pred=predictions),5)}')\n",
    "print(f'Precision = {np.round(metrics.precision_score(y_true=y_val, y_pred=predictions),5)}')\n",
    "print(f'Recall    = {np.round(metrics.recall_score(y_true=y_val, y_pred=predictions),5)}')"
   ]
  },
  {
   "cell_type": "markdown",
   "id": "2888bb84-84e8-48ce-9449-da263c7e59e7",
   "metadata": {},
   "source": [
    "### Logistic Regression on CountVectorizer"
   ]
  },
  {
   "cell_type": "code",
   "execution_count": 14,
   "id": "35c1f552-3b93-440e-bc9a-3341f2041517",
   "metadata": {},
   "outputs": [
    {
     "name": "stdout",
     "output_type": "stream",
     "text": [
      "X_train_ctv.shape = (6851, 132070) | y_train.shape = (6851,)\n",
      "X_val_ctv.shape   = (762, 132070)  | y_val.shape   = (762,)\n"
     ]
    }
   ],
   "source": [
    "ctv = CountVectorizer(\n",
    "    analyzer='word',\n",
    "    token_pattern='\\w{1,}',\n",
    "    ngram_range=(1,3),\n",
    "    stop_words='english',\n",
    ")\n",
    "\n",
    "ctv.fit(list(X_train) + list(X_val))\n",
    "\n",
    "X_train_ctv = ctv.transform(X_train)\n",
    "X_val_ctv   = ctv.transform(X_val)\n",
    "\n",
    "print(f'X_train_ctv.shape = {X_train_ctv.shape} | y_train.shape = {y_train.shape}')\n",
    "print(f'X_val_ctv.shape   = {X_val_ctv.shape}  | y_val.shape   = {y_val.shape}')"
   ]
  },
  {
   "cell_type": "code",
   "execution_count": 15,
   "id": "583108d0-a7c3-4c00-94c2-b16212fb7ae5",
   "metadata": {},
   "outputs": [
    {
     "name": "stdout",
     "output_type": "stream",
     "text": [
      "F1 Score  = 0.73737\n",
      "Precision = 0.82022\n",
      "Recall    = 0.66972\n"
     ]
    }
   ],
   "source": [
    "clf = LogisticRegression(C=1.0)\n",
    "clf.fit(X_train_ctv, y_train)\n",
    "\n",
    "predictions = clf.predict(X_val_ctv)\n",
    "\n",
    "print(f'F1 Score  = {np.round(metrics.f1_score(y_true=y_val, y_pred=predictions),5)}')\n",
    "print(f'Precision = {np.round(metrics.precision_score(y_true=y_val, y_pred=predictions),5)}')\n",
    "print(f'Recall    = {np.round(metrics.recall_score(y_true=y_val, y_pred=predictions),5)}')"
   ]
  },
  {
   "cell_type": "markdown",
   "id": "d72f2f37-f661-43f9-85f4-0c5fb0f8850d",
   "metadata": {},
   "source": [
    "### Naive Bayes on TF-IDF"
   ]
  },
  {
   "cell_type": "code",
   "execution_count": 16,
   "id": "60f2a453-2d51-4674-826e-57e58203ab6b",
   "metadata": {},
   "outputs": [
    {
     "name": "stdout",
     "output_type": "stream",
     "text": [
      "F1 Score  = 0.72125\n",
      "Precision = 0.83806\n",
      "Recall    = 0.63303\n"
     ]
    }
   ],
   "source": [
    "clf = MultinomialNB()\n",
    "clf.fit(X_train_tfv, y_train)\n",
    "\n",
    "predictions = clf.predict(X_val_tfv)\n",
    "\n",
    "print(f'F1 Score  = {np.round(metrics.f1_score(y_true=y_val, y_pred=predictions),5)}')\n",
    "print(f'Precision = {np.round(metrics.precision_score(y_true=y_val, y_pred=predictions),5)}')\n",
    "print(f'Recall    = {np.round(metrics.recall_score(y_true=y_val, y_pred=predictions),5)}')"
   ]
  },
  {
   "cell_type": "markdown",
   "id": "be58f655-1890-44d2-a57b-2e9a50ef91f8",
   "metadata": {},
   "source": [
    "### XGBoost on TF-IDF"
   ]
  },
  {
   "cell_type": "code",
   "execution_count": 17,
   "id": "57dd7124-2d8e-4749-a855-dbd6b9df80d6",
   "metadata": {},
   "outputs": [
    {
     "name": "stdout",
     "output_type": "stream",
     "text": [
      "F1 Score  = 0.73058\n",
      "Precision = 0.79496\n",
      "Recall    = 0.67584\n"
     ]
    }
   ],
   "source": [
    "clf = xgb.XGBClassifier(\n",
    "    max_depth=7, \n",
    "    n_estimators=200, \n",
    "    colsample_bytree=0.8, \n",
    "    subsample=0.8, \n",
    "    nthread=10, \n",
    "    learning_rate=0.1,\n",
    "    use_label_encoder=False,\n",
    "    eval_metric='logloss',\n",
    ")\n",
    "\n",
    "clf.fit(X_train_tfv, y_train)\n",
    "\n",
    "predictions = clf.predict(X_val_tfv)\n",
    "\n",
    "print(f'F1 Score  = {np.round(metrics.f1_score(y_true=y_val, y_pred=predictions),5)}')\n",
    "print(f'Precision = {np.round(metrics.precision_score(y_true=y_val, y_pred=predictions),5)}')\n",
    "print(f'Recall    = {np.round(metrics.recall_score(y_true=y_val, y_pred=predictions),5)}')"
   ]
  },
  {
   "cell_type": "markdown",
   "id": "db2f40fe-c863-4b18-a967-a94bbafbcf94",
   "metadata": {},
   "source": [
    "### XGBoost on CountVectorizer"
   ]
  },
  {
   "cell_type": "code",
   "execution_count": 18,
   "id": "7c83f4bd-1e21-4562-86a3-2f47a3999a8e",
   "metadata": {},
   "outputs": [
    {
     "name": "stdout",
     "output_type": "stream",
     "text": [
      "F1 Score  = 0.74622\n",
      "Precision = 0.82836\n",
      "Recall    = 0.6789\n"
     ]
    }
   ],
   "source": [
    "clf = xgb.XGBClassifier(\n",
    "    max_depth=7, \n",
    "    n_estimators=200, \n",
    "    colsample_bytree=0.8, \n",
    "    subsample=0.8, \n",
    "    nthread=10, \n",
    "    learning_rate=0.1,\n",
    "    use_label_encoder=False,\n",
    "    eval_metric='logloss',\n",
    ")\n",
    "\n",
    "clf.fit(X_train_ctv, y_train)\n",
    "\n",
    "predictions = clf.predict(X_val_ctv)\n",
    "\n",
    "print(f'F1 Score  = {np.round(metrics.f1_score(y_true=y_val, y_pred=predictions),5)}')\n",
    "print(f'Precision = {np.round(metrics.precision_score(y_true=y_val, y_pred=predictions),5)}')\n",
    "print(f'Recall    = {np.round(metrics.recall_score(y_true=y_val, y_pred=predictions),5)}')"
   ]
  },
  {
   "cell_type": "markdown",
   "id": "7af6194c-23d5-4efc-99ff-ca8b39526af4",
   "metadata": {},
   "source": [
    "# Deep Learning"
   ]
  },
  {
   "cell_type": "code",
   "execution_count": 19,
   "id": "29ddf7d8-fad2-4b1c-8b97-835c69ec3652",
   "metadata": {},
   "outputs": [],
   "source": [
    "tf.random.set_seed(42)"
   ]
  },
  {
   "cell_type": "code",
   "execution_count": 20,
   "id": "d629d061-91f2-4773-8b09-9fb4bb9fabb2",
   "metadata": {},
   "outputs": [],
   "source": [
    "TFHUB_CACHE_DIR = os.path.join(os.curdir, \"my_tfhub_cache\")\n",
    "os.environ[\"TFHUB_CACHE_DIR\"] = TFHUB_CACHE_DIR"
   ]
  },
  {
   "cell_type": "markdown",
   "id": "88b5253e-43ab-4f50-9258-3deed2d0c916",
   "metadata": {},
   "source": [
    "### Using nnlm-en-dim50/1 embedding"
   ]
  },
  {
   "cell_type": "code",
   "execution_count": 116,
   "id": "0abe229d-5b3c-4a7d-a0fd-2c6b6a7c6246",
   "metadata": {},
   "outputs": [],
   "source": [
    "model = keras.Sequential([\n",
    "    hub.KerasLayer(\"https://tfhub.dev/google/tf2-preview/nnlm-en-dim50/1\",\n",
    "                   dtype=tf.string, input_shape=[], output_shape=[50]),\n",
    "    keras.layers.Dense(128, activation=\"relu\"),\n",
    "    keras.layers.Dense(1, activation=\"sigmoid\")\n",
    "])\n",
    "\n",
    "model.compile(loss=\"binary_crossentropy\", optimizer=\"adam\",\n",
    "              metrics=[\"accuracy\"])"
   ]
  },
  {
   "cell_type": "code",
   "execution_count": 117,
   "id": "395efb33-9684-43ea-984a-373732206327",
   "metadata": {},
   "outputs": [],
   "source": [
    "history = model.fit(\n",
    "    X_train, y_train, \n",
    "    validation_data=(X_val, y_val),\n",
    "    epochs=5,\n",
    "    verbose=0\n",
    ")"
   ]
  },
  {
   "cell_type": "code",
   "execution_count": 118,
   "id": "af3d9f2e-7481-4418-8a72-05c585a1235a",
   "metadata": {},
   "outputs": [
    {
     "name": "stdout",
     "output_type": "stream",
     "text": [
      "24/24 [==============================] - 0s 3ms/step - loss: 0.4766 - accuracy: 0.7756\n"
     ]
    },
    {
     "data": {
      "text/plain": [
       "[0.47655734419822693, 0.7755905389785767]"
      ]
     },
     "execution_count": 118,
     "metadata": {},
     "output_type": "execute_result"
    }
   ],
   "source": [
    "model.evaluate(X_val, y_val)"
   ]
  },
  {
   "cell_type": "code",
   "execution_count": 119,
   "id": "89f1d181-31e1-420b-b797-34c62a840f22",
   "metadata": {},
   "outputs": [
    {
     "data": {
      "text/plain": [
       "<AxesSubplot:>"
      ]
     },
     "execution_count": 119,
     "metadata": {},
     "output_type": "execute_result"
    },
    {
     "data": {
      "image/png": "[encoded data removed]",
      "text/plain": [
       "<Figure size 432x288 with 1 Axes>"
      ]
     },
     "metadata": {},
     "output_type": "display_data"
    }
   ],
   "source": [
    "pd.DataFrame(history.history)[['loss', 'val_loss']].plot()"
   ]
  },
  {
   "cell_type": "code",
   "execution_count": 120,
   "id": "d9728878-12cf-4bf8-abc8-fe09b3c6968f",
   "metadata": {},
   "outputs": [
    {
     "data": {
      "text/plain": [
       "<AxesSubplot:>"
      ]
     },
     "execution_count": 120,
     "metadata": {},
     "output_type": "execute_result"
    },
    {
     "data": {
      "image/png": "[encoded data removed]",
      "text/plain": [
       "<Figure size 432x288 with 1 Axes>"
      ]
     },
     "metadata": {},
     "output_type": "display_data"
    }
   ],
   "source": [
    "pd.DataFrame(history.history)[['accuracy', 'val_accuracy']].plot()"
   ]
  },
  {
   "cell_type": "code",
   "execution_count": 121,
   "id": "8754dd6a-0c55-4561-a526-6d649c279e6e",
   "metadata": {},
   "outputs": [
    {
     "name": "stdout",
     "output_type": "stream",
     "text": [
      "24/24 [==============================] - 0s 2ms/step\n",
      "F1 Score  = 0.71921\n",
      "Precision = 0.7766\n",
      "Recall    = 0.66972\n"
     ]
    }
   ],
   "source": [
    "predictions = model.predict(X_val)\n",
    "\n",
    "predictions = np.round(predictions)\n",
    "\n",
    "print(f'F1 Score  = {np.round(metrics.f1_score(y_true=y_val, y_pred=predictions),5)}')\n",
    "print(f'Precision = {np.round(metrics.precision_score(y_true=y_val, y_pred=predictions),5)}')\n",
    "print(f'Recall    = {np.round(metrics.recall_score(y_true=y_val, y_pred=predictions),5)}')"
   ]
  },
  {
   "cell_type": "markdown",
   "id": "0c87d719-5884-4eb4-a3d0-29d55f7dc844",
   "metadata": {},
   "source": [
    "### Using universal-sentence-encoder-multilingual embedding"
   ]
  },
  {
   "cell_type": "code",
   "execution_count": 134,
   "id": "a21736bf-eb1e-47c9-986b-87bdcc48c33e",
   "metadata": {},
   "outputs": [],
   "source": [
    "model = keras.Sequential([\n",
    "    hub.KerasLayer(\"https://tfhub.dev/google/universal-sentence-encoder-multilingual/3\",\n",
    "                   dtype=tf.string, input_shape=[], output_shape=[50]),    \n",
    "    layers.Dense(128, activation=\"relu\"),\n",
    "    layers.Dense(1, activation=\"sigmoid\")\n",
    "])\n",
    "\n",
    "model.compile(loss=\"binary_crossentropy\", optimizer=\"adam\",\n",
    "              metrics=[\"accuracy\"])"
   ]
  },
  {
   "cell_type": "code",
   "execution_count": 135,
   "id": "0740ee4a-015f-49f9-b4a4-bd69ae68ab5b",
   "metadata": {},
   "outputs": [
    {
     "name": "stdout",
     "output_type": "stream",
     "text": [
      "Epoch 1/2\n",
      "215/215 [==============================] - 6s 16ms/step - loss: 0.4969 - accuracy: 0.7824 - val_loss: 0.4172 - val_accuracy: 0.8110\n",
      "Epoch 2/2\n",
      "215/215 [==============================] - 3s 13ms/step - loss: 0.4188 - accuracy: 0.8154 - val_loss: 0.4067 - val_accuracy: 0.8360\n"
     ]
    }
   ],
   "source": [
    "history = model.fit(\n",
    "    X_train, y_train, \n",
    "    validation_data=(X_val, y_val),\n",
    "    epochs=2,\n",
    "    verbose=1\n",
    ")"
   ]
  },
  {
   "cell_type": "code",
   "execution_count": 136,
   "id": "16631ce4-6f22-4f76-b7a7-748e3bb18e96",
   "metadata": {},
   "outputs": [
    {
     "name": "stdout",
     "output_type": "stream",
     "text": [
      "24/24 [==============================] - 0s 12ms/step - loss: 0.4067 - accuracy: 0.8360\n"
     ]
    },
    {
     "data": {
      "text/plain": [
       "[0.4067223370075226, 0.8359580039978027]"
      ]
     },
     "execution_count": 136,
     "metadata": {},
     "output_type": "execute_result"
    }
   ],
   "source": [
    "model.evaluate(X_val, y_val)"
   ]
  },
  {
   "cell_type": "code",
   "execution_count": 137,
   "id": "4e2d5617-26b5-41a7-9a5d-3ad520737c1c",
   "metadata": {},
   "outputs": [
    {
     "data": {
      "text/plain": [
       "<AxesSubplot:>"
      ]
     },
     "execution_count": 137,
     "metadata": {},
     "output_type": "execute_result"
    },
    {
     "data": {
      "image/png": "[encoded data removed]",
      "text/plain": [
       "<Figure size 432x288 with 1 Axes>"
      ]
     },
     "metadata": {},
     "output_type": "display_data"
    }
   ],
   "source": [
    "pd.DataFrame(history.history)[['loss', 'val_loss']].plot()"
   ]
  },
  {
   "cell_type": "code",
   "execution_count": 138,
   "id": "bb83f539-b8d2-4cd0-a738-c3bdf924a8a9",
   "metadata": {},
   "outputs": [
    {
     "data": {
      "text/plain": [
       "<AxesSubplot:>"
      ]
     },
     "execution_count": 138,
     "metadata": {},
     "output_type": "execute_result"
    },
    {
     "data": {
      "image/png": "[encoded data removed]",
      "text/plain": [
       "<Figure size 432x288 with 1 Axes>"
      ]
     },
     "metadata": {},
     "output_type": "display_data"
    }
   ],
   "source": [
    "pd.DataFrame(history.history)[['accuracy', 'val_accuracy']].plot()"
   ]
  },
  {
   "cell_type": "code",
   "execution_count": 139,
   "id": "38c9fdac-000c-45c0-bc47-d83860c80490",
   "metadata": {},
   "outputs": [
    {
     "name": "stdout",
     "output_type": "stream",
     "text": [
      "24/24 [==============================] - 1s 11ms/step\n",
      "F1 Score  = 0.79871\n",
      "Precision = 0.84354\n",
      "Recall    = 0.75841\n"
     ]
    }
   ],
   "source": [
    "predictions = model.predict(X_val)\n",
    "\n",
    "predictions = np.round(predictions)\n",
    "\n",
    "print(f'F1 Score  = {np.round(metrics.f1_score(y_true=y_val, y_pred=predictions),5)}')\n",
    "print(f'Precision = {np.round(metrics.precision_score(y_true=y_val, y_pred=predictions),5)}')\n",
    "print(f'Recall    = {np.round(metrics.recall_score(y_true=y_val, y_pred=predictions),5)}')"
   ]
  },
  {
   "cell_type": "code",
   "execution_count": 140,
   "id": "7aa4a69d-2462-49a7-a270-f9c48a1f6770",
   "metadata": {},
   "outputs": [
    {
     "name": "stdout",
     "output_type": "stream",
     "text": [
      "102/102 [==============================] - 1s 14ms/step\n"
     ]
    }
   ],
   "source": [
    "predictions = model.predict(df_test.text.values)\n",
    "predictions = np.round(predictions).astype(int)\n",
    "\n",
    "submission = pd.DataFrame({'id': df_test['id'], 'target': predictions.reshape(-1)})\n",
    "submission.to_csv('submission.csv', index=False)"
   ]
  },
  {
   "cell_type": "markdown",
   "id": "6f35eea6-49b0-4258-9e2e-736c7dee2dac",
   "metadata": {},
   "source": [
    "#### Leaderboard Score\n",
    "\n",
    "<img src=\"score_univ_sen_encoder.png\">"
   ]
  },
  {
   "cell_type": "code",
   "execution_count": null,
   "id": "cc741872-6789-4b1d-aea0-fe3acecf98ca",
   "metadata": {},
   "outputs": [],
   "source": []
  }
 ],
 "metadata": {
  "kernelspec": {
   "display_name": "ml",
   "language": "python",
   "name": "ml"
  },
  "language_info": {
   "codemirror_mode": {
    "name": "ipython",
    "version": 3
   },
   "file_extension": ".py",
   "mimetype": "text/x-python",
   "name": "python",
   "nbconvert_exporter": "python",
   "pygments_lexer": "ipython3",
   "version": "3.8.8"
  }
 },
 "nbformat": 4,
 "nbformat_minor": 5
}
