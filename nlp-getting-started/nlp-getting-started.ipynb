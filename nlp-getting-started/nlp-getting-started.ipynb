{
 "cells": [
  {
   "cell_type": "code",
   "execution_count": 77,
   "id": "cd7156d7-5715-49fe-acd2-204b6249cde9",
   "metadata": {},
   "outputs": [],
   "source": [
    "import os\n",
    "\n",
    "import numpy as np\n",
    "import pandas as pd\n",
    "import seaborn as sns\n",
    "sns.set_theme()\n",
    "\n",
    "import sklearn\n",
    "from sklearn import metrics\n",
    "from sklearn.preprocessing import StandardScaler, MinMaxScaler\n",
    "from sklearn.model_selection import train_test_split, GridSearchCV\n",
    "from sklearn import preprocessing, decomposition, model_selection, metrics, pipeline\n",
    "from sklearn.feature_extraction.text import TfidfVectorizer, CountVectorizer\n",
    "from sklearn.decomposition import TruncatedSVD\n",
    "from sklearn.linear_model import LogisticRegression\n",
    "from sklearn.naive_bayes import MultinomialNB\n",
    "\n",
    "import tensorflow as tf\n",
    "from tensorflow import keras\n",
    "from keras import callbacks, models, layers, optimizers, losses, preprocessing, regularizers\n",
    "import tensorflow_hub as hub\n",
    "import tensorflow_text\n",
    "\n",
    "import xgboost as xgb\n",
    "import catboost as cb"
   ]
  },
  {
   "cell_type": "markdown",
   "id": "bff7d826-2307-42a0-9a35-f3438cebf1fe",
   "metadata": {},
   "source": [
    "# Check if GPU is available"
   ]
  },
  {
   "cell_type": "code",
   "execution_count": 2,
   "id": "8c16307b-d847-4de7-9a53-0b8ce894152c",
   "metadata": {},
   "outputs": [
    {
     "data": {
      "text/plain": [
       "[PhysicalDevice(name='/physical_device:GPU:0', device_type='GPU')]"
      ]
     },
     "execution_count": 2,
     "metadata": {},
     "output_type": "execute_result"
    }
   ],
   "source": [
    "tf.config.list_physical_devices(device_type='GPU')"
   ]
  },
  {
   "cell_type": "markdown",
   "id": "652d3023-aabe-46a3-a07c-d068053ac48d",
   "metadata": {},
   "source": [
    "# Load Data"
   ]
  },
  {
   "cell_type": "code",
   "execution_count": 3,
   "id": "114d39cf-47c7-42ab-a1ec-7dd5120a9aaf",
   "metadata": {},
   "outputs": [
    {
     "name": "stdout",
     "output_type": "stream",
     "text": [
      "df_train.shape = (7613, 5)\n",
      "df_test.shape  = (3263, 4)\n",
      "df_all.shape   = (10876, 5)\n"
     ]
    }
   ],
   "source": [
    "df_train = pd.read_csv('../../Data/nlp-getting-started/train.csv')\n",
    "df_test  = pd.read_csv('../../Data/nlp-getting-started/test.csv')\n",
    "\n",
    "df_all = pd.concat([df_train, df_test])\n",
    "\n",
    "print(f'df_train.shape = {df_train.shape}')\n",
    "print(f'df_test.shape  = {df_test.shape}')\n",
    "print(f'df_all.shape   = {df_all.shape}')"
   ]
  },
  {
   "cell_type": "code",
   "execution_count": 4,
   "id": "fa8ead9d-daad-4376-b81f-aac1ff770980",
   "metadata": {},
   "outputs": [
    {
     "data": {
      "text/html": [
       "<div>\n",
       "<style scoped>\n",
       "    .dataframe tbody tr th:only-of-type {\n",
       "        vertical-align: middle;\n",
       "    }\n",
       "\n",
       "    .dataframe tbody tr th {\n",
       "        vertical-align: top;\n",
       "    }\n",
       "\n",
       "    .dataframe thead th {\n",
       "        text-align: right;\n",
       "    }\n",
       "</style>\n",
       "<table border=\"1\" class=\"dataframe\">\n",
       "  <thead>\n",
       "    <tr style=\"text-align: right;\">\n",
       "      <th></th>\n",
       "      <th>id</th>\n",
       "      <th>keyword</th>\n",
       "      <th>location</th>\n",
       "      <th>text</th>\n",
       "      <th>target</th>\n",
       "    </tr>\n",
       "  </thead>\n",
       "  <tbody>\n",
       "    <tr>\n",
       "      <th>0</th>\n",
       "      <td>1</td>\n",
       "      <td>NaN</td>\n",
       "      <td>NaN</td>\n",
       "      <td>Our Deeds are the Reason of this #earthquake M...</td>\n",
       "      <td>1</td>\n",
       "    </tr>\n",
       "    <tr>\n",
       "      <th>1</th>\n",
       "      <td>4</td>\n",
       "      <td>NaN</td>\n",
       "      <td>NaN</td>\n",
       "      <td>Forest fire near La Ronge Sask. Canada</td>\n",
       "      <td>1</td>\n",
       "    </tr>\n",
       "  </tbody>\n",
       "</table>\n",
       "</div>"
      ],
      "text/plain": [
       "   id keyword location                                               text  \\\n",
       "0   1     NaN      NaN  Our Deeds are the Reason of this #earthquake M...   \n",
       "1   4     NaN      NaN             Forest fire near La Ronge Sask. Canada   \n",
       "\n",
       "   target  \n",
       "0       1  \n",
       "1       1  "
      ]
     },
     "execution_count": 4,
     "metadata": {},
     "output_type": "execute_result"
    }
   ],
   "source": [
    "df_train.head(2)"
   ]
  },
  {
   "cell_type": "code",
   "execution_count": 5,
   "id": "03f25743-002c-45ea-b2e8-bfc2deef9c87",
   "metadata": {},
   "outputs": [
    {
     "data": {
      "image/png": "[encoded data removed]",
      "text/plain": [
       "<Figure size 576x144 with 1 Axes>"
      ]
     },
     "metadata": {},
     "output_type": "display_data"
    }
   ],
   "source": [
    "_ = df_train['target'].value_counts().sort_index().plot.bar(figsize=(8,2), title='Disaser vs. Non-Disaster Tweets Count')"
   ]
  },
  {
   "cell_type": "code",
   "execution_count": 6,
   "id": "c9a03c13-c623-421f-a96e-212237642def",
   "metadata": {},
   "outputs": [
    {
     "name": "stdout",
     "output_type": "stream",
     "text": [
      "<class 'pandas.core.frame.DataFrame'>\n",
      "RangeIndex: 7613 entries, 0 to 7612\n",
      "Data columns (total 5 columns):\n",
      " #   Column    Non-Null Count  Dtype \n",
      "---  ------    --------------  ----- \n",
      " 0   id        7613 non-null   int64 \n",
      " 1   keyword   7552 non-null   object\n",
      " 2   location  5080 non-null   object\n",
      " 3   text      7613 non-null   object\n",
      " 4   target    7613 non-null   int64 \n",
      "dtypes: int64(2), object(3)\n",
      "memory usage: 297.5+ KB\n"
     ]
    }
   ],
   "source": [
    "df_train.info()"
   ]
  },
  {
   "cell_type": "code",
   "execution_count": 7,
   "id": "63e9b3d9-80d1-43fa-975d-2d567bbac3ba",
   "metadata": {},
   "outputs": [
    {
     "data": {
      "text/plain": [
       "31    ablaze\n",
       "32    ablaze\n",
       "33    ablaze\n",
       "34    ablaze\n",
       "35    ablaze\n",
       "Name: keyword, dtype: object"
      ]
     },
     "execution_count": 7,
     "metadata": {},
     "output_type": "execute_result"
    }
   ],
   "source": [
    "df_train['keyword'].dropna().head()"
   ]
  },
  {
   "cell_type": "code",
   "execution_count": 8,
   "id": "f9869eeb-5d73-4137-abc4-5ea360eb0969",
   "metadata": {},
   "outputs": [
    {
     "data": {
      "text/plain": [
       "fatalities               45\n",
       "deluge                   42\n",
       "armageddon               42\n",
       "damage                   41\n",
       "sinking                  41\n",
       "                         ..\n",
       "forest%20fire            19\n",
       "epicentre                12\n",
       "threat                   11\n",
       "inundation               10\n",
       "radiation%20emergency     9\n",
       "Name: keyword, Length: 221, dtype: int64"
      ]
     },
     "execution_count": 8,
     "metadata": {},
     "output_type": "execute_result"
    }
   ],
   "source": [
    "df_train['keyword'].value_counts()"
   ]
  },
  {
   "cell_type": "code",
   "execution_count": 9,
   "id": "90d88304-b88d-4a8c-9b13-7fe331f9c993",
   "metadata": {},
   "outputs": [
    {
     "data": {
      "text/plain": [
       "31                       Birmingham\n",
       "32    Est. September 2012 - Bristol\n",
       "33                           AFRICA\n",
       "34                 Philadelphia, PA\n",
       "35                       London, UK\n",
       "Name: location, dtype: object"
      ]
     },
     "execution_count": 9,
     "metadata": {},
     "output_type": "execute_result"
    }
   ],
   "source": [
    "df_train['location'].dropna().head()"
   ]
  },
  {
   "cell_type": "code",
   "execution_count": 10,
   "id": "f45a2d1c-5fa9-44ae-90b2-38acf3965bb4",
   "metadata": {},
   "outputs": [
    {
     "data": {
      "text/plain": [
       "USA                            104\n",
       "New York                        71\n",
       "United States                   50\n",
       "London                          45\n",
       "Canada                          29\n",
       "                              ... \n",
       "??????????? ???????????..?       1\n",
       "Monterrey, MÌ©xico               1\n",
       "EspaÌ±a - Spain - Espagne        1\n",
       "West Africa                      1\n",
       "Kualar Lumpur, Malaysia          1\n",
       "Name: location, Length: 3341, dtype: int64"
      ]
     },
     "execution_count": 10,
     "metadata": {},
     "output_type": "execute_result"
    }
   ],
   "source": [
    "df_train['location'].value_counts()"
   ]
  },
  {
   "cell_type": "markdown",
   "id": "8db4fa11-fec2-4acb-86a2-cdf7b1b14151",
   "metadata": {},
   "source": [
    "# Train-Test Split"
   ]
  },
  {
   "cell_type": "code",
   "execution_count": 11,
   "id": "f9ca46c8-7b3d-4284-9921-7a8695461e36",
   "metadata": {},
   "outputs": [
    {
     "name": "stdout",
     "output_type": "stream",
     "text": [
      "X_train.shape = (6851,) | y_train.shape = (6851,)\n",
      "X_val.shape   = (762,)  | y_val.shape   = (762,)\n"
     ]
    }
   ],
   "source": [
    "X_train, X_val, y_train, y_val = train_test_split(\n",
    "    df_train.text.values, df_train.target.values,\n",
    "    stratify=df_train.target.values,\n",
    "    random_state=42,\n",
    "    test_size=0.1,\n",
    "    shuffle=True\n",
    ")\n",
    "\n",
    "print(f'X_train.shape = {X_train.shape} | y_train.shape = {y_train.shape}')\n",
    "print(f'X_val.shape   = {X_val.shape}  | y_val.shape   = {y_val.shape}')"
   ]
  },
  {
   "cell_type": "markdown",
   "id": "7364a190-4865-4740-803e-a0d1c4af99be",
   "metadata": {},
   "source": [
    "# Building Basic Models"
   ]
  },
  {
   "cell_type": "markdown",
   "id": "e717ea20-9387-4fa8-847e-0fca9e7669d3",
   "metadata": {},
   "source": [
    "### Logistic Regression on TF-IDF"
   ]
  },
  {
   "cell_type": "code",
   "execution_count": 12,
   "id": "04ccd372-6c25-41df-9ea2-960eda1c25e9",
   "metadata": {},
   "outputs": [
    {
     "name": "stdout",
     "output_type": "stream",
     "text": [
      "X_train_tfv.shape = (6851, 9229) | y_train.shape = (6851,)\n",
      "X_val_tfv.shape   = (762, 9229)  | y_val.shape   = (762,)\n"
     ]
    }
   ],
   "source": [
    "tfv = TfidfVectorizer(\n",
    "    min_df=3,\n",
    "    max_features=None,\n",
    "    strip_accents='unicode',\n",
    "    analyzer='word',\n",
    "    token_pattern=r'\\w{1,}',\n",
    "    ngram_range=(1,3),\n",
    "    use_idf=1,\n",
    "    smooth_idf=1,\n",
    "    sublinear_tf=1,\n",
    "    stop_words='english'\n",
    ")\n",
    "\n",
    "tfv.fit(list(X_train) + list(X_val))\n",
    "\n",
    "X_train_tfv = tfv.transform(X_train)\n",
    "X_val_tfv   = tfv.transform(X_val)\n",
    "\n",
    "print(f'X_train_tfv.shape = {X_train_tfv.shape} | y_train.shape = {y_train.shape}')\n",
    "print(f'X_val_tfv.shape   = {X_val_tfv.shape}  | y_val.shape   = {y_val.shape}')"
   ]
  },
  {
   "cell_type": "code",
   "execution_count": 13,
   "id": "6b1061da-7998-4b59-829b-a987253a10e1",
   "metadata": {},
   "outputs": [
    {
     "name": "stdout",
     "output_type": "stream",
     "text": [
      "F1 Score  = 0.75712\n",
      "Precision = 0.83704\n",
      "Recall    = 0.69113\n"
     ]
    }
   ],
   "source": [
    "clf = LogisticRegression(C=1.0)\n",
    "clf.fit(X_train_tfv, y_train)\n",
    "\n",
    "predictions = clf.predict(X_val_tfv)\n",
    "\n",
    "print(f'F1 Score  = {np.round(metrics.f1_score(y_true=y_val, y_pred=predictions),5)}')\n",
    "print(f'Precision = {np.round(metrics.precision_score(y_true=y_val, y_pred=predictions),5)}')\n",
    "print(f'Recall    = {np.round(metrics.recall_score(y_true=y_val, y_pred=predictions),5)}')"
   ]
  },
  {
   "cell_type": "markdown",
   "id": "2888bb84-84e8-48ce-9449-da263c7e59e7",
   "metadata": {},
   "source": [
    "### Logistic Regression on CountVectorizer"
   ]
  },
  {
   "cell_type": "code",
   "execution_count": 14,
   "id": "35c1f552-3b93-440e-bc9a-3341f2041517",
   "metadata": {},
   "outputs": [
    {
     "name": "stdout",
     "output_type": "stream",
     "text": [
      "X_train_ctv.shape = (6851, 132070) | y_train.shape = (6851,)\n",
      "X_val_ctv.shape   = (762, 132070)  | y_val.shape   = (762,)\n"
     ]
    }
   ],
   "source": [
    "ctv = CountVectorizer(\n",
    "    analyzer='word',\n",
    "    token_pattern='\\w{1,}',\n",
    "    ngram_range=(1,3),\n",
    "    stop_words='english',\n",
    ")\n",
    "\n",
    "ctv.fit(list(X_train) + list(X_val))\n",
    "\n",
    "X_train_ctv = ctv.transform(X_train)\n",
    "X_val_ctv   = ctv.transform(X_val)\n",
    "\n",
    "print(f'X_train_ctv.shape = {X_train_ctv.shape} | y_train.shape = {y_train.shape}')\n",
    "print(f'X_val_ctv.shape   = {X_val_ctv.shape}  | y_val.shape   = {y_val.shape}')"
   ]
  },
  {
   "cell_type": "code",
   "execution_count": 15,
   "id": "583108d0-a7c3-4c00-94c2-b16212fb7ae5",
   "metadata": {},
   "outputs": [
    {
     "name": "stdout",
     "output_type": "stream",
     "text": [
      "F1 Score  = 0.73737\n",
      "Precision = 0.82022\n",
      "Recall    = 0.66972\n"
     ]
    }
   ],
   "source": [
    "clf = LogisticRegression(C=1.0)\n",
    "clf.fit(X_train_ctv, y_train)\n",
    "\n",
    "predictions = clf.predict(X_val_ctv)\n",
    "\n",
    "print(f'F1 Score  = {np.round(metrics.f1_score(y_true=y_val, y_pred=predictions),5)}')\n",
    "print(f'Precision = {np.round(metrics.precision_score(y_true=y_val, y_pred=predictions),5)}')\n",
    "print(f'Recall    = {np.round(metrics.recall_score(y_true=y_val, y_pred=predictions),5)}')"
   ]
  },
  {
   "cell_type": "markdown",
   "id": "d72f2f37-f661-43f9-85f4-0c5fb0f8850d",
   "metadata": {},
   "source": [
    "### Naive Bayes on TF-IDF"
   ]
  },
  {
   "cell_type": "code",
   "execution_count": 16,
   "id": "60f2a453-2d51-4674-826e-57e58203ab6b",
   "metadata": {},
   "outputs": [
    {
     "name": "stdout",
     "output_type": "stream",
     "text": [
      "F1 Score  = 0.72125\n",
      "Precision = 0.83806\n",
      "Recall    = 0.63303\n"
     ]
    }
   ],
   "source": [
    "clf = MultinomialNB()\n",
    "clf.fit(X_train_tfv, y_train)\n",
    "\n",
    "predictions = clf.predict(X_val_tfv)\n",
    "\n",
    "print(f'F1 Score  = {np.round(metrics.f1_score(y_true=y_val, y_pred=predictions),5)}')\n",
    "print(f'Precision = {np.round(metrics.precision_score(y_true=y_val, y_pred=predictions),5)}')\n",
    "print(f'Recall    = {np.round(metrics.recall_score(y_true=y_val, y_pred=predictions),5)}')"
   ]
  },
  {
   "cell_type": "markdown",
   "id": "be58f655-1890-44d2-a57b-2e9a50ef91f8",
   "metadata": {},
   "source": [
    "### XGBoost on TF-IDF"
   ]
  },
  {
   "cell_type": "code",
   "execution_count": 17,
   "id": "57dd7124-2d8e-4749-a855-dbd6b9df80d6",
   "metadata": {},
   "outputs": [
    {
     "name": "stdout",
     "output_type": "stream",
     "text": [
      "F1 Score  = 0.73058\n",
      "Precision = 0.79496\n",
      "Recall    = 0.67584\n"
     ]
    }
   ],
   "source": [
    "clf = xgb.XGBClassifier(\n",
    "    max_depth=7, \n",
    "    n_estimators=200, \n",
    "    colsample_bytree=0.8, \n",
    "    subsample=0.8, \n",
    "    nthread=10, \n",
    "    learning_rate=0.1,\n",
    "    use_label_encoder=False,\n",
    "    eval_metric='logloss',\n",
    ")\n",
    "\n",
    "clf.fit(X_train_tfv, y_train)\n",
    "\n",
    "predictions = clf.predict(X_val_tfv)\n",
    "\n",
    "print(f'F1 Score  = {np.round(metrics.f1_score(y_true=y_val, y_pred=predictions),5)}')\n",
    "print(f'Precision = {np.round(metrics.precision_score(y_true=y_val, y_pred=predictions),5)}')\n",
    "print(f'Recall    = {np.round(metrics.recall_score(y_true=y_val, y_pred=predictions),5)}')"
   ]
  },
  {
   "cell_type": "markdown",
   "id": "db2f40fe-c863-4b18-a967-a94bbafbcf94",
   "metadata": {},
   "source": [
    "### XGBoost on CountVectorizer"
   ]
  },
  {
   "cell_type": "code",
   "execution_count": 18,
   "id": "7c83f4bd-1e21-4562-86a3-2f47a3999a8e",
   "metadata": {},
   "outputs": [
    {
     "name": "stdout",
     "output_type": "stream",
     "text": [
      "F1 Score  = 0.74622\n",
      "Precision = 0.82836\n",
      "Recall    = 0.6789\n"
     ]
    }
   ],
   "source": [
    "clf = xgb.XGBClassifier(\n",
    "    max_depth=7, \n",
    "    n_estimators=200, \n",
    "    colsample_bytree=0.8, \n",
    "    subsample=0.8, \n",
    "    nthread=10, \n",
    "    learning_rate=0.1,\n",
    "    use_label_encoder=False,\n",
    "    eval_metric='logloss',\n",
    ")\n",
    "\n",
    "clf.fit(X_train_ctv, y_train)\n",
    "\n",
    "predictions = clf.predict(X_val_ctv)\n",
    "\n",
    "print(f'F1 Score  = {np.round(metrics.f1_score(y_true=y_val, y_pred=predictions),5)}')\n",
    "print(f'Precision = {np.round(metrics.precision_score(y_true=y_val, y_pred=predictions),5)}')\n",
    "print(f'Recall    = {np.round(metrics.recall_score(y_true=y_val, y_pred=predictions),5)}')"
   ]
  },
  {
   "cell_type": "markdown",
   "id": "7af6194c-23d5-4efc-99ff-ca8b39526af4",
   "metadata": {},
   "source": [
    "# Deep Learning"
   ]
  },
  {
   "cell_type": "code",
   "execution_count": 19,
   "id": "29ddf7d8-fad2-4b1c-8b97-835c69ec3652",
   "metadata": {},
   "outputs": [],
   "source": [
    "tf.random.set_seed(42)"
   ]
  },
  {
   "cell_type": "code",
   "execution_count": 20,
   "id": "d629d061-91f2-4773-8b09-9fb4bb9fabb2",
   "metadata": {},
   "outputs": [],
   "source": [
    "TFHUB_CACHE_DIR = os.path.join(os.curdir, \"my_tfhub_cache\")\n",
    "os.environ[\"TFHUB_CACHE_DIR\"] = TFHUB_CACHE_DIR"
   ]
  },
  {
   "cell_type": "markdown",
   "id": "88b5253e-43ab-4f50-9258-3deed2d0c916",
   "metadata": {},
   "source": [
    "### Using nnlm-en-dim50/1 embedding"
   ]
  },
  {
   "cell_type": "code",
   "execution_count": 21,
   "id": "0abe229d-5b3c-4a7d-a0fd-2c6b6a7c6246",
   "metadata": {},
   "outputs": [],
   "source": [
    "model = keras.Sequential([\n",
    "    hub.KerasLayer(\"https://tfhub.dev/google/tf2-preview/nnlm-en-dim50/1\",\n",
    "                   dtype=tf.string, input_shape=[], output_shape=[50]),\n",
    "    keras.layers.Dense(128, activation=\"relu\"),\n",
    "    keras.layers.Dense(1, activation=\"sigmoid\")\n",
    "])\n",
    "\n",
    "model.compile(loss=\"binary_crossentropy\", optimizer=\"adam\",\n",
    "              metrics=[\"accuracy\"])"
   ]
  },
  {
   "cell_type": "code",
   "execution_count": 22,
   "id": "395efb33-9684-43ea-984a-373732206327",
   "metadata": {},
   "outputs": [],
   "source": [
    "history = model.fit(\n",
    "    X_train, y_train, \n",
    "    validation_data=(X_val, y_val),\n",
    "    epochs=5,\n",
    "    verbose=0\n",
    ")"
   ]
  },
  {
   "cell_type": "code",
   "execution_count": 23,
   "id": "af3d9f2e-7481-4418-8a72-05c585a1235a",
   "metadata": {},
   "outputs": [
    {
     "name": "stdout",
     "output_type": "stream",
     "text": [
      "24/24 [==============================] - 0s 2ms/step - loss: 0.4773 - accuracy: 0.7703\n"
     ]
    },
    {
     "data": {
      "text/plain": [
       "[0.4773203432559967, 0.7703412175178528]"
      ]
     },
     "execution_count": 23,
     "metadata": {},
     "output_type": "execute_result"
    }
   ],
   "source": [
    "model.evaluate(X_val, y_val)"
   ]
  },
  {
   "cell_type": "code",
   "execution_count": 24,
   "id": "89f1d181-31e1-420b-b797-34c62a840f22",
   "metadata": {},
   "outputs": [
    {
     "data": {
      "text/plain": [
       "<AxesSubplot:>"
      ]
     },
     "execution_count": 24,
     "metadata": {},
     "output_type": "execute_result"
    },
    {
     "data": {
      "image/png": "[encoded data removed]",
      "text/plain": [
       "<Figure size 432x288 with 1 Axes>"
      ]
     },
     "metadata": {},
     "output_type": "display_data"
    }
   ],
   "source": [
    "pd.DataFrame(history.history)[['loss', 'val_loss']].plot()"
   ]
  },
  {
   "cell_type": "code",
   "execution_count": 25,
   "id": "d9728878-12cf-4bf8-abc8-fe09b3c6968f",
   "metadata": {},
   "outputs": [
    {
     "data": {
      "text/plain": [
       "<AxesSubplot:>"
      ]
     },
     "execution_count": 25,
     "metadata": {},
     "output_type": "execute_result"
    },
    {
     "data": {
      "image/png": "[encoded data removed]",
      "text/plain": [
       "<Figure size 432x288 with 1 Axes>"
      ]
     },
     "metadata": {},
     "output_type": "display_data"
    }
   ],
   "source": [
    "pd.DataFrame(history.history)[['accuracy', 'val_accuracy']].plot()"
   ]
  },
  {
   "cell_type": "code",
   "execution_count": 26,
   "id": "8754dd6a-0c55-4561-a526-6d649c279e6e",
   "metadata": {},
   "outputs": [
    {
     "name": "stdout",
     "output_type": "stream",
     "text": [
      "24/24 [==============================] - 0s 2ms/step\n",
      "F1 Score  = 0.71074\n",
      "Precision = 0.77338\n",
      "Recall    = 0.65749\n"
     ]
    }
   ],
   "source": [
    "predictions = model.predict(X_val)\n",
    "\n",
    "predictions = np.round(predictions)\n",
    "\n",
    "print(f'F1 Score  = {np.round(metrics.f1_score(y_true=y_val, y_pred=predictions),5)}')\n",
    "print(f'Precision = {np.round(metrics.precision_score(y_true=y_val, y_pred=predictions),5)}')\n",
    "print(f'Recall    = {np.round(metrics.recall_score(y_true=y_val, y_pred=predictions),5)}')"
   ]
  },
  {
   "cell_type": "markdown",
   "id": "0c87d719-5884-4eb4-a3d0-29d55f7dc844",
   "metadata": {},
   "source": [
    "### Using universal-sentence-encoder-multilingual embedding"
   ]
  },
  {
   "cell_type": "code",
   "execution_count": 27,
   "id": "a21736bf-eb1e-47c9-986b-87bdcc48c33e",
   "metadata": {},
   "outputs": [],
   "source": [
    "model = keras.Sequential([\n",
    "    hub.KerasLayer(\"https://tfhub.dev/google/universal-sentence-encoder-multilingual/3\",\n",
    "                   dtype=tf.string, input_shape=[], output_shape=[]),    \n",
    "    layers.Dense(128, activation=\"relu\"),\n",
    "    layers.Dense(1, activation=\"sigmoid\")\n",
    "])\n",
    "\n",
    "model.compile(loss=\"binary_crossentropy\", optimizer=\"adam\",\n",
    "              metrics=[\"accuracy\"])"
   ]
  },
  {
   "cell_type": "code",
   "execution_count": 28,
   "id": "0740ee4a-015f-49f9-b4a4-bd69ae68ab5b",
   "metadata": {},
   "outputs": [
    {
     "name": "stdout",
     "output_type": "stream",
     "text": [
      "Epoch 1/2\n",
      "215/215 [==============================] - 7s 17ms/step - loss: 0.4970 - accuracy: 0.7844 - val_loss: 0.4181 - val_accuracy: 0.8097\n",
      "Epoch 2/2\n",
      "215/215 [==============================] - 3s 13ms/step - loss: 0.4188 - accuracy: 0.8145 - val_loss: 0.4070 - val_accuracy: 0.8373\n"
     ]
    }
   ],
   "source": [
    "history = model.fit(\n",
    "    X_train, y_train, \n",
    "    validation_data=(X_val, y_val),\n",
    "    epochs=2,\n",
    "    verbose=1\n",
    ")"
   ]
  },
  {
   "cell_type": "code",
   "execution_count": 29,
   "id": "16631ce4-6f22-4f76-b7a7-748e3bb18e96",
   "metadata": {},
   "outputs": [
    {
     "name": "stdout",
     "output_type": "stream",
     "text": [
      "24/24 [==============================] - 0s 12ms/step - loss: 0.4070 - accuracy: 0.8373\n"
     ]
    },
    {
     "data": {
      "text/plain": [
       "[0.40704742074012756, 0.8372703194618225]"
      ]
     },
     "execution_count": 29,
     "metadata": {},
     "output_type": "execute_result"
    }
   ],
   "source": [
    "model.evaluate(X_val, y_val)"
   ]
  },
  {
   "cell_type": "code",
   "execution_count": 30,
   "id": "4e2d5617-26b5-41a7-9a5d-3ad520737c1c",
   "metadata": {},
   "outputs": [
    {
     "data": {
      "text/plain": [
       "<AxesSubplot:>"
      ]
     },
     "execution_count": 30,
     "metadata": {},
     "output_type": "execute_result"
    },
    {
     "data": {
      "image/png": "[encoded data removed]",
      "text/plain": [
       "<Figure size 432x288 with 1 Axes>"
      ]
     },
     "metadata": {},
     "output_type": "display_data"
    }
   ],
   "source": [
    "pd.DataFrame(history.history)[['loss', 'val_loss']].plot()"
   ]
  },
  {
   "cell_type": "code",
   "execution_count": 31,
   "id": "bb83f539-b8d2-4cd0-a738-c3bdf924a8a9",
   "metadata": {},
   "outputs": [
    {
     "data": {
      "text/plain": [
       "<AxesSubplot:>"
      ]
     },
     "execution_count": 31,
     "metadata": {},
     "output_type": "execute_result"
    },
    {
     "data": {
      "image/png": "[encoded data removed]",
      "text/plain": [
       "<Figure size 432x288 with 1 Axes>"
      ]
     },
     "metadata": {},
     "output_type": "display_data"
    }
   ],
   "source": [
    "pd.DataFrame(history.history)[['accuracy', 'val_accuracy']].plot()"
   ]
  },
  {
   "cell_type": "code",
   "execution_count": 32,
   "id": "38c9fdac-000c-45c0-bc47-d83860c80490",
   "metadata": {},
   "outputs": [
    {
     "name": "stdout",
     "output_type": "stream",
     "text": [
      "24/24 [==============================] - 1s 11ms/step\n",
      "F1 Score  = 0.8\n",
      "Precision = 0.84642\n",
      "Recall    = 0.75841\n"
     ]
    }
   ],
   "source": [
    "predictions = model.predict(X_val)\n",
    "\n",
    "predictions = np.round(predictions)\n",
    "\n",
    "print(f'F1 Score  = {np.round(metrics.f1_score(y_true=y_val, y_pred=predictions),5)}')\n",
    "print(f'Precision = {np.round(metrics.precision_score(y_true=y_val, y_pred=predictions),5)}')\n",
    "print(f'Recall    = {np.round(metrics.recall_score(y_true=y_val, y_pred=predictions),5)}')"
   ]
  },
  {
   "cell_type": "code",
   "execution_count": 33,
   "id": "7aa4a69d-2462-49a7-a270-f9c48a1f6770",
   "metadata": {},
   "outputs": [
    {
     "name": "stdout",
     "output_type": "stream",
     "text": [
      "102/102 [==============================] - 1s 11ms/step\n"
     ]
    }
   ],
   "source": [
    "predictions = model.predict(df_test.text.values)\n",
    "predictions = np.round(predictions).astype(int)\n",
    "\n",
    "submission = pd.DataFrame({'id': df_test['id'], 'target': predictions.reshape(-1)})\n",
    "submission.to_csv('submission.csv', index=False)"
   ]
  },
  {
   "cell_type": "markdown",
   "id": "6f35eea6-49b0-4258-9e2e-736c7dee2dac",
   "metadata": {},
   "source": [
    "#### Leaderboard Score\n",
    "\n",
    "<img src=\"score_univ_sen_encoder.png\">"
   ]
  },
  {
   "cell_type": "markdown",
   "id": "ddb47097-75d2-4037-8f6d-0975480dcd7b",
   "metadata": {},
   "source": [
    "### Using universal-sentence-encoder-multilingual embedding + LSTM"
   ]
  },
  {
   "cell_type": "code",
   "execution_count": 34,
   "id": "ffa17580-bf04-4058-b2a2-dfc42c177470",
   "metadata": {},
   "outputs": [],
   "source": [
    "model = keras.Sequential([\n",
    "    hub.KerasLayer(\"https://tfhub.dev/google/universal-sentence-encoder-multilingual/3\",\n",
    "                   dtype=tf.string, input_shape=[], output_shape=[]),    \n",
    "    layers.Reshape((-1,512)),\n",
    "    layers.LSTM(4),\n",
    "    layers.Dense(4, activation=\"relu\"),\n",
    "    layers.Dense(1, activation=\"sigmoid\")\n",
    "])\n",
    "\n",
    "model.compile(loss=\"binary_crossentropy\", optimizer=\"adam\",\n",
    "              metrics=[\"accuracy\"])"
   ]
  },
  {
   "cell_type": "code",
   "execution_count": 35,
   "id": "2628612c-4f34-4ea1-b01d-13fbd53191f2",
   "metadata": {},
   "outputs": [
    {
     "name": "stdout",
     "output_type": "stream",
     "text": [
      "Epoch 1/8\n",
      "215/215 [==============================] - 9s 19ms/step - loss: 0.6306 - accuracy: 0.6922 - val_loss: 0.5330 - val_accuracy: 0.8031\n",
      "Epoch 2/8\n",
      "215/215 [==============================] - 3s 14ms/step - loss: 0.4830 - accuracy: 0.8059 - val_loss: 0.4442 - val_accuracy: 0.8123\n",
      "Epoch 3/8\n",
      "215/215 [==============================] - 3s 14ms/step - loss: 0.4382 - accuracy: 0.8123 - val_loss: 0.4256 - val_accuracy: 0.8163\n",
      "Epoch 4/8\n",
      "215/215 [==============================] - 3s 14ms/step - loss: 0.4228 - accuracy: 0.8158 - val_loss: 0.4167 - val_accuracy: 0.8228\n",
      "Epoch 5/8\n",
      "215/215 [==============================] - 3s 14ms/step - loss: 0.4143 - accuracy: 0.8170 - val_loss: 0.4109 - val_accuracy: 0.8241\n",
      "Epoch 6/8\n",
      "215/215 [==============================] - 3s 14ms/step - loss: 0.4093 - accuracy: 0.8218 - val_loss: 0.4117 - val_accuracy: 0.8202\n",
      "Epoch 7/8\n",
      "215/215 [==============================] - 3s 14ms/step - loss: 0.4044 - accuracy: 0.8227 - val_loss: 0.4068 - val_accuracy: 0.8215\n",
      "Epoch 8/8\n",
      "215/215 [==============================] - 3s 14ms/step - loss: 0.4010 - accuracy: 0.8225 - val_loss: 0.4075 - val_accuracy: 0.8215\n"
     ]
    }
   ],
   "source": [
    "history = model.fit(\n",
    "    X_train, y_train, \n",
    "    validation_data=(X_val, y_val),\n",
    "    epochs=8,\n",
    "    verbose=1\n",
    ")"
   ]
  },
  {
   "cell_type": "code",
   "execution_count": 36,
   "id": "006e045f-e60b-4886-af52-70bbd5128641",
   "metadata": {},
   "outputs": [
    {
     "name": "stdout",
     "output_type": "stream",
     "text": [
      "24/24 [==============================] - 0s 11ms/step - loss: 0.4075 - accuracy: 0.8215\n"
     ]
    },
    {
     "data": {
      "text/plain": [
       "[0.40749338269233704, 0.8215222954750061]"
      ]
     },
     "execution_count": 36,
     "metadata": {},
     "output_type": "execute_result"
    }
   ],
   "source": [
    "model.evaluate(X_val, y_val)"
   ]
  },
  {
   "cell_type": "code",
   "execution_count": 37,
   "id": "7cfb3a1b-d069-41b7-a2a7-67aea852cfc1",
   "metadata": {},
   "outputs": [
    {
     "data": {
      "text/plain": [
       "<AxesSubplot:>"
      ]
     },
     "execution_count": 37,
     "metadata": {},
     "output_type": "execute_result"
    },
    {
     "data": {
      "image/png": "[encoded data removed]",
      "text/plain": [
       "<Figure size 432x288 with 1 Axes>"
      ]
     },
     "metadata": {},
     "output_type": "display_data"
    }
   ],
   "source": [
    "pd.DataFrame(history.history)[['loss', 'val_loss']].plot()"
   ]
  },
  {
   "cell_type": "code",
   "execution_count": 38,
   "id": "8d3ee039-0f9a-4e83-a746-0f1ca2d21afe",
   "metadata": {},
   "outputs": [
    {
     "data": {
      "text/plain": [
       "<AxesSubplot:>"
      ]
     },
     "execution_count": 38,
     "metadata": {},
     "output_type": "execute_result"
    },
    {
     "data": {
      "image/png": "[encoded data removed]",
      "text/plain": [
       "<Figure size 432x288 with 1 Axes>"
      ]
     },
     "metadata": {},
     "output_type": "display_data"
    }
   ],
   "source": [
    "pd.DataFrame(history.history)[['accuracy', 'val_accuracy']].plot()"
   ]
  },
  {
   "cell_type": "code",
   "execution_count": 39,
   "id": "9354a439-0a50-420f-8cf7-789e9b816912",
   "metadata": {},
   "outputs": [
    {
     "name": "stdout",
     "output_type": "stream",
     "text": [
      "24/24 [==============================] - 1s 12ms/step\n",
      "F1 Score  = 0.78481\n",
      "Precision = 0.81311\n",
      "Recall    = 0.75841\n"
     ]
    }
   ],
   "source": [
    "predictions = model.predict(X_val)\n",
    "\n",
    "predictions = np.round(predictions)\n",
    "\n",
    "print(f'F1 Score  = {np.round(metrics.f1_score(y_true=y_val, y_pred=predictions),5)}')\n",
    "print(f'Precision = {np.round(metrics.precision_score(y_true=y_val, y_pred=predictions),5)}')\n",
    "print(f'Recall    = {np.round(metrics.recall_score(y_true=y_val, y_pred=predictions),5)}')"
   ]
  },
  {
   "cell_type": "code",
   "execution_count": 40,
   "id": "1b0151bb-b7e6-408c-a557-c21fdee7e871",
   "metadata": {},
   "outputs": [
    {
     "name": "stdout",
     "output_type": "stream",
     "text": [
      "102/102 [==============================] - 1s 11ms/step\n"
     ]
    }
   ],
   "source": [
    "predictions = model.predict(df_test.text.values)\n",
    "predictions = np.round(predictions).astype(int)\n",
    "\n",
    "submission = pd.DataFrame({'id': df_test['id'], 'target': predictions.reshape(-1)})\n",
    "submission.to_csv('submission.csv', index=False)"
   ]
  },
  {
   "cell_type": "markdown",
   "id": "4098f118-9475-419c-8ff3-66d728cea68b",
   "metadata": {},
   "source": [
    "## Using pre-trained BERT"
   ]
  },
  {
   "cell_type": "code",
   "execution_count": 78,
   "id": "343bb8a0-1bbb-4fec-98af-8481ab48f8c3",
   "metadata": {},
   "outputs": [],
   "source": [
    "early_stopping_monitor = callbacks.EarlyStopping(\n",
    "    monitor='val_loss',\n",
    "    min_delta=0,\n",
    "    patience=5,\n",
    "    verbose=0,\n",
    "    mode='auto',\n",
    "    baseline=None,\n",
    "    restore_best_weights=True\n",
    ")"
   ]
  },
  {
   "cell_type": "code",
   "execution_count": 79,
   "id": "0ec7f1b2-36ba-4e96-baf6-57984c6b3685",
   "metadata": {},
   "outputs": [],
   "source": [
    "text_input = tf.keras.layers.Input(shape=(), dtype=tf.string)\n",
    "\n",
    "preprocessor = hub.KerasLayer(\"https://tfhub.dev/tensorflow/bert_en_uncased_preprocess/3\")\n",
    "\n",
    "encoder_inputs = preprocessor(text_input)\n",
    "\n",
    "encoder = hub.KerasLayer(    \n",
    "    \"https://tfhub.dev/tensorflow/bert_en_uncased_L-12_H-768_A-12/4\",\n",
    "    trainable=False\n",
    ")\n",
    "\n",
    "outputs = encoder(encoder_inputs)\n",
    "\n",
    "pooled_output = outputs[\"pooled_output\"]      # [batch_size, 768].\n",
    "sequence_output = outputs[\"sequence_output\"]  # [batch_size, seq_length, 768].\n",
    "\n",
    "embedding_model = tf.keras.Model(text_input, pooled_output)\n",
    "\n",
    "model = keras.Sequential([\n",
    "    embedding_model,\n",
    "    layers.Dense(1024, activation='relu', activity_regularizer=regularizers.l2(1e-5)),\n",
    "    layers.Dense(1024, activation='relu', activity_regularizer=regularizers.l2(1e-5)),\n",
    "    layers.Dense(1024, activation='relu', activity_regularizer=regularizers.l2(1e-5)),\n",
    "#     layers.Dense(64, activation=\"relu\"),\n",
    "#     layers.Dense(32, activation=\"relu\"),\n",
    "#     layers.Dense(8, activation=\"relu\"),\n",
    "    layers.Dense(1, activation='sigmoid')\n",
    "])\n",
    "\n",
    "model.compile(loss=\"binary_crossentropy\", optimizer=\"adam\",\n",
    "              metrics=[\"accuracy\"])"
   ]
  },
  {
   "cell_type": "code",
   "execution_count": 80,
   "id": "45f76d49-1355-4af3-8061-7c33b5a05f5c",
   "metadata": {},
   "outputs": [
    {
     "name": "stdout",
     "output_type": "stream",
     "text": [
      "Epoch 1/25\n",
      "429/429 [==============================] - 33s 61ms/step - loss: 0.6214 - accuracy: 0.6738 - val_loss: 0.5698 - val_accuracy: 0.7428\n",
      "Epoch 2/25\n",
      "429/429 [==============================] - 25s 59ms/step - loss: 0.5589 - accuracy: 0.7303 - val_loss: 0.5373 - val_accuracy: 0.7533\n",
      "Epoch 3/25\n",
      "429/429 [==============================] - 25s 59ms/step - loss: 0.5416 - accuracy: 0.7324 - val_loss: 0.5387 - val_accuracy: 0.7743\n",
      "Epoch 4/25\n",
      "429/429 [==============================] - 26s 60ms/step - loss: 0.5223 - accuracy: 0.7514 - val_loss: 0.4916 - val_accuracy: 0.7887\n",
      "Epoch 5/25\n",
      "429/429 [==============================] - 26s 60ms/step - loss: 0.5085 - accuracy: 0.7567 - val_loss: 0.4984 - val_accuracy: 0.7677\n",
      "Epoch 6/25\n",
      "429/429 [==============================] - 26s 60ms/step - loss: 0.5118 - accuracy: 0.7615 - val_loss: 0.4991 - val_accuracy: 0.7493\n",
      "Epoch 7/25\n",
      "429/429 [==============================] - 26s 60ms/step - loss: 0.4984 - accuracy: 0.7685 - val_loss: 0.4818 - val_accuracy: 0.7782\n",
      "Epoch 8/25\n",
      "429/429 [==============================] - 26s 60ms/step - loss: 0.4931 - accuracy: 0.7703 - val_loss: 0.5123 - val_accuracy: 0.7664\n",
      "Epoch 9/25\n",
      "429/429 [==============================] - 26s 60ms/step - loss: 0.4918 - accuracy: 0.7726 - val_loss: 0.4769 - val_accuracy: 0.7756\n",
      "Epoch 10/25\n",
      "429/429 [==============================] - 25s 59ms/step - loss: 0.4908 - accuracy: 0.7689 - val_loss: 0.4992 - val_accuracy: 0.7808\n",
      "Epoch 11/25\n",
      "429/429 [==============================] - 25s 59ms/step - loss: 0.4790 - accuracy: 0.7796 - val_loss: 0.4847 - val_accuracy: 0.7677\n",
      "Epoch 12/25\n",
      "429/429 [==============================] - 26s 59ms/step - loss: 0.4712 - accuracy: 0.7862 - val_loss: 0.4933 - val_accuracy: 0.7743\n",
      "Epoch 13/25\n",
      "429/429 [==============================] - 26s 60ms/step - loss: 0.4732 - accuracy: 0.7862 - val_loss: 0.4638 - val_accuracy: 0.7966\n",
      "Epoch 14/25\n",
      "429/429 [==============================] - 26s 60ms/step - loss: 0.4719 - accuracy: 0.7812 - val_loss: 0.5402 - val_accuracy: 0.7139\n",
      "Epoch 15/25\n",
      "429/429 [==============================] - 26s 60ms/step - loss: 0.4644 - accuracy: 0.7900 - val_loss: 0.4630 - val_accuracy: 0.7940\n",
      "Epoch 16/25\n",
      "429/429 [==============================] - 26s 60ms/step - loss: 0.4748 - accuracy: 0.7815 - val_loss: 0.4523 - val_accuracy: 0.8018\n",
      "Epoch 17/25\n",
      "429/429 [==============================] - 26s 60ms/step - loss: 0.4682 - accuracy: 0.7904 - val_loss: 0.4477 - val_accuracy: 0.8031\n",
      "Epoch 18/25\n",
      "429/429 [==============================] - 25s 59ms/step - loss: 0.4738 - accuracy: 0.7857 - val_loss: 0.4695 - val_accuracy: 0.7808\n",
      "Epoch 19/25\n",
      "429/429 [==============================] - 25s 59ms/step - loss: 0.4682 - accuracy: 0.7847 - val_loss: 0.4498 - val_accuracy: 0.8031\n",
      "Epoch 20/25\n",
      "429/429 [==============================] - 25s 59ms/step - loss: 0.4651 - accuracy: 0.7888 - val_loss: 0.4599 - val_accuracy: 0.7953\n",
      "Epoch 21/25\n",
      "429/429 [==============================] - 25s 59ms/step - loss: 0.4609 - accuracy: 0.7904 - val_loss: 0.4889 - val_accuracy: 0.7782\n",
      "Epoch 22/25\n",
      "429/429 [==============================] - 26s 60ms/step - loss: 0.4616 - accuracy: 0.7938 - val_loss: 0.4586 - val_accuracy: 0.7953\n"
     ]
    }
   ],
   "source": [
    "history = model.fit(\n",
    "    X_train, y_train, \n",
    "    validation_data=(X_val, y_val),\n",
    "    epochs=25,\n",
    "    batch_size=16,\n",
    "    verbose=1,\n",
    "    callbacks=[early_stopping_monitor]\n",
    ")"
   ]
  },
  {
   "cell_type": "code",
   "execution_count": 81,
   "id": "b46ef734-dfa9-449b-bad4-d3e0a77db168",
   "metadata": {},
   "outputs": [
    {
     "name": "stdout",
     "output_type": "stream",
     "text": [
      "24/24 [==============================] - 3s 106ms/step - loss: 0.4477 - accuracy: 0.8031\n"
     ]
    },
    {
     "data": {
      "text/plain": [
       "[0.4476962089538574, 0.8031495809555054]"
      ]
     },
     "execution_count": 81,
     "metadata": {},
     "output_type": "execute_result"
    }
   ],
   "source": [
    "model.evaluate(X_val, y_val)"
   ]
  },
  {
   "cell_type": "code",
   "execution_count": 82,
   "id": "f7c2e95a-9af4-408a-a1e5-41407040371c",
   "metadata": {},
   "outputs": [
    {
     "data": {
      "text/plain": [
       "<AxesSubplot:>"
      ]
     },
     "execution_count": 82,
     "metadata": {},
     "output_type": "execute_result"
    },
    {
     "data": {
      "image/png": "[encoded data removed]",
      "text/plain": [
       "<Figure size 432x288 with 1 Axes>"
      ]
     },
     "metadata": {},
     "output_type": "display_data"
    }
   ],
   "source": [
    "pd.DataFrame(history.history)[['loss', 'val_loss']].plot()"
   ]
  },
  {
   "cell_type": "code",
   "execution_count": 83,
   "id": "97c51d00-5840-4125-ba18-d62451b81a4a",
   "metadata": {},
   "outputs": [
    {
     "data": {
      "text/plain": [
       "<AxesSubplot:>"
      ]
     },
     "execution_count": 83,
     "metadata": {},
     "output_type": "execute_result"
    },
    {
     "data": {
      "image/png": "[encoded data removed]",
      "text/plain": [
       "<Figure size 432x288 with 1 Axes>"
      ]
     },
     "metadata": {},
     "output_type": "display_data"
    }
   ],
   "source": [
    "pd.DataFrame(history.history)[['accuracy', 'val_accuracy']].plot()"
   ]
  },
  {
   "cell_type": "code",
   "execution_count": 84,
   "id": "f11c4ac1-5053-4525-8697-f14854ebd6db",
   "metadata": {},
   "outputs": [
    {
     "name": "stdout",
     "output_type": "stream",
     "text": [
      "24/24 [==============================] - 3s 103ms/step\n",
      "F1 Score  = 0.76115\n",
      "Precision = 0.79402\n",
      "Recall    = 0.73089\n"
     ]
    }
   ],
   "source": [
    "predictions = model.predict(X_val)\n",
    "\n",
    "predictions = np.round(predictions)\n",
    "\n",
    "print(f'F1 Score  = {np.round(metrics.f1_score(y_true=y_val, y_pred=predictions),5)}')\n",
    "print(f'Precision = {np.round(metrics.precision_score(y_true=y_val, y_pred=predictions),5)}')\n",
    "print(f'Recall    = {np.round(metrics.recall_score(y_true=y_val, y_pred=predictions),5)}')"
   ]
  },
  {
   "cell_type": "code",
   "execution_count": 85,
   "id": "fc792a4d-0e0c-49ab-9b6c-24eec5ab34cc",
   "metadata": {},
   "outputs": [
    {
     "name": "stdout",
     "output_type": "stream",
     "text": [
      "102/102 [==============================] - 11s 104ms/step\n"
     ]
    }
   ],
   "source": [
    "predictions = model.predict(df_test.text.values)\n",
    "predictions = np.round(predictions).astype(int)\n",
    "\n",
    "submission = pd.DataFrame({'id': df_test['id'], 'target': predictions.reshape(-1)})\n",
    "submission.to_csv('submission.csv', index=False)"
   ]
  },
  {
   "cell_type": "code",
   "execution_count": null,
   "id": "0e9d8e86-6e45-42ce-ac26-a904094caf83",
   "metadata": {},
   "outputs": [],
   "source": []
  },
  {
   "cell_type": "code",
   "execution_count": null,
   "id": "de975783-8171-4b55-9a21-adb558806581",
   "metadata": {},
   "outputs": [],
   "source": []
  },
  {
   "cell_type": "code",
   "execution_count": null,
   "id": "5fe3fead-07d6-452e-9627-90d2674bf8aa",
   "metadata": {},
   "outputs": [],
   "source": []
  },
  {
   "cell_type": "code",
   "execution_count": null,
   "id": "cc741872-6789-4b1d-aea0-fe3acecf98ca",
   "metadata": {},
   "outputs": [],
   "source": []
  }
 ],
 "metadata": {
  "kernelspec": {
   "display_name": "ml",
   "language": "python",
   "name": "ml"
  },
  "language_info": {
   "codemirror_mode": {
    "name": "ipython",
    "version": 3
   },
   "file_extension": ".py",
   "mimetype": "text/x-python",
   "name": "python",
   "nbconvert_exporter": "python",
   "pygments_lexer": "ipython3",
   "version": "3.8.8"
  }
 },
 "nbformat": 4,
 "nbformat_minor": 5
}
