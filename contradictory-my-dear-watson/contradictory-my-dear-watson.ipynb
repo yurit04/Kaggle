{
 "cells": [
  {
   "cell_type": "code",
   "execution_count": 1,
   "id": "cd7156d7-5715-49fe-acd2-204b6249cde9",
   "metadata": {},
   "outputs": [],
   "source": [
    "import os\n",
    "\n",
    "import numpy as np\n",
    "import pandas as pd\n",
    "import seaborn as sns\n",
    "sns.set_theme()\n",
    "\n",
    "import sklearn\n",
    "from sklearn import metrics\n",
    "from sklearn.preprocessing import StandardScaler, MinMaxScaler\n",
    "from sklearn.model_selection import train_test_split, GridSearchCV\n",
    "from sklearn import preprocessing, decomposition, model_selection, metrics, pipeline\n",
    "from sklearn.feature_extraction.text import TfidfVectorizer, CountVectorizer\n",
    "from sklearn.decomposition import TruncatedSVD\n",
    "from sklearn.linear_model import LogisticRegression\n",
    "from sklearn.naive_bayes import MultinomialNB\n",
    "\n",
    "import tensorflow as tf\n",
    "from tensorflow import keras\n",
    "from keras import models, layers, optimizers, losses, preprocessing, regularizers\n",
    "import tensorflow_hub as hub\n",
    "import tensorflow_text\n",
    "\n",
    "import xgboost as xgb\n",
    "import catboost as cb"
   ]
  },
  {
   "cell_type": "markdown",
   "id": "bff7d826-2307-42a0-9a35-f3438cebf1fe",
   "metadata": {},
   "source": [
    "# Check if GPU is available"
   ]
  },
  {
   "cell_type": "code",
   "execution_count": 2,
   "id": "8c16307b-d847-4de7-9a53-0b8ce894152c",
   "metadata": {},
   "outputs": [
    {
     "data": {
      "text/plain": [
       "[PhysicalDevice(name='/physical_device:GPU:0', device_type='GPU')]"
      ]
     },
     "execution_count": 2,
     "metadata": {},
     "output_type": "execute_result"
    }
   ],
   "source": [
    "tf.config.list_physical_devices(device_type='GPU')"
   ]
  },
  {
   "cell_type": "markdown",
   "id": "652d3023-aabe-46a3-a07c-d068053ac48d",
   "metadata": {},
   "source": [
    "# Load Data"
   ]
  },
  {
   "cell_type": "code",
   "execution_count": 3,
   "id": "114d39cf-47c7-42ab-a1ec-7dd5120a9aaf",
   "metadata": {},
   "outputs": [
    {
     "name": "stdout",
     "output_type": "stream",
     "text": [
      "df_train.shape = (12120, 6)\n",
      "df_test.shape  = (5195, 5)\n",
      "df_all.shape   = (17315, 6)\n"
     ]
    }
   ],
   "source": [
    "df_train = pd.read_csv('../../Data/contradictory-my-dear-watson/train.csv')\n",
    "df_test  = pd.read_csv('../../Data/contradictory-my-dear-watson/test.csv')\n",
    "\n",
    "df_all = pd.concat([df_train, df_test])\n",
    "\n",
    "print(f'df_train.shape = {df_train.shape}')\n",
    "print(f'df_test.shape  = {df_test.shape}')\n",
    "print(f'df_all.shape   = {df_all.shape}')"
   ]
  },
  {
   "cell_type": "code",
   "execution_count": 4,
   "id": "fa8ead9d-daad-4376-b81f-aac1ff770980",
   "metadata": {},
   "outputs": [
    {
     "data": {
      "text/html": [
       "<div>\n",
       "<style scoped>\n",
       "    .dataframe tbody tr th:only-of-type {\n",
       "        vertical-align: middle;\n",
       "    }\n",
       "\n",
       "    .dataframe tbody tr th {\n",
       "        vertical-align: top;\n",
       "    }\n",
       "\n",
       "    .dataframe thead th {\n",
       "        text-align: right;\n",
       "    }\n",
       "</style>\n",
       "<table border=\"1\" class=\"dataframe\">\n",
       "  <thead>\n",
       "    <tr style=\"text-align: right;\">\n",
       "      <th></th>\n",
       "      <th>id</th>\n",
       "      <th>premise</th>\n",
       "      <th>hypothesis</th>\n",
       "      <th>lang_abv</th>\n",
       "      <th>language</th>\n",
       "      <th>label</th>\n",
       "    </tr>\n",
       "  </thead>\n",
       "  <tbody>\n",
       "    <tr>\n",
       "      <th>0</th>\n",
       "      <td>5130fd2cb5</td>\n",
       "      <td>and these comments were considered in formulat...</td>\n",
       "      <td>The rules developed in the interim were put to...</td>\n",
       "      <td>en</td>\n",
       "      <td>English</td>\n",
       "      <td>0</td>\n",
       "    </tr>\n",
       "    <tr>\n",
       "      <th>1</th>\n",
       "      <td>5b72532a0b</td>\n",
       "      <td>These are issues that we wrestle with in pract...</td>\n",
       "      <td>Practice groups are not permitted to work on t...</td>\n",
       "      <td>en</td>\n",
       "      <td>English</td>\n",
       "      <td>2</td>\n",
       "    </tr>\n",
       "  </tbody>\n",
       "</table>\n",
       "</div>"
      ],
      "text/plain": [
       "           id                                            premise  \\\n",
       "0  5130fd2cb5  and these comments were considered in formulat...   \n",
       "1  5b72532a0b  These are issues that we wrestle with in pract...   \n",
       "\n",
       "                                          hypothesis lang_abv language  label  \n",
       "0  The rules developed in the interim were put to...       en  English      0  \n",
       "1  Practice groups are not permitted to work on t...       en  English      2  "
      ]
     },
     "execution_count": 4,
     "metadata": {},
     "output_type": "execute_result"
    }
   ],
   "source": [
    "df_train.head(2)"
   ]
  },
  {
   "cell_type": "code",
   "execution_count": 5,
   "id": "03f25743-002c-45ea-b2e8-bfc2deef9c87",
   "metadata": {},
   "outputs": [
    {
     "data": {
      "image/png": "[encoded data removed]",
      "text/plain": [
       "<Figure size 576x144 with 1 Axes>"
      ]
     },
     "metadata": {},
     "output_type": "display_data"
    }
   ],
   "source": [
    "_ = df_train['label'].value_counts().sort_index().plot.bar(figsize=(8,2), title='Labels Count')"
   ]
  },
  {
   "cell_type": "code",
   "execution_count": 6,
   "id": "c9a03c13-c623-421f-a96e-212237642def",
   "metadata": {},
   "outputs": [
    {
     "name": "stdout",
     "output_type": "stream",
     "text": [
      "<class 'pandas.core.frame.DataFrame'>\n",
      "RangeIndex: 12120 entries, 0 to 12119\n",
      "Data columns (total 6 columns):\n",
      " #   Column      Non-Null Count  Dtype \n",
      "---  ------      --------------  ----- \n",
      " 0   id          12120 non-null  object\n",
      " 1   premise     12120 non-null  object\n",
      " 2   hypothesis  12120 non-null  object\n",
      " 3   lang_abv    12120 non-null  object\n",
      " 4   language    12120 non-null  object\n",
      " 5   label       12120 non-null  int64 \n",
      "dtypes: int64(1), object(5)\n",
      "memory usage: 568.2+ KB\n"
     ]
    }
   ],
   "source": [
    "df_train.info()"
   ]
  },
  {
   "cell_type": "markdown",
   "id": "8db4fa11-fec2-4acb-86a2-cdf7b1b14151",
   "metadata": {},
   "source": [
    "# Train-Test Split"
   ]
  },
  {
   "cell_type": "code",
   "execution_count": null,
   "id": "f9ca46c8-7b3d-4284-9921-7a8695461e36",
   "metadata": {},
   "outputs": [],
   "source": [
    "X_train, X_val, y_train, y_val = train_test_split(\n",
    "    df_train.text.values, df_train.target.values,\n",
    "    stratify=df_train.target.values,\n",
    "    random_state=42,\n",
    "    test_size=0.1,\n",
    "    shuffle=True\n",
    ")\n",
    "\n",
    "print(f'X_train.shape = {X_train.shape} | y_train.shape = {y_train.shape}')\n",
    "print(f'X_val.shape   = {X_val.shape}  | y_val.shape   = {y_val.shape}')"
   ]
  },
  {
   "cell_type": "markdown",
   "id": "7364a190-4865-4740-803e-a0d1c4af99be",
   "metadata": {},
   "source": [
    "# Building Basic Models"
   ]
  },
  {
   "cell_type": "markdown",
   "id": "e717ea20-9387-4fa8-847e-0fca9e7669d3",
   "metadata": {},
   "source": [
    "### Logistic Regression on TF-IDF"
   ]
  },
  {
   "cell_type": "code",
   "execution_count": null,
   "id": "04ccd372-6c25-41df-9ea2-960eda1c25e9",
   "metadata": {},
   "outputs": [],
   "source": [
    "tfv = TfidfVectorizer(\n",
    "    min_df=3,\n",
    "    max_features=None,\n",
    "    strip_accents='unicode',\n",
    "    analyzer='word',\n",
    "    token_pattern=r'\\w{1,}',\n",
    "    ngram_range=(1,3),\n",
    "    use_idf=1,\n",
    "    smooth_idf=1,\n",
    "    sublinear_tf=1,\n",
    "    stop_words='english'\n",
    ")\n",
    "\n",
    "tfv.fit(list(X_train) + list(X_val))\n",
    "\n",
    "X_train_tfv = tfv.transform(X_train)\n",
    "X_val_tfv   = tfv.transform(X_val)\n",
    "\n",
    "print(f'X_train_tfv.shape = {X_train_tfv.shape} | y_train.shape = {y_train.shape}')\n",
    "print(f'X_val_tfv.shape   = {X_val_tfv.shape}  | y_val.shape   = {y_val.shape}')"
   ]
  },
  {
   "cell_type": "code",
   "execution_count": null,
   "id": "6b1061da-7998-4b59-829b-a987253a10e1",
   "metadata": {},
   "outputs": [],
   "source": [
    "clf = LogisticRegression(C=1.0)\n",
    "clf.fit(X_train_tfv, y_train)\n",
    "\n",
    "predictions = clf.predict(X_val_tfv)\n",
    "\n",
    "print(f'F1 Score  = {np.round(metrics.f1_score(y_true=y_val, y_pred=predictions),5)}')\n",
    "print(f'Precision = {np.round(metrics.precision_score(y_true=y_val, y_pred=predictions),5)}')\n",
    "print(f'Recall    = {np.round(metrics.recall_score(y_true=y_val, y_pred=predictions),5)}')"
   ]
  },
  {
   "cell_type": "markdown",
   "id": "2888bb84-84e8-48ce-9449-da263c7e59e7",
   "metadata": {},
   "source": [
    "### Logistic Regression on CountVectorizer"
   ]
  },
  {
   "cell_type": "code",
   "execution_count": null,
   "id": "35c1f552-3b93-440e-bc9a-3341f2041517",
   "metadata": {},
   "outputs": [],
   "source": [
    "ctv = CountVectorizer(\n",
    "    analyzer='word',\n",
    "    token_pattern='\\w{1,}',\n",
    "    ngram_range=(1,3),\n",
    "    stop_words='english',\n",
    ")\n",
    "\n",
    "ctv.fit(list(X_train) + list(X_val))\n",
    "\n",
    "X_train_ctv = ctv.transform(X_train)\n",
    "X_val_ctv   = ctv.transform(X_val)\n",
    "\n",
    "print(f'X_train_ctv.shape = {X_train_ctv.shape} | y_train.shape = {y_train.shape}')\n",
    "print(f'X_val_ctv.shape   = {X_val_ctv.shape}  | y_val.shape   = {y_val.shape}')"
   ]
  },
  {
   "cell_type": "code",
   "execution_count": null,
   "id": "583108d0-a7c3-4c00-94c2-b16212fb7ae5",
   "metadata": {},
   "outputs": [],
   "source": [
    "clf = LogisticRegression(C=1.0)\n",
    "clf.fit(X_train_ctv, y_train)\n",
    "\n",
    "predictions = clf.predict(X_val_ctv)\n",
    "\n",
    "print(f'F1 Score  = {np.round(metrics.f1_score(y_true=y_val, y_pred=predictions),5)}')\n",
    "print(f'Precision = {np.round(metrics.precision_score(y_true=y_val, y_pred=predictions),5)}')\n",
    "print(f'Recall    = {np.round(metrics.recall_score(y_true=y_val, y_pred=predictions),5)}')"
   ]
  },
  {
   "cell_type": "markdown",
   "id": "d72f2f37-f661-43f9-85f4-0c5fb0f8850d",
   "metadata": {},
   "source": [
    "### Naive Bayes on TF-IDF"
   ]
  },
  {
   "cell_type": "code",
   "execution_count": null,
   "id": "60f2a453-2d51-4674-826e-57e58203ab6b",
   "metadata": {},
   "outputs": [],
   "source": [
    "clf = MultinomialNB()\n",
    "clf.fit(X_train_tfv, y_train)\n",
    "\n",
    "predictions = clf.predict(X_val_tfv)\n",
    "\n",
    "print(f'F1 Score  = {np.round(metrics.f1_score(y_true=y_val, y_pred=predictions),5)}')\n",
    "print(f'Precision = {np.round(metrics.precision_score(y_true=y_val, y_pred=predictions),5)}')\n",
    "print(f'Recall    = {np.round(metrics.recall_score(y_true=y_val, y_pred=predictions),5)}')"
   ]
  },
  {
   "cell_type": "markdown",
   "id": "be58f655-1890-44d2-a57b-2e9a50ef91f8",
   "metadata": {},
   "source": [
    "### XGBoost on TF-IDF"
   ]
  },
  {
   "cell_type": "code",
   "execution_count": null,
   "id": "57dd7124-2d8e-4749-a855-dbd6b9df80d6",
   "metadata": {},
   "outputs": [],
   "source": [
    "clf = xgb.XGBClassifier(\n",
    "    max_depth=7, \n",
    "    n_estimators=200, \n",
    "    colsample_bytree=0.8, \n",
    "    subsample=0.8, \n",
    "    nthread=10, \n",
    "    learning_rate=0.1,\n",
    "    use_label_encoder=False,\n",
    "    eval_metric='logloss',\n",
    ")\n",
    "\n",
    "clf.fit(X_train_tfv, y_train)\n",
    "\n",
    "predictions = clf.predict(X_val_tfv)\n",
    "\n",
    "print(f'F1 Score  = {np.round(metrics.f1_score(y_true=y_val, y_pred=predictions),5)}')\n",
    "print(f'Precision = {np.round(metrics.precision_score(y_true=y_val, y_pred=predictions),5)}')\n",
    "print(f'Recall    = {np.round(metrics.recall_score(y_true=y_val, y_pred=predictions),5)}')"
   ]
  },
  {
   "cell_type": "markdown",
   "id": "db2f40fe-c863-4b18-a967-a94bbafbcf94",
   "metadata": {},
   "source": [
    "### XGBoost on CountVectorizer"
   ]
  },
  {
   "cell_type": "code",
   "execution_count": null,
   "id": "7c83f4bd-1e21-4562-86a3-2f47a3999a8e",
   "metadata": {},
   "outputs": [],
   "source": [
    "clf = xgb.XGBClassifier(\n",
    "    max_depth=7, \n",
    "    n_estimators=200, \n",
    "    colsample_bytree=0.8, \n",
    "    subsample=0.8, \n",
    "    nthread=10, \n",
    "    learning_rate=0.1,\n",
    "    use_label_encoder=False,\n",
    "    eval_metric='logloss',\n",
    ")\n",
    "\n",
    "clf.fit(X_train_ctv, y_train)\n",
    "\n",
    "predictions = clf.predict(X_val_ctv)\n",
    "\n",
    "print(f'F1 Score  = {np.round(metrics.f1_score(y_true=y_val, y_pred=predictions),5)}')\n",
    "print(f'Precision = {np.round(metrics.precision_score(y_true=y_val, y_pred=predictions),5)}')\n",
    "print(f'Recall    = {np.round(metrics.recall_score(y_true=y_val, y_pred=predictions),5)}')"
   ]
  },
  {
   "cell_type": "markdown",
   "id": "7af6194c-23d5-4efc-99ff-ca8b39526af4",
   "metadata": {},
   "source": [
    "# Deep Learning"
   ]
  },
  {
   "cell_type": "code",
   "execution_count": null,
   "id": "29ddf7d8-fad2-4b1c-8b97-835c69ec3652",
   "metadata": {},
   "outputs": [],
   "source": [
    "tf.random.set_seed(42)"
   ]
  },
  {
   "cell_type": "code",
   "execution_count": null,
   "id": "d629d061-91f2-4773-8b09-9fb4bb9fabb2",
   "metadata": {},
   "outputs": [],
   "source": [
    "TFHUB_CACHE_DIR = os.path.join(os.curdir, \"my_tfhub_cache\")\n",
    "os.environ[\"TFHUB_CACHE_DIR\"] = TFHUB_CACHE_DIR"
   ]
  },
  {
   "cell_type": "markdown",
   "id": "88b5253e-43ab-4f50-9258-3deed2d0c916",
   "metadata": {},
   "source": [
    "### Using nnlm-en-dim50/1 embedding"
   ]
  },
  {
   "cell_type": "code",
   "execution_count": null,
   "id": "0abe229d-5b3c-4a7d-a0fd-2c6b6a7c6246",
   "metadata": {},
   "outputs": [],
   "source": [
    "model = keras.Sequential([\n",
    "    hub.KerasLayer(\"https://tfhub.dev/google/tf2-preview/nnlm-en-dim50/1\",\n",
    "                   dtype=tf.string, input_shape=[], output_shape=[50]),\n",
    "    keras.layers.Dense(128, activation=\"relu\"),\n",
    "    keras.layers.Dense(1, activation=\"sigmoid\")\n",
    "])\n",
    "\n",
    "model.compile(loss=\"binary_crossentropy\", optimizer=\"adam\",\n",
    "              metrics=[\"accuracy\"])"
   ]
  },
  {
   "cell_type": "code",
   "execution_count": null,
   "id": "395efb33-9684-43ea-984a-373732206327",
   "metadata": {},
   "outputs": [],
   "source": [
    "history = model.fit(\n",
    "    X_train, y_train, \n",
    "    validation_data=(X_val, y_val),\n",
    "    epochs=5,\n",
    "    verbose=0\n",
    ")"
   ]
  },
  {
   "cell_type": "code",
   "execution_count": null,
   "id": "af3d9f2e-7481-4418-8a72-05c585a1235a",
   "metadata": {},
   "outputs": [],
   "source": [
    "model.evaluate(X_val, y_val)"
   ]
  },
  {
   "cell_type": "code",
   "execution_count": null,
   "id": "89f1d181-31e1-420b-b797-34c62a840f22",
   "metadata": {},
   "outputs": [],
   "source": [
    "pd.DataFrame(history.history)[['loss', 'val_loss']].plot()"
   ]
  },
  {
   "cell_type": "code",
   "execution_count": null,
   "id": "d9728878-12cf-4bf8-abc8-fe09b3c6968f",
   "metadata": {},
   "outputs": [],
   "source": [
    "pd.DataFrame(history.history)[['accuracy', 'val_accuracy']].plot()"
   ]
  },
  {
   "cell_type": "code",
   "execution_count": null,
   "id": "8754dd6a-0c55-4561-a526-6d649c279e6e",
   "metadata": {},
   "outputs": [],
   "source": [
    "predictions = model.predict(X_val)\n",
    "\n",
    "predictions = np.round(predictions)\n",
    "\n",
    "print(f'F1 Score  = {np.round(metrics.f1_score(y_true=y_val, y_pred=predictions),5)}')\n",
    "print(f'Precision = {np.round(metrics.precision_score(y_true=y_val, y_pred=predictions),5)}')\n",
    "print(f'Recall    = {np.round(metrics.recall_score(y_true=y_val, y_pred=predictions),5)}')"
   ]
  },
  {
   "cell_type": "markdown",
   "id": "0c87d719-5884-4eb4-a3d0-29d55f7dc844",
   "metadata": {},
   "source": [
    "### Using universal-sentence-encoder-multilingual embedding"
   ]
  },
  {
   "cell_type": "code",
   "execution_count": null,
   "id": "a21736bf-eb1e-47c9-986b-87bdcc48c33e",
   "metadata": {},
   "outputs": [],
   "source": [
    "model = keras.Sequential([\n",
    "    hub.KerasLayer(\"https://tfhub.dev/google/universal-sentence-encoder-multilingual/3\",\n",
    "                   dtype=tf.string, input_shape=[], output_shape=[]),    \n",
    "    layers.Dense(128, activation=\"relu\"),\n",
    "    layers.Dense(1, activation=\"sigmoid\")\n",
    "])\n",
    "\n",
    "model.compile(loss=\"binary_crossentropy\", optimizer=\"adam\",\n",
    "              metrics=[\"accuracy\"])"
   ]
  },
  {
   "cell_type": "code",
   "execution_count": null,
   "id": "0740ee4a-015f-49f9-b4a4-bd69ae68ab5b",
   "metadata": {},
   "outputs": [],
   "source": [
    "history = model.fit(\n",
    "    X_train, y_train, \n",
    "    validation_data=(X_val, y_val),\n",
    "    epochs=2,\n",
    "    verbose=1\n",
    ")"
   ]
  },
  {
   "cell_type": "code",
   "execution_count": null,
   "id": "16631ce4-6f22-4f76-b7a7-748e3bb18e96",
   "metadata": {},
   "outputs": [],
   "source": [
    "model.evaluate(X_val, y_val)"
   ]
  },
  {
   "cell_type": "code",
   "execution_count": null,
   "id": "4e2d5617-26b5-41a7-9a5d-3ad520737c1c",
   "metadata": {},
   "outputs": [],
   "source": [
    "pd.DataFrame(history.history)[['loss', 'val_loss']].plot()"
   ]
  },
  {
   "cell_type": "code",
   "execution_count": null,
   "id": "bb83f539-b8d2-4cd0-a738-c3bdf924a8a9",
   "metadata": {},
   "outputs": [],
   "source": [
    "pd.DataFrame(history.history)[['accuracy', 'val_accuracy']].plot()"
   ]
  },
  {
   "cell_type": "code",
   "execution_count": null,
   "id": "38c9fdac-000c-45c0-bc47-d83860c80490",
   "metadata": {},
   "outputs": [],
   "source": [
    "predictions = model.predict(X_val)\n",
    "\n",
    "predictions = np.round(predictions)\n",
    "\n",
    "print(f'F1 Score  = {np.round(metrics.f1_score(y_true=y_val, y_pred=predictions),5)}')\n",
    "print(f'Precision = {np.round(metrics.precision_score(y_true=y_val, y_pred=predictions),5)}')\n",
    "print(f'Recall    = {np.round(metrics.recall_score(y_true=y_val, y_pred=predictions),5)}')"
   ]
  },
  {
   "cell_type": "code",
   "execution_count": null,
   "id": "7aa4a69d-2462-49a7-a270-f9c48a1f6770",
   "metadata": {},
   "outputs": [],
   "source": [
    "predictions = model.predict(df_test.text.values)\n",
    "predictions = np.round(predictions).astype(int)\n",
    "\n",
    "submission = pd.DataFrame({'id': df_test['id'], 'target': predictions.reshape(-1)})\n",
    "submission.to_csv('submission.csv', index=False)"
   ]
  },
  {
   "cell_type": "markdown",
   "id": "6f35eea6-49b0-4258-9e2e-736c7dee2dac",
   "metadata": {},
   "source": [
    "#### Leaderboard Score\n",
    "\n",
    "<img src=\"score_univ_sen_encoder.png\">"
   ]
  },
  {
   "cell_type": "markdown",
   "id": "ddb47097-75d2-4037-8f6d-0975480dcd7b",
   "metadata": {},
   "source": [
    "### Using universal-sentence-encoder-multilingual embedding + LSTM"
   ]
  },
  {
   "cell_type": "code",
   "execution_count": null,
   "id": "ffa17580-bf04-4058-b2a2-dfc42c177470",
   "metadata": {},
   "outputs": [],
   "source": [
    "model = keras.Sequential([\n",
    "    hub.KerasLayer(\"https://tfhub.dev/google/universal-sentence-encoder-multilingual/3\",\n",
    "                   dtype=tf.string, input_shape=[], output_shape=[]),    \n",
    "    layers.Reshape((-1,512)),\n",
    "    layers.LSTM(4),\n",
    "    layers.Dense(4, activation=\"relu\"),\n",
    "    layers.Dense(1, activation=\"sigmoid\")\n",
    "])\n",
    "\n",
    "model.compile(loss=\"binary_crossentropy\", optimizer=\"adam\",\n",
    "              metrics=[\"accuracy\"])"
   ]
  },
  {
   "cell_type": "code",
   "execution_count": null,
   "id": "2628612c-4f34-4ea1-b01d-13fbd53191f2",
   "metadata": {},
   "outputs": [],
   "source": [
    "history = model.fit(\n",
    "    X_train, y_train, \n",
    "    validation_data=(X_val, y_val),\n",
    "    epochs=8,\n",
    "    verbose=1\n",
    ")"
   ]
  },
  {
   "cell_type": "code",
   "execution_count": null,
   "id": "006e045f-e60b-4886-af52-70bbd5128641",
   "metadata": {},
   "outputs": [],
   "source": [
    "model.evaluate(X_val, y_val)"
   ]
  },
  {
   "cell_type": "code",
   "execution_count": null,
   "id": "7cfb3a1b-d069-41b7-a2a7-67aea852cfc1",
   "metadata": {},
   "outputs": [],
   "source": [
    "pd.DataFrame(history.history)[['loss', 'val_loss']].plot()"
   ]
  },
  {
   "cell_type": "code",
   "execution_count": null,
   "id": "8d3ee039-0f9a-4e83-a746-0f1ca2d21afe",
   "metadata": {},
   "outputs": [],
   "source": [
    "pd.DataFrame(history.history)[['accuracy', 'val_accuracy']].plot()"
   ]
  },
  {
   "cell_type": "code",
   "execution_count": null,
   "id": "9354a439-0a50-420f-8cf7-789e9b816912",
   "metadata": {},
   "outputs": [],
   "source": [
    "predictions = model.predict(X_val)\n",
    "\n",
    "predictions = np.round(predictions)\n",
    "\n",
    "print(f'F1 Score  = {np.round(metrics.f1_score(y_true=y_val, y_pred=predictions),5)}')\n",
    "print(f'Precision = {np.round(metrics.precision_score(y_true=y_val, y_pred=predictions),5)}')\n",
    "print(f'Recall    = {np.round(metrics.recall_score(y_true=y_val, y_pred=predictions),5)}')"
   ]
  },
  {
   "cell_type": "code",
   "execution_count": null,
   "id": "1b0151bb-b7e6-408c-a557-c21fdee7e871",
   "metadata": {},
   "outputs": [],
   "source": [
    "predictions = model.predict(df_test.text.values)\n",
    "predictions = np.round(predictions).astype(int)\n",
    "\n",
    "submission = pd.DataFrame({'id': df_test['id'], 'target': predictions.reshape(-1)})\n",
    "submission.to_csv('submission.csv', index=False)"
   ]
  },
  {
   "cell_type": "markdown",
   "id": "4098f118-9475-419c-8ff3-66d728cea68b",
   "metadata": {},
   "source": [
    "## Using pre-trained BERT"
   ]
  },
  {
   "cell_type": "code",
   "execution_count": null,
   "id": "343bb8a0-1bbb-4fec-98af-8481ab48f8c3",
   "metadata": {},
   "outputs": [],
   "source": [
    "early_stopping_monitor = keras.callbacks.EarlyStopping(\n",
    "    monitor='val_loss',\n",
    "    min_delta=0,\n",
    "    patience=5,\n",
    "    verbose=0,\n",
    "    mode='auto',\n",
    "    baseline=None,\n",
    "    restore_best_weights=True\n",
    ")"
   ]
  },
  {
   "cell_type": "code",
   "execution_count": null,
   "id": "0ec7f1b2-36ba-4e96-baf6-57984c6b3685",
   "metadata": {},
   "outputs": [],
   "source": [
    "text_input = tf.keras.layers.Input(shape=(), dtype=tf.string)\n",
    "\n",
    "preprocessor = hub.KerasLayer(\"https://tfhub.dev/tensorflow/bert_en_uncased_preprocess/3\")\n",
    "\n",
    "encoder_inputs = preprocessor(text_input)\n",
    "\n",
    "encoder = hub.KerasLayer(    \n",
    "    \"https://tfhub.dev/tensorflow/bert_en_uncased_L-12_H-768_A-12/4\",\n",
    "    trainable=False\n",
    ")\n",
    "\n",
    "outputs = encoder(encoder_inputs)\n",
    "\n",
    "pooled_output = outputs[\"pooled_output\"]      # [batch_size, 768].\n",
    "sequence_output = outputs[\"sequence_output\"]  # [batch_size, seq_length, 768].\n",
    "\n",
    "embedding_model = tf.keras.Model(text_input, pooled_output)\n",
    "\n",
    "model = keras.Sequential([\n",
    "    embedding_model,\n",
    "    layers.Dense(1024, activation='relu', activity_regularizer=regularizers.l2(1e-5)),\n",
    "    layers.Dense(1024, activation='relu', activity_regularizer=regularizers.l2(1e-5)),\n",
    "    layers.Dense(1024, activation='relu', activity_regularizer=regularizers.l2(1e-5)),\n",
    "#     layers.Dense(64, activation=\"relu\"),\n",
    "#     layers.Dense(32, activation=\"relu\"),\n",
    "#     layers.Dense(8, activation=\"relu\"),\n",
    "    layers.Dense(1, activation='sigmoid')\n",
    "])\n",
    "\n",
    "model.compile(loss=\"binary_crossentropy\", optimizer=\"adam\",\n",
    "              metrics=[\"accuracy\"])"
   ]
  },
  {
   "cell_type": "code",
   "execution_count": null,
   "id": "45f76d49-1355-4af3-8061-7c33b5a05f5c",
   "metadata": {},
   "outputs": [],
   "source": [
    "history = model.fit(\n",
    "    X_train, y_train, \n",
    "    validation_data=(X_val, y_val),\n",
    "    epochs=25,\n",
    "    batch_size=16,\n",
    "    verbose=1,\n",
    "    callbacks=[early_stopping_monitor]\n",
    ")"
   ]
  },
  {
   "cell_type": "code",
   "execution_count": null,
   "id": "b46ef734-dfa9-449b-bad4-d3e0a77db168",
   "metadata": {},
   "outputs": [],
   "source": [
    "model.evaluate(X_val, y_val)"
   ]
  },
  {
   "cell_type": "code",
   "execution_count": null,
   "id": "f7c2e95a-9af4-408a-a1e5-41407040371c",
   "metadata": {},
   "outputs": [],
   "source": [
    "pd.DataFrame(history.history)[['loss', 'val_loss']].plot()"
   ]
  },
  {
   "cell_type": "code",
   "execution_count": null,
   "id": "97c51d00-5840-4125-ba18-d62451b81a4a",
   "metadata": {},
   "outputs": [],
   "source": [
    "pd.DataFrame(history.history)[['accuracy', 'val_accuracy']].plot()"
   ]
  },
  {
   "cell_type": "code",
   "execution_count": null,
   "id": "f11c4ac1-5053-4525-8697-f14854ebd6db",
   "metadata": {},
   "outputs": [],
   "source": [
    "predictions = model.predict(X_val)\n",
    "\n",
    "predictions = np.round(predictions)\n",
    "\n",
    "print(f'F1 Score  = {np.round(metrics.f1_score(y_true=y_val, y_pred=predictions),5)}')\n",
    "print(f'Precision = {np.round(metrics.precision_score(y_true=y_val, y_pred=predictions),5)}')\n",
    "print(f'Recall    = {np.round(metrics.recall_score(y_true=y_val, y_pred=predictions),5)}')"
   ]
  },
  {
   "cell_type": "code",
   "execution_count": null,
   "id": "fc792a4d-0e0c-49ab-9b6c-24eec5ab34cc",
   "metadata": {},
   "outputs": [],
   "source": [
    "predictions = model.predict(df_test.text.values)\n",
    "predictions = np.round(predictions).astype(int)\n",
    "\n",
    "submission = pd.DataFrame({'id': df_test['id'], 'target': predictions.reshape(-1)})\n",
    "submission.to_csv('submission.csv', index=False)"
   ]
  },
  {
   "cell_type": "markdown",
   "id": "0e704360-d49a-4ff8-b4e2-3e2f9bb53892",
   "metadata": {},
   "source": [
    "# Bidirectional LSTM with trained Embedding and Masking"
   ]
  },
  {
   "cell_type": "code",
   "execution_count": null,
   "id": "7a2d08d8-894d-4986-ad02-329c2c26cb20",
   "metadata": {},
   "outputs": [],
   "source": [
    "max_tokens = 20000\n",
    "max_length = 600\n",
    "\n",
    "text_vectorization = layers.TextVectorization(\n",
    "    max_tokens=max_tokens,\n",
    "    output_mode=\"int\",\n",
    "    output_sequence_length=max_length,\n",
    ")\n",
    "\n",
    "text_vectorization.adapt(df_train.text.values)"
   ]
  },
  {
   "cell_type": "code",
   "execution_count": null,
   "id": "2c62bc75-a2ef-4abf-b0ef-1b5abdecbebf",
   "metadata": {},
   "outputs": [],
   "source": [
    "text_vectorization(\"This layer transforms sentences to sequences of integer numbers\").shape"
   ]
  },
  {
   "cell_type": "code",
   "execution_count": null,
   "id": "59d6b169-b32d-4205-b5e4-c0b875c848ba",
   "metadata": {},
   "outputs": [],
   "source": [
    "model = models.Sequential(\n",
    "    [\n",
    "        text_vectorization,\n",
    "        layers.Embedding(input_dim=max_tokens, output_dim=512, mask_zero=True),\n",
    "#         layers.Bidirectional(layers.LSTM(4, return_sequences=True)),\n",
    "#         layers.Bidirectional(layers.LSTM(16, return_sequences=True)),\n",
    "        layers.Bidirectional(layers.LSTM(4)),        \n",
    "#         layers.Dropout(0.5),\n",
    "        layers.Dense(4, activation='relu'),\n",
    "        layers.Dense(1, activation='sigmoid')\n",
    "    ]\n",
    ")\n",
    "\n",
    "model.compile(\n",
    "    optimizer='rmsprop',\n",
    "    loss='binary_crossentropy',\n",
    "    metrics=['accuracy']\n",
    ")\n",
    "\n",
    "model.summary()"
   ]
  },
  {
   "cell_type": "code",
   "execution_count": null,
   "id": "21a1bc38-fa91-4eff-8f33-13b9551884e8",
   "metadata": {},
   "outputs": [],
   "source": [
    "callbacks = [\n",
    "    keras.callbacks.ModelCheckpoint(\"bidirectional_lstm.tf\", save_best_only=True, save_format='tf')\n",
    "]\n",
    "\n",
    "history = model.fit(\n",
    "    X_train, y_train, \n",
    "#     df_train.text.values, df_train.target.values,\n",
    "    validation_data=(X_val, y_val),\n",
    "    epochs=5,\n",
    "    callbacks=callbacks\n",
    ")"
   ]
  },
  {
   "cell_type": "code",
   "execution_count": null,
   "id": "fd62353e-80d0-47f5-92cb-8d89f9b389b0",
   "metadata": {},
   "outputs": [],
   "source": [
    "pd.DataFrame(history.history)[['loss', 'val_loss']].plot()"
   ]
  },
  {
   "cell_type": "code",
   "execution_count": null,
   "id": "f79c5a62-b961-434b-9477-7175d3d585ec",
   "metadata": {},
   "outputs": [],
   "source": [
    "pd.DataFrame(history.history)[['accuracy', 'val_accuracy']].plot()"
   ]
  },
  {
   "cell_type": "code",
   "execution_count": null,
   "id": "b3eefc26-a524-43ea-bf3f-beba65843a8f",
   "metadata": {},
   "outputs": [],
   "source": [
    "model = models.load_model(\"bidirectional_lstm.tf\")\n",
    "\n",
    "model.evaluate(X_val, y_val)"
   ]
  },
  {
   "cell_type": "code",
   "execution_count": null,
   "id": "9aed9b59-4d90-43d1-b59a-33c22bd9ece6",
   "metadata": {},
   "outputs": [],
   "source": [
    "predictions = model.predict(X_val)\n",
    "\n",
    "predictions = np.round(predictions)\n",
    "\n",
    "print(f'F1 Score  = {np.round(metrics.f1_score(y_true=y_val, y_pred=predictions),5)}')\n",
    "print(f'Precision = {np.round(metrics.precision_score(y_true=y_val, y_pred=predictions),5)}')\n",
    "print(f'Recall    = {np.round(metrics.recall_score(y_true=y_val, y_pred=predictions),5)}')"
   ]
  },
  {
   "cell_type": "code",
   "execution_count": null,
   "id": "f4e19ca7-05c9-4849-ab7c-c91876f04ecb",
   "metadata": {},
   "outputs": [],
   "source": [
    "predictions = model.predict(df_test.text.values)\n",
    "predictions = np.round(predictions).astype(int)\n",
    "\n",
    "submission = pd.DataFrame({'id': df_test['id'], 'target': predictions.reshape(-1)})\n",
    "submission.to_csv('submission.csv', index=False)"
   ]
  },
  {
   "cell_type": "code",
   "execution_count": null,
   "id": "9185e3da-0a28-4884-8ef2-e447a4d639ee",
   "metadata": {},
   "outputs": [],
   "source": []
  },
  {
   "cell_type": "code",
   "execution_count": null,
   "id": "c131ee0e-c00d-4e70-b6b2-2a4be4a379a7",
   "metadata": {},
   "outputs": [],
   "source": []
  }
 ],
 "metadata": {
  "kernelspec": {
   "display_name": "ml",
   "language": "python",
   "name": "ml"
  },
  "language_info": {
   "codemirror_mode": {
    "name": "ipython",
    "version": 3
   },
   "file_extension": ".py",
   "mimetype": "text/x-python",
   "name": "python",
   "nbconvert_exporter": "python",
   "pygments_lexer": "ipython3",
   "version": "3.8.8"
  }
 },
 "nbformat": 4,
 "nbformat_minor": 5
}
