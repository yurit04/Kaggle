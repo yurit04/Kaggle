{
 "cells": [
  {
   "cell_type": "code",
   "execution_count": 1,
   "id": "cd7156d7-5715-49fe-acd2-204b6249cde9",
   "metadata": {},
   "outputs": [],
   "source": [
    "import os\n",
    "\n",
    "import numpy as np\n",
    "import pandas as pd\n",
    "import seaborn as sns\n",
    "sns.set_theme()\n",
    "\n",
    "import sklearn\n",
    "from sklearn import metrics\n",
    "from sklearn.preprocessing import StandardScaler, MinMaxScaler\n",
    "from sklearn.model_selection import train_test_split, GridSearchCV\n",
    "from sklearn import preprocessing, decomposition, model_selection, metrics, pipeline\n",
    "from sklearn.feature_extraction.text import TfidfVectorizer, CountVectorizer\n",
    "from sklearn.decomposition import TruncatedSVD\n",
    "from sklearn.linear_model import LogisticRegression\n",
    "from sklearn.naive_bayes import MultinomialNB\n",
    "\n",
    "import tensorflow as tf\n",
    "from tensorflow import keras\n",
    "from keras import models, layers, optimizers, losses, preprocessing, regularizers\n",
    "import tensorflow_hub as hub\n",
    "import tensorflow_text\n",
    "\n",
    "import xgboost as xgb\n",
    "import catboost as cb\n",
    "\n",
    "from transformers import BertTokenizer, TFBertModel"
   ]
  },
  {
   "cell_type": "code",
   "execution_count": 2,
   "id": "2058061e-2c6e-48b7-bbcc-b67f85fe3731",
   "metadata": {},
   "outputs": [],
   "source": [
    "os.environ[\"WANDB_API_KEY\"] = \"0\" ## to silence warning"
   ]
  },
  {
   "cell_type": "markdown",
   "id": "bff7d826-2307-42a0-9a35-f3438cebf1fe",
   "metadata": {},
   "source": [
    "# Check if GPU is available"
   ]
  },
  {
   "cell_type": "code",
   "execution_count": 3,
   "id": "8c16307b-d847-4de7-9a53-0b8ce894152c",
   "metadata": {},
   "outputs": [
    {
     "data": {
      "text/plain": [
       "[PhysicalDevice(name='/physical_device:GPU:0', device_type='GPU')]"
      ]
     },
     "execution_count": 3,
     "metadata": {},
     "output_type": "execute_result"
    }
   ],
   "source": [
    "tf.config.list_physical_devices(device_type='GPU')"
   ]
  },
  {
   "cell_type": "markdown",
   "id": "652d3023-aabe-46a3-a07c-d068053ac48d",
   "metadata": {},
   "source": [
    "# Load Data"
   ]
  },
  {
   "cell_type": "code",
   "execution_count": 4,
   "id": "114d39cf-47c7-42ab-a1ec-7dd5120a9aaf",
   "metadata": {},
   "outputs": [
    {
     "name": "stdout",
     "output_type": "stream",
     "text": [
      "df_train.shape = (12120, 6)\n",
      "df_test.shape  = (5195, 5)\n",
      "df_all.shape   = (17315, 6)\n"
     ]
    }
   ],
   "source": [
    "df_train = pd.read_csv('../../Data/contradictory-my-dear-watson/train.csv')\n",
    "df_test  = pd.read_csv('../../Data/contradictory-my-dear-watson/test.csv')\n",
    "\n",
    "df_all = pd.concat([df_train, df_test])\n",
    "\n",
    "print(f'df_train.shape = {df_train.shape}')\n",
    "print(f'df_test.shape  = {df_test.shape}')\n",
    "print(f'df_all.shape   = {df_all.shape}')"
   ]
  },
  {
   "cell_type": "code",
   "execution_count": 5,
   "id": "fa8ead9d-daad-4376-b81f-aac1ff770980",
   "metadata": {},
   "outputs": [
    {
     "data": {
      "text/html": [
       "<div>\n",
       "<style scoped>\n",
       "    .dataframe tbody tr th:only-of-type {\n",
       "        vertical-align: middle;\n",
       "    }\n",
       "\n",
       "    .dataframe tbody tr th {\n",
       "        vertical-align: top;\n",
       "    }\n",
       "\n",
       "    .dataframe thead th {\n",
       "        text-align: right;\n",
       "    }\n",
       "</style>\n",
       "<table border=\"1\" class=\"dataframe\">\n",
       "  <thead>\n",
       "    <tr style=\"text-align: right;\">\n",
       "      <th></th>\n",
       "      <th>id</th>\n",
       "      <th>premise</th>\n",
       "      <th>hypothesis</th>\n",
       "      <th>lang_abv</th>\n",
       "      <th>language</th>\n",
       "      <th>label</th>\n",
       "    </tr>\n",
       "  </thead>\n",
       "  <tbody>\n",
       "    <tr>\n",
       "      <th>0</th>\n",
       "      <td>5130fd2cb5</td>\n",
       "      <td>and these comments were considered in formulat...</td>\n",
       "      <td>The rules developed in the interim were put to...</td>\n",
       "      <td>en</td>\n",
       "      <td>English</td>\n",
       "      <td>0</td>\n",
       "    </tr>\n",
       "    <tr>\n",
       "      <th>1</th>\n",
       "      <td>5b72532a0b</td>\n",
       "      <td>These are issues that we wrestle with in pract...</td>\n",
       "      <td>Practice groups are not permitted to work on t...</td>\n",
       "      <td>en</td>\n",
       "      <td>English</td>\n",
       "      <td>2</td>\n",
       "    </tr>\n",
       "  </tbody>\n",
       "</table>\n",
       "</div>"
      ],
      "text/plain": [
       "           id                                            premise  \\\n",
       "0  5130fd2cb5  and these comments were considered in formulat...   \n",
       "1  5b72532a0b  These are issues that we wrestle with in pract...   \n",
       "\n",
       "                                          hypothesis lang_abv language  label  \n",
       "0  The rules developed in the interim were put to...       en  English      0  \n",
       "1  Practice groups are not permitted to work on t...       en  English      2  "
      ]
     },
     "execution_count": 5,
     "metadata": {},
     "output_type": "execute_result"
    }
   ],
   "source": [
    "df_train.head(2)"
   ]
  },
  {
   "cell_type": "code",
   "execution_count": 6,
   "id": "03f25743-002c-45ea-b2e8-bfc2deef9c87",
   "metadata": {},
   "outputs": [
    {
     "data": {
      "image/png": "[encoded data removed]",
      "text/plain": [
       "<Figure size 576x144 with 1 Axes>"
      ]
     },
     "metadata": {},
     "output_type": "display_data"
    }
   ],
   "source": [
    "_ = df_train['label'].value_counts().sort_index().plot.bar(figsize=(8,2), title='Labels Count')"
   ]
  },
  {
   "cell_type": "code",
   "execution_count": 7,
   "id": "c9a03c13-c623-421f-a96e-212237642def",
   "metadata": {},
   "outputs": [
    {
     "name": "stdout",
     "output_type": "stream",
     "text": [
      "<class 'pandas.core.frame.DataFrame'>\n",
      "RangeIndex: 12120 entries, 0 to 12119\n",
      "Data columns (total 6 columns):\n",
      " #   Column      Non-Null Count  Dtype \n",
      "---  ------      --------------  ----- \n",
      " 0   id          12120 non-null  object\n",
      " 1   premise     12120 non-null  object\n",
      " 2   hypothesis  12120 non-null  object\n",
      " 3   lang_abv    12120 non-null  object\n",
      " 4   language    12120 non-null  object\n",
      " 5   label       12120 non-null  int64 \n",
      "dtypes: int64(1), object(5)\n",
      "memory usage: 568.2+ KB\n"
     ]
    }
   ],
   "source": [
    "df_train.info()"
   ]
  },
  {
   "cell_type": "markdown",
   "id": "ebeec7c0-cfad-43e6-963f-3fdc788ecfe6",
   "metadata": {
    "_cell_guid": "a7f5d429-083e-4d81-883f-e032dfb0e236",
    "_uuid": "68cee874-838e-4f0e-9f80-bfebc4a295d0"
   },
   "source": [
    "## Preparing Data for Input"
   ]
  },
  {
   "cell_type": "markdown",
   "id": "c667a04f-9f83-4061-aef6-5eae8ac9b5ea",
   "metadata": {
    "_cell_guid": "f20a33db-a377-43b6-825e-157456ed1092",
    "_uuid": "27e66828-76b9-44f4-ba79-66fe0cb8f922"
   },
   "source": [
    "To start out, we can use a pretrained model. Here, we'll use a multilingual BERT model from huggingface. For more information about BERT, see: https://github.com/google-research/bert/blob/master/multilingual.md\n",
    "\n",
    "First, we download the tokenizer."
   ]
  },
  {
   "cell_type": "code",
   "execution_count": 8,
   "id": "b6e81b36-5d3a-40d3-8ed1-dc74ca5fa2c0",
   "metadata": {
    "_cell_guid": "ddc3e65e-24a4-43dc-98f0-194655d17cfd",
    "_uuid": "0af7b876-e719-474a-b6a5-fef500624b83"
   },
   "outputs": [],
   "source": [
    "model_name = 'bert-base-multilingual-cased'\n",
    "tokenizer = BertTokenizer.from_pretrained(model_name)"
   ]
  },
  {
   "cell_type": "code",
   "execution_count": 9,
   "id": "7ae1ee2e-efcb-4033-b10b-077731ebbe88",
   "metadata": {},
   "outputs": [
    {
     "data": {
      "text/plain": [
       "119547"
      ]
     },
     "execution_count": 9,
     "metadata": {},
     "output_type": "execute_result"
    }
   ],
   "source": [
    "len(tokenizer.vocab)"
   ]
  },
  {
   "cell_type": "markdown",
   "id": "72da0072-1f56-4bb7-9d32-de2e8d4c5ebd",
   "metadata": {
    "_cell_guid": "f6f4ab91-c9b5-4861-a400-89969200b7f4",
    "_uuid": "a6088f3d-8778-4a6c-82b0-db6a5461ec95"
   },
   "source": [
    "### Tokenizers turn sequences of words into arrays of numbers. Let's look at an example:"
   ]
  },
  {
   "cell_type": "code",
   "execution_count": 10,
   "id": "5cc7f8b0-9ec2-4e56-b33e-7be53e391ff8",
   "metadata": {
    "_cell_guid": "55838dc3-c459-4097-b5b2-44d049429e25",
    "_uuid": "2cd597c4-6204-44ba-869a-fbf7c32c711d"
   },
   "outputs": [],
   "source": [
    "def encode_sentence(s):\n",
    "    tokens = list(tokenizer.tokenize(s))\n",
    "    tokens.append('[SEP]')\n",
    "    return tokenizer.convert_tokens_to_ids(tokens)"
   ]
  },
  {
   "cell_type": "code",
   "execution_count": 11,
   "id": "dc9f9534-4c0b-4fbf-99b8-56af90907e63",
   "metadata": {
    "_cell_guid": "f05a9baa-b7fa-44da-89dd-04fdfc149cba",
    "_uuid": "797de062-6743-4455-9ead-73527bf6c3b6"
   },
   "outputs": [
    {
     "data": {
      "text/plain": [
       "[13028, 21852, 10689, 10944, 112, 188, 30181, 60041, 20182, 102]"
      ]
     },
     "execution_count": 11,
     "metadata": {},
     "output_type": "execute_result"
    }
   ],
   "source": [
    "encode_sentence(\"you know they can't really defend themselves\")"
   ]
  },
  {
   "cell_type": "markdown",
   "id": "4e088fb9-bd24-4d0c-9ef5-8e68f5531dfd",
   "metadata": {
    "_cell_guid": "e80e3fcd-513e-4d14-88fd-9417b746c107",
    "_uuid": "1fb6acf3-3c19-494e-83bd-84d6d933e6f0"
   },
   "source": [
    "BERT uses three kind of input data- input word IDs, input masks, and input type IDs.\n",
    "\n",
    "These allow the model to know that the premise and hypothesis are distinct sentences, and also to ignore any padding from the tokenizer.\n",
    "\n",
    "We add a [CLS] token to denote the beginning of the inputs, and a [SEP] token to denote the separation between the premise and the hypothesis. We also need to pad all of the inputs to be the same size. For more information about BERT inputs, see: https://huggingface.co/transformers/model_doc/bert.html#tfbertmodel\n",
    "\n",
    "Now, we're going to encode all of our premise/hypothesis pairs for input into BERT."
   ]
  },
  {
   "cell_type": "markdown",
   "id": "9c0cc8eb-2f43-451b-88d6-d2a881b0b577",
   "metadata": {},
   "source": [
    "## BERT\n",
    "[BERT](https://huggingface.co/transformers/model_doc/bert.html#tfbertmodel) **uses three kind of input data** - input word IDs, input masks, and input type IDs.\n",
    "\n",
    "These allow the model to know that **the premise and hypothesis are distinct sentences**, and also to ignore any padding from the tokenizer.\n",
    "\n",
    "We add a [CLS] token to denote **the beginning of the inputs**, and a [SEP] token to denote the separation between **the premise and the hypothesis**. \n",
    "\n",
    "We also **need to pad** all of the inputs to be the same size.\n",
    "\n",
    "Now, we're going to **encode all of our premise/hypothesis pairs** for input into BERT."
   ]
  },
  {
   "cell_type": "code",
   "execution_count": 12,
   "id": "2521fba1-0fcc-4979-b960-df1b657eb54a",
   "metadata": {
    "_cell_guid": "037b0a29-3e6d-42b6-b13a-328fab19d15d",
    "_uuid": "dedb18d0-63cb-492b-8fe0-b4ebb8819e4c"
   },
   "outputs": [],
   "source": [
    "def bert_encode(hypotheses, premises, tokenizer):\n",
    "    \n",
    "    num_examples = len(hypotheses)\n",
    "    print(\"num_examples = \", num_examples)\n",
    "    \n",
    "    sentence1 = tf.ragged.constant([\n",
    "            encode_sentence(s) for s in np.array(hypotheses)\n",
    "    ])\n",
    "    print(\"sentence1.shape = \", sentence1.shape)\n",
    "    \n",
    "    sentence2 = tf.ragged.constant([\n",
    "        encode_sentence(s) for s in np.array(premises)\n",
    "    ])\n",
    "    print(\"sentence2.shape = \", sentence2.shape)\n",
    "\n",
    "    cls_ = [tokenizer.convert_tokens_to_ids(['[CLS]'])]*sentence1.shape[0]\n",
    "    input_word_ids = tf.concat([cls_, sentence1, sentence2], axis=-1)\n",
    "    print(\"input_word_ids.shape = \", input_word_ids.shape)\n",
    "\n",
    "    input_mask = tf.ones_like(input_word_ids).to_tensor(shape=(input_word_ids.shape[0], 300))\n",
    "    print(\"input_mask.shape = \", input_mask.shape)\n",
    "    \n",
    "    type_cls = tf.zeros_like(cls_)\n",
    "    type_s1 = tf.zeros_like(sentence1)\n",
    "    type_s2 = tf.ones_like(sentence2)\n",
    "    \n",
    "    input_type_ids = tf.concat([type_cls, type_s1, type_s2], axis=-1).to_tensor(shape=(input_word_ids.shape[0], 300))\n",
    "    \n",
    "    inputs = {\n",
    "        'input_word_ids': input_word_ids.to_tensor(shape=(input_word_ids.shape[0], 300)),\n",
    "        'input_mask': input_mask,\n",
    "        'input_type_ids': input_type_ids}\n",
    "    \n",
    "    print()\n",
    "    \n",
    "    return inputs"
   ]
  },
  {
   "cell_type": "code",
   "execution_count": 13,
   "id": "c289868b-b816-4b91-95cc-836a73f2ac46",
   "metadata": {
    "_cell_guid": "fc14d779-d0c6-4585-8e80-ebf539bd132c",
    "_uuid": "697579c5-9f89-421c-8cbc-4321a7c93179"
   },
   "outputs": [
    {
     "name": "stdout",
     "output_type": "stream",
     "text": [
      "num_examples =  12120\n",
      "sentence1.shape =  (12120, None)\n",
      "sentence2.shape =  (12120, None)\n",
      "input_word_ids.shape =  (12120, None)\n",
      "input_mask.shape =  (12120, 300)\n",
      "\n",
      "num_examples =  5195\n",
      "sentence1.shape =  (5195, None)\n",
      "sentence2.shape =  (5195, None)\n",
      "input_word_ids.shape =  (5195, None)\n",
      "input_mask.shape =  (5195, 300)\n",
      "\n"
     ]
    }
   ],
   "source": [
    "train_input = bert_encode(df_train.premise.values, df_train.hypothesis.values, tokenizer)\n",
    "test_input  = bert_encode(df_test.premise.values, df_test.hypothesis.values, tokenizer)"
   ]
  },
  {
   "cell_type": "markdown",
   "id": "3a7b835d-69a7-425d-bbae-4f33dc921192",
   "metadata": {
    "_cell_guid": "3dbd7066-6469-4823-8e09-e2dfa0a68bcc",
    "_uuid": "e1bf9ee4-e872-45d8-a118-a72eb7917d8b"
   },
   "source": [
    "## Creating & Training Model"
   ]
  },
  {
   "cell_type": "markdown",
   "id": "5b1daf52-b017-4815-8b70-0e5a4ea003bd",
   "metadata": {
    "_cell_guid": "7ebc4032-48bf-4bbd-8244-6b4ee38a1f56",
    "_uuid": "33811793-9df3-4d97-84c3-c5367a130cd7"
   },
   "source": [
    "Now, we can incorporate the BERT transformer into a Keras Functional Model. For more information about the Keras Functional API, see: https://www.tensorflow.org/guide/keras/functional.\n",
    "\n",
    "This model was inspired by the model in this notebook: https://www.kaggle.com/tanulsingh077/deep-learning-for-nlp-zero-to-transformers-bert#BERT-and-Its-Implementation-on-this-Competition, which is a wonderful introduction to NLP!"
   ]
  },
  {
   "cell_type": "code",
   "execution_count": 23,
   "id": "d15d1662-21ff-4353-8f87-0429a06cb29b",
   "metadata": {
    "_cell_guid": "69f90af1-4d66-4b83-a264-df23a3a68e26",
    "_uuid": "1094f3ff-6b5b-4b15-9d93-b0065ae586bd"
   },
   "outputs": [],
   "source": [
    "max_len = train_input[\"input_word_ids\"].shape[1]\n",
    "\n",
    "def build_model():    \n",
    "    bert_encoder = TFBertModel.from_pretrained(model_name)\n",
    "    \n",
    "    input_word_ids = tf.keras.Input(shape=(max_len,), dtype=tf.int32, name=\"input_word_ids\")\n",
    "    input_mask = tf.keras.Input(shape=(max_len,), dtype=tf.int32, name=\"input_mask\")\n",
    "    input_type_ids = tf.keras.Input(shape=(max_len,), dtype=tf.int32, name=\"input_type_ids\")\n",
    "    \n",
    "    embedding = bert_encoder([input_word_ids, input_mask, input_type_ids])[0]\n",
    "    \n",
    "    output = tf.keras.layers.Dense(3, activation='softmax')(embedding[:,0,:])\n",
    "    \n",
    "    model = tf.keras.Model(inputs=[input_word_ids, input_mask, input_type_ids], outputs=output)\n",
    "   \n",
    "    model.compile(\n",
    "        optimizer=tf.keras.optimizers.Adam(learning_rate=1e-5), \n",
    "        loss='sparse_categorical_crossentropy', \n",
    "        metrics=['accuracy'],\n",
    "    )\n",
    "    \n",
    "    return model"
   ]
  },
  {
   "cell_type": "code",
   "execution_count": 24,
   "id": "f316dd61-ce60-4ce5-8d32-51eb74f0a721",
   "metadata": {},
   "outputs": [
    {
     "name": "stderr",
     "output_type": "stream",
     "text": [
      "Some layers from the model checkpoint at bert-base-multilingual-cased were not used when initializing TFBertModel: ['mlm___cls', 'nsp___cls']\n",
      "- This IS expected if you are initializing TFBertModel from the checkpoint of a model trained on another task or with another architecture (e.g. initializing a BertForSequenceClassification model from a BertForPreTraining model).\n",
      "- This IS NOT expected if you are initializing TFBertModel from the checkpoint of a model that you expect to be exactly identical (initializing a BertForSequenceClassification model from a BertForSequenceClassification model).\n",
      "All the layers of TFBertModel were initialized from the model checkpoint at bert-base-multilingual-cased.\n",
      "If your task is similar to the task the model of the checkpoint was trained on, you can already use TFBertModel for predictions without further training.\n"
     ]
    },
    {
     "name": "stdout",
     "output_type": "stream",
     "text": [
      "Model: \"model_4\"\n",
      "__________________________________________________________________________________________________\n",
      " Layer (type)                   Output Shape         Param #     Connected to                     \n",
      "==================================================================================================\n",
      " input_word_ids (InputLayer)    [(None, 300)]        0           []                               \n",
      "                                                                                                  \n",
      " input_mask (InputLayer)        [(None, 300)]        0           []                               \n",
      "                                                                                                  \n",
      " input_type_ids (InputLayer)    [(None, 300)]        0           []                               \n",
      "                                                                                                  \n",
      " tf_bert_model_4 (TFBertModel)  TFBaseModelOutputWi  177853440   ['input_word_ids[0][0]',         \n",
      "                                thPooling(last_hidd               'input_mask[0][0]',             \n",
      "                                en_state=(None, 300               'input_type_ids[0][0]']         \n",
      "                                , 768),                                                           \n",
      "                                 pooler_output=(Non                                               \n",
      "                                e, 768),                                                          \n",
      "                                 hidden_states=None                                               \n",
      "                                , attentions=None)                                                \n",
      "                                                                                                  \n",
      " tf.__operators__.getitem_4 (Sl  (None, 768)         0           ['tf_bert_model_4[0][0]']        \n",
      " icingOpLambda)                                                                                   \n",
      "                                                                                                  \n",
      " dense_4 (Dense)                (None, 3)            2307        ['tf.__operators__.getitem_4[0][0\n",
      "                                                                 ]']                              \n",
      "                                                                                                  \n",
      "==================================================================================================\n",
      "Total params: 177,855,747\n",
      "Trainable params: 177,855,747\n",
      "Non-trainable params: 0\n",
      "__________________________________________________________________________________________________\n"
     ]
    }
   ],
   "source": [
    "model = build_model()\n",
    "model.summary()"
   ]
  },
  {
   "cell_type": "code",
   "execution_count": null,
   "id": "64afa36b-c965-4c13-b8c1-cf7e313254c7",
   "metadata": {},
   "outputs": [
    {
     "name": "stdout",
     "output_type": "stream",
     "text": [
      "Epoch 1/20\n",
      "606/606 [==============================] - 163s 268ms/step - loss: 0.9324 - accuracy: 0.5541 - val_loss: 0.8492 - val_accuracy: 0.6221\n",
      "Epoch 2/20\n",
      "606/606 [==============================] - 162s 267ms/step - loss: 0.6778 - accuracy: 0.7090 - val_loss: 0.8437 - val_accuracy: 0.6444\n",
      "Epoch 3/20\n",
      "606/606 [==============================] - 162s 267ms/step - loss: 0.4502 - accuracy: 0.8224 - val_loss: 0.9162 - val_accuracy: 0.6572\n",
      "Epoch 4/20\n",
      "606/606 [==============================] - 162s 267ms/step - loss: 0.2843 - accuracy: 0.8970 - val_loss: 1.0962 - val_accuracy: 0.6568\n",
      "Epoch 5/20\n",
      "606/606 [==============================] - 169s 279ms/step - loss: 0.1677 - accuracy: 0.9414 - val_loss: 1.3773 - val_accuracy: 0.6411\n",
      "Epoch 6/20\n",
      "606/606 [==============================] - 162s 267ms/step - loss: 0.1159 - accuracy: 0.9603 - val_loss: 1.6603 - val_accuracy: 0.6390\n",
      "Epoch 7/20\n",
      "606/606 [==============================] - 162s 267ms/step - loss: 0.0751 - accuracy: 0.9754 - val_loss: 2.1034 - val_accuracy: 0.6394\n",
      "Epoch 8/20\n",
      "606/606 [==============================] - 162s 267ms/step - loss: 0.0732 - accuracy: 0.9728 - val_loss: 1.8552 - val_accuracy: 0.6333\n",
      "Epoch 9/20\n",
      "606/606 [==============================] - 162s 267ms/step - loss: 0.0536 - accuracy: 0.9816 - val_loss: 1.9357 - val_accuracy: 0.6440\n",
      "Epoch 10/20\n",
      "606/606 [==============================] - 162s 268ms/step - loss: 0.0516 - accuracy: 0.9827 - val_loss: 2.0465 - val_accuracy: 0.6423\n",
      "Epoch 11/20\n",
      "606/606 [==============================] - 162s 267ms/step - loss: 0.0445 - accuracy: 0.9835 - val_loss: 2.3262 - val_accuracy: 0.6399\n",
      "Epoch 12/20\n",
      "606/606 [==============================] - 162s 267ms/step - loss: 0.0460 - accuracy: 0.9847 - val_loss: 1.9010 - val_accuracy: 0.6382\n",
      "Epoch 13/20\n",
      "606/606 [==============================] - 162s 268ms/step - loss: 0.0378 - accuracy: 0.9890 - val_loss: 2.0323 - val_accuracy: 0.6456\n",
      "Epoch 14/20\n",
      "606/606 [==============================] - 162s 268ms/step - loss: 0.0289 - accuracy: 0.9900 - val_loss: 2.2999 - val_accuracy: 0.6452\n",
      "Epoch 15/20\n",
      "606/606 [==============================] - 162s 267ms/step - loss: 0.0379 - accuracy: 0.9865 - val_loss: 2.1733 - val_accuracy: 0.6427\n",
      "Epoch 16/20\n",
      "490/606 [=======================>......] - ETA: 28s - loss: 0.0270 - accuracy: 0.9913"
     ]
    }
   ],
   "source": [
    "model_history = model.fit(train_input, \n",
    "                          df_train[\"label\"].values, \n",
    "                          epochs = 20, \n",
    "                          verbose = 1,\n",
    "                          batch_size = 16, \n",
    "                          validation_split = 0.2)"
   ]
  },
  {
   "cell_type": "code",
   "execution_count": null,
   "id": "44685cd7-4620-4de9-9e9d-9cb2a0cf26e1",
   "metadata": {},
   "outputs": [],
   "source": [
    "def plot_NN_history(model_history, suptitle):\n",
    "    # plot data\n",
    "    fig, axes = plt.subplots(nrows=1, ncols=2, figsize=(15,6))\n",
    "    fig.suptitle(suptitle, fontsize=18)\n",
    "    \n",
    "    axes[0].plot(model_history.history['accuracy'], label='train accuracy', color='g', axes=axes[0])\n",
    "    axes[0].plot(model_history.history['val_accuracy'], label='val accuracy', color='r', axes=axes[0])\n",
    "    axes[0].set_title(\"Model Accuracy\", fontsize=16) \n",
    "    axes[0].legend(loc='upper left')\n",
    "\n",
    "    axes[1].plot(model_history.history['loss'], label='train loss', color='g', axes=axes[1])\n",
    "    axes[1].plot(model_history.history['val_loss'], label='val loss', color='r', axes=axes[1])\n",
    "    axes[1].set_title(\"Model Loss\", fontsize=16) \n",
    "    axes[1].legend(loc='upper left')\n",
    "\n",
    "    plt.show()"
   ]
  },
  {
   "cell_type": "code",
   "execution_count": null,
   "id": "1d294d79-ba08-4281-84db-5ae1cd4f23ba",
   "metadata": {},
   "outputs": [],
   "source": [
    "plot_NN_history(model_history, \"BERT\")"
   ]
  },
  {
   "cell_type": "markdown",
   "id": "b3d41cae-f760-42f2-991c-86d4ed551f2f",
   "metadata": {
    "_cell_guid": "87b18b05-30f3-45f9-9c3e-6f8184934bd0",
    "_uuid": "fb1ff888-7684-4888-b861-3c31a3f360b7"
   },
   "source": [
    "## Generating & Submitting Predictions"
   ]
  },
  {
   "cell_type": "code",
   "execution_count": null,
   "id": "306b65d4-fd94-484f-92db-00e17e9f2555",
   "metadata": {
    "_cell_guid": "a7ab0c33-0377-4cb2-b4f9-fc489383fdb7",
    "_uuid": "f9db46a1-1f83-4ddb-85bf-da8f40afe623"
   },
   "outputs": [],
   "source": [
    "predictions = [np.argmax(i) for i in model.predict(test_input)]"
   ]
  },
  {
   "cell_type": "markdown",
   "id": "b9b80d84-d34c-4262-ba76-9e155b092166",
   "metadata": {
    "_cell_guid": "1d0e8e42-2746-4331-95a5-3eb78ca6861c",
    "_uuid": "7b489c00-896d-44af-9371-16c2cf222365"
   },
   "source": [
    "The submission file will consist of the ID column and a prediction column. We can just copy the ID column from the test file, make it a dataframe, and then add our prediction column."
   ]
  },
  {
   "cell_type": "code",
   "execution_count": null,
   "id": "f5fce21f-3273-4835-9dca-5c747b2d9c75",
   "metadata": {
    "_cell_guid": "add7302f-ae26-4e78-b69d-858cacb35991",
    "_uuid": "9e0e34fa-1ef7-4207-a5c3-c21863c7be27"
   },
   "outputs": [],
   "source": [
    "submission = test.id.copy().to_frame()\n",
    "submission['prediction'] = predictions"
   ]
  },
  {
   "cell_type": "code",
   "execution_count": null,
   "id": "77b8ceb4-e194-4752-96e1-2b2f8b6b9723",
   "metadata": {
    "_cell_guid": "d4fdefdc-4839-4962-ae75-6807390a6de7",
    "_uuid": "1d4999aa-10d2-4a88-962a-8f10bded837b"
   },
   "outputs": [],
   "source": [
    "submission.head()"
   ]
  },
  {
   "cell_type": "code",
   "execution_count": null,
   "id": "6267d35d-2de3-4c5c-a6dc-1f97e44a5a56",
   "metadata": {
    "_cell_guid": "84abe9e3-ef04-4dac-97d2-2308a0f11313",
    "_uuid": "b8463f7e-8b2f-4c24-8eb3-a35ec02a2d6e"
   },
   "outputs": [],
   "source": [
    "submission.to_csv(\"submission.csv\", index = False)"
   ]
  },
  {
   "cell_type": "code",
   "execution_count": null,
   "id": "b3bd0cf7-2321-4015-b192-c0a276b46c42",
   "metadata": {},
   "outputs": [],
   "source": []
  },
  {
   "cell_type": "code",
   "execution_count": null,
   "id": "022fe12d-4b7a-4ca1-8214-07945001d3a3",
   "metadata": {},
   "outputs": [],
   "source": []
  },
  {
   "cell_type": "code",
   "execution_count": null,
   "id": "4bdd364e-fb69-4054-ad64-ab16a22a549a",
   "metadata": {},
   "outputs": [],
   "source": []
  },
  {
   "cell_type": "code",
   "execution_count": null,
   "id": "e54416ff-1c13-4e3e-8336-89d094266f14",
   "metadata": {},
   "outputs": [],
   "source": []
  },
  {
   "cell_type": "code",
   "execution_count": null,
   "id": "2ed4107a-2231-4dd1-a0eb-36efbf3afc8f",
   "metadata": {},
   "outputs": [],
   "source": []
  },
  {
   "cell_type": "code",
   "execution_count": null,
   "id": "20eba96e-4c10-4b74-9bfc-b1f6bbdcc936",
   "metadata": {},
   "outputs": [],
   "source": []
  },
  {
   "cell_type": "code",
   "execution_count": null,
   "id": "940aa97c-a3f5-4f06-8b85-b5d37356d4b1",
   "metadata": {},
   "outputs": [],
   "source": []
  },
  {
   "cell_type": "code",
   "execution_count": null,
   "id": "e34469b9-ba1d-42c1-ac44-70d95f99dc59",
   "metadata": {},
   "outputs": [],
   "source": []
  },
  {
   "cell_type": "code",
   "execution_count": null,
   "id": "869f27b8-c2c9-4b12-ad9f-5c747c07cf61",
   "metadata": {},
   "outputs": [],
   "source": []
  },
  {
   "cell_type": "code",
   "execution_count": null,
   "id": "a88a68fa-4c56-48e9-b09d-62c8399ad4b0",
   "metadata": {},
   "outputs": [],
   "source": []
  },
  {
   "cell_type": "code",
   "execution_count": null,
   "id": "c860772a-318e-48f9-980a-317c28f4b508",
   "metadata": {},
   "outputs": [],
   "source": []
  },
  {
   "cell_type": "code",
   "execution_count": null,
   "id": "c0d75458-e5f2-47f1-a73b-d9e2c980a80c",
   "metadata": {},
   "outputs": [],
   "source": []
  },
  {
   "cell_type": "code",
   "execution_count": null,
   "id": "2c4bf63c-1143-483d-b67e-cfbf9817ca8b",
   "metadata": {},
   "outputs": [],
   "source": []
  },
  {
   "cell_type": "code",
   "execution_count": null,
   "id": "32223e46-e13a-4899-bd73-bec14183d8b1",
   "metadata": {},
   "outputs": [],
   "source": []
  },
  {
   "cell_type": "code",
   "execution_count": null,
   "id": "f7fb1d9e-def6-48cd-9eaa-e07df8e9112e",
   "metadata": {},
   "outputs": [],
   "source": []
  },
  {
   "cell_type": "code",
   "execution_count": null,
   "id": "143edb84-e5a3-41c5-b64a-221d4909c41f",
   "metadata": {},
   "outputs": [],
   "source": []
  },
  {
   "cell_type": "code",
   "execution_count": null,
   "id": "46b9b932-67c9-4ff4-ac37-11fd81a37408",
   "metadata": {},
   "outputs": [],
   "source": []
  },
  {
   "cell_type": "code",
   "execution_count": null,
   "id": "34754890-ca88-4639-9904-272cf12e16b4",
   "metadata": {},
   "outputs": [],
   "source": []
  },
  {
   "cell_type": "code",
   "execution_count": null,
   "id": "e4488fbb-aea6-4ef1-b681-b86d794d3c7c",
   "metadata": {},
   "outputs": [],
   "source": []
  },
  {
   "cell_type": "code",
   "execution_count": null,
   "id": "2a22d9fb-bed0-4ab7-8a9a-cd551a9d7dd4",
   "metadata": {},
   "outputs": [],
   "source": []
  },
  {
   "cell_type": "code",
   "execution_count": null,
   "id": "0627cc82-f008-499f-b8ad-c335db845be6",
   "metadata": {},
   "outputs": [],
   "source": []
  },
  {
   "cell_type": "code",
   "execution_count": null,
   "id": "146a0256-25b8-4ce2-8d4b-91e087c9e48d",
   "metadata": {},
   "outputs": [],
   "source": []
  },
  {
   "cell_type": "code",
   "execution_count": null,
   "id": "dc7ec528-499f-4f65-a404-b12b11c4948b",
   "metadata": {},
   "outputs": [],
   "source": []
  },
  {
   "cell_type": "code",
   "execution_count": null,
   "id": "ea901f0a-ddb1-4c0b-b73e-0ff72daa07be",
   "metadata": {},
   "outputs": [],
   "source": []
  },
  {
   "cell_type": "code",
   "execution_count": null,
   "id": "8be5f48b-4b52-420b-a5e6-a249c215ff0f",
   "metadata": {},
   "outputs": [],
   "source": []
  },
  {
   "cell_type": "code",
   "execution_count": null,
   "id": "6099c1ab-047f-47af-9950-12119e710905",
   "metadata": {},
   "outputs": [],
   "source": []
  },
  {
   "cell_type": "code",
   "execution_count": null,
   "id": "5e6e730b-dc83-4220-9c74-7651a9c24861",
   "metadata": {},
   "outputs": [],
   "source": []
  },
  {
   "cell_type": "code",
   "execution_count": null,
   "id": "c73fcc90-a3bd-46f6-9a0c-98587608c1d2",
   "metadata": {},
   "outputs": [],
   "source": []
  },
  {
   "cell_type": "code",
   "execution_count": null,
   "id": "632493f5-30cc-4171-bf21-8345112298f9",
   "metadata": {},
   "outputs": [],
   "source": []
  },
  {
   "cell_type": "code",
   "execution_count": null,
   "id": "ca26ba8c-c700-4dd7-b7cc-e32c79b39189",
   "metadata": {},
   "outputs": [],
   "source": []
  },
  {
   "cell_type": "code",
   "execution_count": null,
   "id": "534136cb-98dc-4442-9e43-5fc1b8d8f0a8",
   "metadata": {},
   "outputs": [],
   "source": []
  },
  {
   "cell_type": "code",
   "execution_count": null,
   "id": "37390fa6-51ed-4b5d-b0cd-eccb0940b021",
   "metadata": {},
   "outputs": [],
   "source": []
  },
  {
   "cell_type": "code",
   "execution_count": null,
   "id": "323bca9d-8c76-437e-a28e-f081cebe48d3",
   "metadata": {},
   "outputs": [],
   "source": []
  },
  {
   "cell_type": "code",
   "execution_count": null,
   "id": "07658e44-bdb4-4c6e-841c-9372ad750da8",
   "metadata": {},
   "outputs": [],
   "source": []
  },
  {
   "cell_type": "code",
   "execution_count": null,
   "id": "d4e0ec09-a5c6-470a-9e71-b829bf8a8c64",
   "metadata": {},
   "outputs": [],
   "source": []
  },
  {
   "cell_type": "code",
   "execution_count": null,
   "id": "66bfa2e4-c982-46a9-832e-e588d95349aa",
   "metadata": {},
   "outputs": [],
   "source": []
  },
  {
   "cell_type": "code",
   "execution_count": null,
   "id": "4357c31f-1fee-492b-9d31-bbd2bd7a9b3b",
   "metadata": {},
   "outputs": [],
   "source": []
  },
  {
   "cell_type": "code",
   "execution_count": null,
   "id": "de0e1218-af79-4665-9502-d8c941b99a53",
   "metadata": {},
   "outputs": [],
   "source": []
  },
  {
   "cell_type": "code",
   "execution_count": null,
   "id": "db00221e-7ded-4685-a6c0-56d91fbdc543",
   "metadata": {},
   "outputs": [],
   "source": []
  },
  {
   "cell_type": "code",
   "execution_count": null,
   "id": "2b136735-ee90-4a1b-8a6b-2521bbe6b1e6",
   "metadata": {},
   "outputs": [],
   "source": []
  },
  {
   "cell_type": "code",
   "execution_count": null,
   "id": "3305c022-4506-492f-a9c1-011a0609fab7",
   "metadata": {},
   "outputs": [],
   "source": []
  },
  {
   "cell_type": "code",
   "execution_count": null,
   "id": "81d7278c-47d4-4839-ab9e-e57482b26a85",
   "metadata": {},
   "outputs": [],
   "source": []
  },
  {
   "cell_type": "code",
   "execution_count": null,
   "id": "d94b6973-1973-4fee-a4a5-c9dfbecc0465",
   "metadata": {},
   "outputs": [],
   "source": []
  },
  {
   "cell_type": "code",
   "execution_count": null,
   "id": "bebd7644-1c65-4549-9e07-8ff8e72726dd",
   "metadata": {},
   "outputs": [],
   "source": []
  },
  {
   "cell_type": "code",
   "execution_count": null,
   "id": "2071c9d4-f3c5-433d-866a-4f259c103888",
   "metadata": {},
   "outputs": [],
   "source": []
  },
  {
   "cell_type": "code",
   "execution_count": null,
   "id": "00242cba-e218-4c04-808d-6991abf711c6",
   "metadata": {},
   "outputs": [],
   "source": []
  },
  {
   "cell_type": "markdown",
   "id": "8db4fa11-fec2-4acb-86a2-cdf7b1b14151",
   "metadata": {},
   "source": [
    "# Train-Test Split"
   ]
  },
  {
   "cell_type": "code",
   "execution_count": null,
   "id": "f9ca46c8-7b3d-4284-9921-7a8695461e36",
   "metadata": {},
   "outputs": [],
   "source": [
    "X_train, X_val, y_train, y_val = train_test_split(\n",
    "    df_train.text.values, df_train.target.values,\n",
    "    stratify=df_train.target.values,\n",
    "    random_state=42,\n",
    "    test_size=0.1,\n",
    "    shuffle=True\n",
    ")\n",
    "\n",
    "print(f'X_train.shape = {X_train.shape} | y_train.shape = {y_train.shape}')\n",
    "print(f'X_val.shape   = {X_val.shape}  | y_val.shape   = {y_val.shape}')"
   ]
  },
  {
   "cell_type": "markdown",
   "id": "7364a190-4865-4740-803e-a0d1c4af99be",
   "metadata": {},
   "source": [
    "# Building Basic Models"
   ]
  },
  {
   "cell_type": "markdown",
   "id": "e717ea20-9387-4fa8-847e-0fca9e7669d3",
   "metadata": {},
   "source": [
    "### Logistic Regression on TF-IDF"
   ]
  },
  {
   "cell_type": "code",
   "execution_count": null,
   "id": "04ccd372-6c25-41df-9ea2-960eda1c25e9",
   "metadata": {},
   "outputs": [],
   "source": [
    "tfv = TfidfVectorizer(\n",
    "    min_df=3,\n",
    "    max_features=None,\n",
    "    strip_accents='unicode',\n",
    "    analyzer='word',\n",
    "    token_pattern=r'\\w{1,}',\n",
    "    ngram_range=(1,3),\n",
    "    use_idf=1,\n",
    "    smooth_idf=1,\n",
    "    sublinear_tf=1,\n",
    "    stop_words='english'\n",
    ")\n",
    "\n",
    "tfv.fit(list(X_train) + list(X_val))\n",
    "\n",
    "X_train_tfv = tfv.transform(X_train)\n",
    "X_val_tfv   = tfv.transform(X_val)\n",
    "\n",
    "print(f'X_train_tfv.shape = {X_train_tfv.shape} | y_train.shape = {y_train.shape}')\n",
    "print(f'X_val_tfv.shape   = {X_val_tfv.shape}  | y_val.shape   = {y_val.shape}')"
   ]
  },
  {
   "cell_type": "code",
   "execution_count": null,
   "id": "6b1061da-7998-4b59-829b-a987253a10e1",
   "metadata": {},
   "outputs": [],
   "source": [
    "clf = LogisticRegression(C=1.0)\n",
    "clf.fit(X_train_tfv, y_train)\n",
    "\n",
    "predictions = clf.predict(X_val_tfv)\n",
    "\n",
    "print(f'F1 Score  = {np.round(metrics.f1_score(y_true=y_val, y_pred=predictions),5)}')\n",
    "print(f'Precision = {np.round(metrics.precision_score(y_true=y_val, y_pred=predictions),5)}')\n",
    "print(f'Recall    = {np.round(metrics.recall_score(y_true=y_val, y_pred=predictions),5)}')"
   ]
  },
  {
   "cell_type": "markdown",
   "id": "2888bb84-84e8-48ce-9449-da263c7e59e7",
   "metadata": {},
   "source": [
    "### Logistic Regression on CountVectorizer"
   ]
  },
  {
   "cell_type": "code",
   "execution_count": null,
   "id": "35c1f552-3b93-440e-bc9a-3341f2041517",
   "metadata": {},
   "outputs": [],
   "source": [
    "ctv = CountVectorizer(\n",
    "    analyzer='word',\n",
    "    token_pattern='\\w{1,}',\n",
    "    ngram_range=(1,3),\n",
    "    stop_words='english',\n",
    ")\n",
    "\n",
    "ctv.fit(list(X_train) + list(X_val))\n",
    "\n",
    "X_train_ctv = ctv.transform(X_train)\n",
    "X_val_ctv   = ctv.transform(X_val)\n",
    "\n",
    "print(f'X_train_ctv.shape = {X_train_ctv.shape} | y_train.shape = {y_train.shape}')\n",
    "print(f'X_val_ctv.shape   = {X_val_ctv.shape}  | y_val.shape   = {y_val.shape}')"
   ]
  },
  {
   "cell_type": "code",
   "execution_count": null,
   "id": "583108d0-a7c3-4c00-94c2-b16212fb7ae5",
   "metadata": {},
   "outputs": [],
   "source": [
    "clf = LogisticRegression(C=1.0)\n",
    "clf.fit(X_train_ctv, y_train)\n",
    "\n",
    "predictions = clf.predict(X_val_ctv)\n",
    "\n",
    "print(f'F1 Score  = {np.round(metrics.f1_score(y_true=y_val, y_pred=predictions),5)}')\n",
    "print(f'Precision = {np.round(metrics.precision_score(y_true=y_val, y_pred=predictions),5)}')\n",
    "print(f'Recall    = {np.round(metrics.recall_score(y_true=y_val, y_pred=predictions),5)}')"
   ]
  },
  {
   "cell_type": "markdown",
   "id": "d72f2f37-f661-43f9-85f4-0c5fb0f8850d",
   "metadata": {},
   "source": [
    "### Naive Bayes on TF-IDF"
   ]
  },
  {
   "cell_type": "code",
   "execution_count": null,
   "id": "60f2a453-2d51-4674-826e-57e58203ab6b",
   "metadata": {},
   "outputs": [],
   "source": [
    "clf = MultinomialNB()\n",
    "clf.fit(X_train_tfv, y_train)\n",
    "\n",
    "predictions = clf.predict(X_val_tfv)\n",
    "\n",
    "print(f'F1 Score  = {np.round(metrics.f1_score(y_true=y_val, y_pred=predictions),5)}')\n",
    "print(f'Precision = {np.round(metrics.precision_score(y_true=y_val, y_pred=predictions),5)}')\n",
    "print(f'Recall    = {np.round(metrics.recall_score(y_true=y_val, y_pred=predictions),5)}')"
   ]
  },
  {
   "cell_type": "markdown",
   "id": "be58f655-1890-44d2-a57b-2e9a50ef91f8",
   "metadata": {},
   "source": [
    "### XGBoost on TF-IDF"
   ]
  },
  {
   "cell_type": "code",
   "execution_count": null,
   "id": "57dd7124-2d8e-4749-a855-dbd6b9df80d6",
   "metadata": {},
   "outputs": [],
   "source": [
    "clf = xgb.XGBClassifier(\n",
    "    max_depth=7, \n",
    "    n_estimators=200, \n",
    "    colsample_bytree=0.8, \n",
    "    subsample=0.8, \n",
    "    nthread=10, \n",
    "    learning_rate=0.1,\n",
    "    use_label_encoder=False,\n",
    "    eval_metric='logloss',\n",
    ")\n",
    "\n",
    "clf.fit(X_train_tfv, y_train)\n",
    "\n",
    "predictions = clf.predict(X_val_tfv)\n",
    "\n",
    "print(f'F1 Score  = {np.round(metrics.f1_score(y_true=y_val, y_pred=predictions),5)}')\n",
    "print(f'Precision = {np.round(metrics.precision_score(y_true=y_val, y_pred=predictions),5)}')\n",
    "print(f'Recall    = {np.round(metrics.recall_score(y_true=y_val, y_pred=predictions),5)}')"
   ]
  },
  {
   "cell_type": "markdown",
   "id": "db2f40fe-c863-4b18-a967-a94bbafbcf94",
   "metadata": {},
   "source": [
    "### XGBoost on CountVectorizer"
   ]
  },
  {
   "cell_type": "code",
   "execution_count": null,
   "id": "7c83f4bd-1e21-4562-86a3-2f47a3999a8e",
   "metadata": {},
   "outputs": [],
   "source": [
    "clf = xgb.XGBClassifier(\n",
    "    max_depth=7, \n",
    "    n_estimators=200, \n",
    "    colsample_bytree=0.8, \n",
    "    subsample=0.8, \n",
    "    nthread=10, \n",
    "    learning_rate=0.1,\n",
    "    use_label_encoder=False,\n",
    "    eval_metric='logloss',\n",
    ")\n",
    "\n",
    "clf.fit(X_train_ctv, y_train)\n",
    "\n",
    "predictions = clf.predict(X_val_ctv)\n",
    "\n",
    "print(f'F1 Score  = {np.round(metrics.f1_score(y_true=y_val, y_pred=predictions),5)}')\n",
    "print(f'Precision = {np.round(metrics.precision_score(y_true=y_val, y_pred=predictions),5)}')\n",
    "print(f'Recall    = {np.round(metrics.recall_score(y_true=y_val, y_pred=predictions),5)}')"
   ]
  },
  {
   "cell_type": "markdown",
   "id": "7af6194c-23d5-4efc-99ff-ca8b39526af4",
   "metadata": {},
   "source": [
    "# Deep Learning"
   ]
  },
  {
   "cell_type": "code",
   "execution_count": null,
   "id": "29ddf7d8-fad2-4b1c-8b97-835c69ec3652",
   "metadata": {},
   "outputs": [],
   "source": [
    "tf.random.set_seed(42)"
   ]
  },
  {
   "cell_type": "code",
   "execution_count": null,
   "id": "d629d061-91f2-4773-8b09-9fb4bb9fabb2",
   "metadata": {},
   "outputs": [],
   "source": [
    "TFHUB_CACHE_DIR = os.path.join(os.curdir, \"my_tfhub_cache\")\n",
    "os.environ[\"TFHUB_CACHE_DIR\"] = TFHUB_CACHE_DIR"
   ]
  },
  {
   "cell_type": "markdown",
   "id": "88b5253e-43ab-4f50-9258-3deed2d0c916",
   "metadata": {},
   "source": [
    "### Using nnlm-en-dim50/1 embedding"
   ]
  },
  {
   "cell_type": "code",
   "execution_count": null,
   "id": "0abe229d-5b3c-4a7d-a0fd-2c6b6a7c6246",
   "metadata": {},
   "outputs": [],
   "source": [
    "model = keras.Sequential([\n",
    "    hub.KerasLayer(\"https://tfhub.dev/google/tf2-preview/nnlm-en-dim50/1\",\n",
    "                   dtype=tf.string, input_shape=[], output_shape=[50]),\n",
    "    keras.layers.Dense(128, activation=\"relu\"),\n",
    "    keras.layers.Dense(1, activation=\"sigmoid\")\n",
    "])\n",
    "\n",
    "model.compile(loss=\"binary_crossentropy\", optimizer=\"adam\",\n",
    "              metrics=[\"accuracy\"])"
   ]
  },
  {
   "cell_type": "code",
   "execution_count": null,
   "id": "395efb33-9684-43ea-984a-373732206327",
   "metadata": {},
   "outputs": [],
   "source": [
    "history = model.fit(\n",
    "    X_train, y_train, \n",
    "    validation_data=(X_val, y_val),\n",
    "    epochs=5,\n",
    "    verbose=0\n",
    ")"
   ]
  },
  {
   "cell_type": "code",
   "execution_count": null,
   "id": "af3d9f2e-7481-4418-8a72-05c585a1235a",
   "metadata": {},
   "outputs": [],
   "source": [
    "model.evaluate(X_val, y_val)"
   ]
  },
  {
   "cell_type": "code",
   "execution_count": null,
   "id": "89f1d181-31e1-420b-b797-34c62a840f22",
   "metadata": {},
   "outputs": [],
   "source": [
    "pd.DataFrame(history.history)[['loss', 'val_loss']].plot()"
   ]
  },
  {
   "cell_type": "code",
   "execution_count": null,
   "id": "d9728878-12cf-4bf8-abc8-fe09b3c6968f",
   "metadata": {},
   "outputs": [],
   "source": [
    "pd.DataFrame(history.history)[['accuracy', 'val_accuracy']].plot()"
   ]
  },
  {
   "cell_type": "code",
   "execution_count": null,
   "id": "8754dd6a-0c55-4561-a526-6d649c279e6e",
   "metadata": {},
   "outputs": [],
   "source": [
    "predictions = model.predict(X_val)\n",
    "\n",
    "predictions = np.round(predictions)\n",
    "\n",
    "print(f'F1 Score  = {np.round(metrics.f1_score(y_true=y_val, y_pred=predictions),5)}')\n",
    "print(f'Precision = {np.round(metrics.precision_score(y_true=y_val, y_pred=predictions),5)}')\n",
    "print(f'Recall    = {np.round(metrics.recall_score(y_true=y_val, y_pred=predictions),5)}')"
   ]
  },
  {
   "cell_type": "markdown",
   "id": "0c87d719-5884-4eb4-a3d0-29d55f7dc844",
   "metadata": {},
   "source": [
    "### Using universal-sentence-encoder-multilingual embedding"
   ]
  },
  {
   "cell_type": "code",
   "execution_count": null,
   "id": "a21736bf-eb1e-47c9-986b-87bdcc48c33e",
   "metadata": {},
   "outputs": [],
   "source": [
    "model = keras.Sequential([\n",
    "    hub.KerasLayer(\"https://tfhub.dev/google/universal-sentence-encoder-multilingual/3\",\n",
    "                   dtype=tf.string, input_shape=[], output_shape=[]),    \n",
    "    layers.Dense(128, activation=\"relu\"),\n",
    "    layers.Dense(1, activation=\"sigmoid\")\n",
    "])\n",
    "\n",
    "model.compile(loss=\"binary_crossentropy\", optimizer=\"adam\",\n",
    "              metrics=[\"accuracy\"])"
   ]
  },
  {
   "cell_type": "code",
   "execution_count": null,
   "id": "0740ee4a-015f-49f9-b4a4-bd69ae68ab5b",
   "metadata": {},
   "outputs": [],
   "source": [
    "history = model.fit(\n",
    "    X_train, y_train, \n",
    "    validation_data=(X_val, y_val),\n",
    "    epochs=2,\n",
    "    verbose=1\n",
    ")"
   ]
  },
  {
   "cell_type": "code",
   "execution_count": null,
   "id": "16631ce4-6f22-4f76-b7a7-748e3bb18e96",
   "metadata": {},
   "outputs": [],
   "source": [
    "model.evaluate(X_val, y_val)"
   ]
  },
  {
   "cell_type": "code",
   "execution_count": null,
   "id": "4e2d5617-26b5-41a7-9a5d-3ad520737c1c",
   "metadata": {},
   "outputs": [],
   "source": [
    "pd.DataFrame(history.history)[['loss', 'val_loss']].plot()"
   ]
  },
  {
   "cell_type": "code",
   "execution_count": null,
   "id": "bb83f539-b8d2-4cd0-a738-c3bdf924a8a9",
   "metadata": {},
   "outputs": [],
   "source": [
    "pd.DataFrame(history.history)[['accuracy', 'val_accuracy']].plot()"
   ]
  },
  {
   "cell_type": "code",
   "execution_count": null,
   "id": "38c9fdac-000c-45c0-bc47-d83860c80490",
   "metadata": {},
   "outputs": [],
   "source": [
    "predictions = model.predict(X_val)\n",
    "\n",
    "predictions = np.round(predictions)\n",
    "\n",
    "print(f'F1 Score  = {np.round(metrics.f1_score(y_true=y_val, y_pred=predictions),5)}')\n",
    "print(f'Precision = {np.round(metrics.precision_score(y_true=y_val, y_pred=predictions),5)}')\n",
    "print(f'Recall    = {np.round(metrics.recall_score(y_true=y_val, y_pred=predictions),5)}')"
   ]
  },
  {
   "cell_type": "code",
   "execution_count": null,
   "id": "7aa4a69d-2462-49a7-a270-f9c48a1f6770",
   "metadata": {},
   "outputs": [],
   "source": [
    "predictions = model.predict(df_test.text.values)\n",
    "predictions = np.round(predictions).astype(int)\n",
    "\n",
    "submission = pd.DataFrame({'id': df_test['id'], 'target': predictions.reshape(-1)})\n",
    "submission.to_csv('submission.csv', index=False)"
   ]
  },
  {
   "cell_type": "markdown",
   "id": "6f35eea6-49b0-4258-9e2e-736c7dee2dac",
   "metadata": {},
   "source": [
    "#### Leaderboard Score\n",
    "\n",
    "<img src=\"score_univ_sen_encoder.png\">"
   ]
  },
  {
   "cell_type": "markdown",
   "id": "ddb47097-75d2-4037-8f6d-0975480dcd7b",
   "metadata": {},
   "source": [
    "### Using universal-sentence-encoder-multilingual embedding + LSTM"
   ]
  },
  {
   "cell_type": "code",
   "execution_count": null,
   "id": "ffa17580-bf04-4058-b2a2-dfc42c177470",
   "metadata": {},
   "outputs": [],
   "source": [
    "model = keras.Sequential([\n",
    "    hub.KerasLayer(\"https://tfhub.dev/google/universal-sentence-encoder-multilingual/3\",\n",
    "                   dtype=tf.string, input_shape=[], output_shape=[]),    \n",
    "    layers.Reshape((-1,512)),\n",
    "    layers.LSTM(4),\n",
    "    layers.Dense(4, activation=\"relu\"),\n",
    "    layers.Dense(1, activation=\"sigmoid\")\n",
    "])\n",
    "\n",
    "model.compile(loss=\"binary_crossentropy\", optimizer=\"adam\",\n",
    "              metrics=[\"accuracy\"])"
   ]
  },
  {
   "cell_type": "code",
   "execution_count": null,
   "id": "2628612c-4f34-4ea1-b01d-13fbd53191f2",
   "metadata": {},
   "outputs": [],
   "source": [
    "history = model.fit(\n",
    "    X_train, y_train, \n",
    "    validation_data=(X_val, y_val),\n",
    "    epochs=8,\n",
    "    verbose=1\n",
    ")"
   ]
  },
  {
   "cell_type": "code",
   "execution_count": null,
   "id": "006e045f-e60b-4886-af52-70bbd5128641",
   "metadata": {},
   "outputs": [],
   "source": [
    "model.evaluate(X_val, y_val)"
   ]
  },
  {
   "cell_type": "code",
   "execution_count": null,
   "id": "7cfb3a1b-d069-41b7-a2a7-67aea852cfc1",
   "metadata": {},
   "outputs": [],
   "source": [
    "pd.DataFrame(history.history)[['loss', 'val_loss']].plot()"
   ]
  },
  {
   "cell_type": "code",
   "execution_count": null,
   "id": "8d3ee039-0f9a-4e83-a746-0f1ca2d21afe",
   "metadata": {},
   "outputs": [],
   "source": [
    "pd.DataFrame(history.history)[['accuracy', 'val_accuracy']].plot()"
   ]
  },
  {
   "cell_type": "code",
   "execution_count": null,
   "id": "9354a439-0a50-420f-8cf7-789e9b816912",
   "metadata": {},
   "outputs": [],
   "source": [
    "predictions = model.predict(X_val)\n",
    "\n",
    "predictions = np.round(predictions)\n",
    "\n",
    "print(f'F1 Score  = {np.round(metrics.f1_score(y_true=y_val, y_pred=predictions),5)}')\n",
    "print(f'Precision = {np.round(metrics.precision_score(y_true=y_val, y_pred=predictions),5)}')\n",
    "print(f'Recall    = {np.round(metrics.recall_score(y_true=y_val, y_pred=predictions),5)}')"
   ]
  },
  {
   "cell_type": "code",
   "execution_count": null,
   "id": "1b0151bb-b7e6-408c-a557-c21fdee7e871",
   "metadata": {},
   "outputs": [],
   "source": [
    "predictions = model.predict(df_test.text.values)\n",
    "predictions = np.round(predictions).astype(int)\n",
    "\n",
    "submission = pd.DataFrame({'id': df_test['id'], 'target': predictions.reshape(-1)})\n",
    "submission.to_csv('submission.csv', index=False)"
   ]
  },
  {
   "cell_type": "markdown",
   "id": "4098f118-9475-419c-8ff3-66d728cea68b",
   "metadata": {},
   "source": [
    "## Using pre-trained BERT"
   ]
  },
  {
   "cell_type": "code",
   "execution_count": null,
   "id": "343bb8a0-1bbb-4fec-98af-8481ab48f8c3",
   "metadata": {},
   "outputs": [],
   "source": [
    "early_stopping_monitor = keras.callbacks.EarlyStopping(\n",
    "    monitor='val_loss',\n",
    "    min_delta=0,\n",
    "    patience=5,\n",
    "    verbose=0,\n",
    "    mode='auto',\n",
    "    baseline=None,\n",
    "    restore_best_weights=True\n",
    ")"
   ]
  },
  {
   "cell_type": "code",
   "execution_count": null,
   "id": "0ec7f1b2-36ba-4e96-baf6-57984c6b3685",
   "metadata": {},
   "outputs": [],
   "source": [
    "text_input = tf.keras.layers.Input(shape=(), dtype=tf.string)\n",
    "\n",
    "preprocessor = hub.KerasLayer(\"https://tfhub.dev/tensorflow/bert_en_uncased_preprocess/3\")\n",
    "\n",
    "encoder_inputs = preprocessor(text_input)\n",
    "\n",
    "encoder = hub.KerasLayer(    \n",
    "    \"https://tfhub.dev/tensorflow/bert_en_uncased_L-12_H-768_A-12/4\",\n",
    "    trainable=False\n",
    ")\n",
    "\n",
    "outputs = encoder(encoder_inputs)\n",
    "\n",
    "pooled_output = outputs[\"pooled_output\"]      # [batch_size, 768].\n",
    "sequence_output = outputs[\"sequence_output\"]  # [batch_size, seq_length, 768].\n",
    "\n",
    "embedding_model = tf.keras.Model(text_input, pooled_output)\n",
    "\n",
    "model = keras.Sequential([\n",
    "    embedding_model,\n",
    "    layers.Dense(1024, activation='relu', activity_regularizer=regularizers.l2(1e-5)),\n",
    "    layers.Dense(1024, activation='relu', activity_regularizer=regularizers.l2(1e-5)),\n",
    "    layers.Dense(1024, activation='relu', activity_regularizer=regularizers.l2(1e-5)),\n",
    "#     layers.Dense(64, activation=\"relu\"),\n",
    "#     layers.Dense(32, activation=\"relu\"),\n",
    "#     layers.Dense(8, activation=\"relu\"),\n",
    "    layers.Dense(1, activation='sigmoid')\n",
    "])\n",
    "\n",
    "model.compile(loss=\"binary_crossentropy\", optimizer=\"adam\",\n",
    "              metrics=[\"accuracy\"])"
   ]
  },
  {
   "cell_type": "code",
   "execution_count": null,
   "id": "45f76d49-1355-4af3-8061-7c33b5a05f5c",
   "metadata": {},
   "outputs": [],
   "source": [
    "history = model.fit(\n",
    "    X_train, y_train, \n",
    "    validation_data=(X_val, y_val),\n",
    "    epochs=25,\n",
    "    batch_size=16,\n",
    "    verbose=1,\n",
    "    callbacks=[early_stopping_monitor]\n",
    ")"
   ]
  },
  {
   "cell_type": "code",
   "execution_count": null,
   "id": "b46ef734-dfa9-449b-bad4-d3e0a77db168",
   "metadata": {},
   "outputs": [],
   "source": [
    "model.evaluate(X_val, y_val)"
   ]
  },
  {
   "cell_type": "code",
   "execution_count": null,
   "id": "f7c2e95a-9af4-408a-a1e5-41407040371c",
   "metadata": {},
   "outputs": [],
   "source": [
    "pd.DataFrame(history.history)[['loss', 'val_loss']].plot()"
   ]
  },
  {
   "cell_type": "code",
   "execution_count": null,
   "id": "97c51d00-5840-4125-ba18-d62451b81a4a",
   "metadata": {},
   "outputs": [],
   "source": [
    "pd.DataFrame(history.history)[['accuracy', 'val_accuracy']].plot()"
   ]
  },
  {
   "cell_type": "code",
   "execution_count": null,
   "id": "f11c4ac1-5053-4525-8697-f14854ebd6db",
   "metadata": {},
   "outputs": [],
   "source": [
    "predictions = model.predict(X_val)\n",
    "\n",
    "predictions = np.round(predictions)\n",
    "\n",
    "print(f'F1 Score  = {np.round(metrics.f1_score(y_true=y_val, y_pred=predictions),5)}')\n",
    "print(f'Precision = {np.round(metrics.precision_score(y_true=y_val, y_pred=predictions),5)}')\n",
    "print(f'Recall    = {np.round(metrics.recall_score(y_true=y_val, y_pred=predictions),5)}')"
   ]
  },
  {
   "cell_type": "code",
   "execution_count": null,
   "id": "fc792a4d-0e0c-49ab-9b6c-24eec5ab34cc",
   "metadata": {},
   "outputs": [],
   "source": [
    "predictions = model.predict(df_test.text.values)\n",
    "predictions = np.round(predictions).astype(int)\n",
    "\n",
    "submission = pd.DataFrame({'id': df_test['id'], 'target': predictions.reshape(-1)})\n",
    "submission.to_csv('submission.csv', index=False)"
   ]
  },
  {
   "cell_type": "markdown",
   "id": "0e704360-d49a-4ff8-b4e2-3e2f9bb53892",
   "metadata": {},
   "source": [
    "# Bidirectional LSTM with trained Embedding and Masking"
   ]
  },
  {
   "cell_type": "code",
   "execution_count": null,
   "id": "7a2d08d8-894d-4986-ad02-329c2c26cb20",
   "metadata": {},
   "outputs": [],
   "source": [
    "max_tokens = 20000\n",
    "max_length = 600\n",
    "\n",
    "text_vectorization = layers.TextVectorization(\n",
    "    max_tokens=max_tokens,\n",
    "    output_mode=\"int\",\n",
    "    output_sequence_length=max_length,\n",
    ")\n",
    "\n",
    "text_vectorization.adapt(df_train.text.values)"
   ]
  },
  {
   "cell_type": "code",
   "execution_count": null,
   "id": "2c62bc75-a2ef-4abf-b0ef-1b5abdecbebf",
   "metadata": {},
   "outputs": [],
   "source": [
    "text_vectorization(\"This layer transforms sentences to sequences of integer numbers\").shape"
   ]
  },
  {
   "cell_type": "code",
   "execution_count": null,
   "id": "59d6b169-b32d-4205-b5e4-c0b875c848ba",
   "metadata": {},
   "outputs": [],
   "source": [
    "model = models.Sequential(\n",
    "    [\n",
    "        text_vectorization,\n",
    "        layers.Embedding(input_dim=max_tokens, output_dim=512, mask_zero=True),\n",
    "#         layers.Bidirectional(layers.LSTM(4, return_sequences=True)),\n",
    "#         layers.Bidirectional(layers.LSTM(16, return_sequences=True)),\n",
    "        layers.Bidirectional(layers.LSTM(4)),        \n",
    "#         layers.Dropout(0.5),\n",
    "        layers.Dense(4, activation='relu'),\n",
    "        layers.Dense(1, activation='sigmoid')\n",
    "    ]\n",
    ")\n",
    "\n",
    "model.compile(\n",
    "    optimizer='rmsprop',\n",
    "    loss='binary_crossentropy',\n",
    "    metrics=['accuracy']\n",
    ")\n",
    "\n",
    "model.summary()"
   ]
  },
  {
   "cell_type": "code",
   "execution_count": null,
   "id": "21a1bc38-fa91-4eff-8f33-13b9551884e8",
   "metadata": {},
   "outputs": [],
   "source": [
    "callbacks = [\n",
    "    keras.callbacks.ModelCheckpoint(\"bidirectional_lstm.tf\", save_best_only=True, save_format='tf')\n",
    "]\n",
    "\n",
    "history = model.fit(\n",
    "    X_train, y_train, \n",
    "#     df_train.text.values, df_train.target.values,\n",
    "    validation_data=(X_val, y_val),\n",
    "    epochs=5,\n",
    "    callbacks=callbacks\n",
    ")"
   ]
  },
  {
   "cell_type": "code",
   "execution_count": null,
   "id": "fd62353e-80d0-47f5-92cb-8d89f9b389b0",
   "metadata": {},
   "outputs": [],
   "source": [
    "pd.DataFrame(history.history)[['loss', 'val_loss']].plot()"
   ]
  },
  {
   "cell_type": "code",
   "execution_count": null,
   "id": "f79c5a62-b961-434b-9477-7175d3d585ec",
   "metadata": {},
   "outputs": [],
   "source": [
    "pd.DataFrame(history.history)[['accuracy', 'val_accuracy']].plot()"
   ]
  },
  {
   "cell_type": "code",
   "execution_count": null,
   "id": "b3eefc26-a524-43ea-bf3f-beba65843a8f",
   "metadata": {},
   "outputs": [],
   "source": [
    "model = models.load_model(\"bidirectional_lstm.tf\")\n",
    "\n",
    "model.evaluate(X_val, y_val)"
   ]
  },
  {
   "cell_type": "code",
   "execution_count": null,
   "id": "9aed9b59-4d90-43d1-b59a-33c22bd9ece6",
   "metadata": {},
   "outputs": [],
   "source": [
    "predictions = model.predict(X_val)\n",
    "\n",
    "predictions = np.round(predictions)\n",
    "\n",
    "print(f'F1 Score  = {np.round(metrics.f1_score(y_true=y_val, y_pred=predictions),5)}')\n",
    "print(f'Precision = {np.round(metrics.precision_score(y_true=y_val, y_pred=predictions),5)}')\n",
    "print(f'Recall    = {np.round(metrics.recall_score(y_true=y_val, y_pred=predictions),5)}')"
   ]
  },
  {
   "cell_type": "code",
   "execution_count": null,
   "id": "f4e19ca7-05c9-4849-ab7c-c91876f04ecb",
   "metadata": {},
   "outputs": [],
   "source": [
    "predictions = model.predict(df_test.text.values)\n",
    "predictions = np.round(predictions).astype(int)\n",
    "\n",
    "submission = pd.DataFrame({'id': df_test['id'], 'target': predictions.reshape(-1)})\n",
    "submission.to_csv('submission.csv', index=False)"
   ]
  },
  {
   "cell_type": "code",
   "execution_count": null,
   "id": "9185e3da-0a28-4884-8ef2-e447a4d639ee",
   "metadata": {},
   "outputs": [],
   "source": []
  },
  {
   "cell_type": "code",
   "execution_count": null,
   "id": "c131ee0e-c00d-4e70-b6b2-2a4be4a379a7",
   "metadata": {},
   "outputs": [],
   "source": []
  }
 ],
 "metadata": {
  "kernelspec": {
   "display_name": "tr",
   "language": "python",
   "name": "tr"
  },
  "language_info": {
   "codemirror_mode": {
    "name": "ipython",
    "version": 3
   },
   "file_extension": ".py",
   "mimetype": "text/x-python",
   "name": "python",
   "nbconvert_exporter": "python",
   "pygments_lexer": "ipython3",
   "version": "3.8.8"
  }
 },
 "nbformat": 4,
 "nbformat_minor": 5
}
